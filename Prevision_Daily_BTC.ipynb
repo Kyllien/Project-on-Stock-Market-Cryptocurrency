{
  "cells": [
    {
      "cell_type": "markdown",
      "metadata": {
        "id": "EfDdrOeG2Vvu"
      },
      "source": [
        "# Pré Requis"
      ]
    },
    {
      "cell_type": "code",
      "execution_count": null,
      "metadata": {
        "colab": {
          "base_uri": "https://localhost:8080/"
        },
        "id": "cGB_6xmH1pgp",
        "outputId": "2f9cd174-e278-4b78-8dd9-a9a105e64d13"
      },
      "outputs": [
        {
          "output_type": "stream",
          "name": "stdout",
          "text": [
            "Mounted at /content/gdrive\n"
          ]
        }
      ],
      "source": [
        "#Connect to google drive\n",
        "from google.colab import drive\n",
        "drive.mount('/content/gdrive')\n",
        "import os\n",
        "os.chdir(\"/content/gdrive/My Drive\")"
      ]
    },
    {
      "cell_type": "code",
      "execution_count": null,
      "metadata": {
        "colab": {
          "base_uri": "https://localhost:8080/"
        },
        "id": "we792L2Z2NQd",
        "outputId": "1d559e59-2ff6-4ad2-bddd-b69b84dfe654"
      },
      "outputs": [
        {
          "output_type": "stream",
          "name": "stdout",
          "text": [
            "Looking in indexes: https://pypi.org/simple, https://us-python.pkg.dev/colab-wheels/public/simple/\n",
            "Collecting finta\n",
            "  Downloading finta-1.3-py3-none-any.whl (29 kB)\n",
            "Requirement already satisfied: numpy in /usr/local/lib/python3.7/dist-packages (from finta) (1.21.6)\n",
            "Requirement already satisfied: pandas in /usr/local/lib/python3.7/dist-packages (from finta) (1.3.5)\n",
            "Requirement already satisfied: python-dateutil>=2.7.3 in /usr/local/lib/python3.7/dist-packages (from pandas->finta) (2.8.2)\n",
            "Requirement already satisfied: pytz>=2017.3 in /usr/local/lib/python3.7/dist-packages (from pandas->finta) (2022.2.1)\n",
            "Requirement already satisfied: six>=1.5 in /usr/local/lib/python3.7/dist-packages (from python-dateutil>=2.7.3->pandas->finta) (1.15.0)\n",
            "Installing collected packages: finta\n",
            "Successfully installed finta-1.3\n",
            "Looking in indexes: https://pypi.org/simple, https://us-python.pkg.dev/colab-wheels/public/simple/\n",
            "Collecting pycoingecko\n",
            "  Downloading pycoingecko-3.0.0-py3-none-any.whl (8.6 kB)\n",
            "Requirement already satisfied: requests in /usr/local/lib/python3.7/dist-packages (from pycoingecko) (2.23.0)\n",
            "Requirement already satisfied: chardet<4,>=3.0.2 in /usr/local/lib/python3.7/dist-packages (from requests->pycoingecko) (3.0.4)\n",
            "Requirement already satisfied: idna<3,>=2.5 in /usr/local/lib/python3.7/dist-packages (from requests->pycoingecko) (2.10)\n",
            "Requirement already satisfied: certifi>=2017.4.17 in /usr/local/lib/python3.7/dist-packages (from requests->pycoingecko) (2022.6.15)\n",
            "Requirement already satisfied: urllib3!=1.25.0,!=1.25.1,<1.26,>=1.21.1 in /usr/local/lib/python3.7/dist-packages (from requests->pycoingecko) (1.24.3)\n",
            "Installing collected packages: pycoingecko\n",
            "Successfully installed pycoingecko-3.0.0\n",
            "Looking in indexes: https://pypi.org/simple, https://us-python.pkg.dev/colab-wheels/public/simple/\n",
            "Collecting mplfinance\n",
            "  Downloading mplfinance-0.12.9b1-py3-none-any.whl (70 kB)\n",
            "\u001b[K     |████████████████████████████████| 70 kB 3.2 MB/s \n",
            "\u001b[?25hRequirement already satisfied: pandas in /usr/local/lib/python3.7/dist-packages (from mplfinance) (1.3.5)\n",
            "Requirement already satisfied: matplotlib in /usr/local/lib/python3.7/dist-packages (from mplfinance) (3.2.2)\n",
            "Requirement already satisfied: numpy>=1.11 in /usr/local/lib/python3.7/dist-packages (from matplotlib->mplfinance) (1.21.6)\n",
            "Requirement already satisfied: python-dateutil>=2.1 in /usr/local/lib/python3.7/dist-packages (from matplotlib->mplfinance) (2.8.2)\n",
            "Requirement already satisfied: cycler>=0.10 in /usr/local/lib/python3.7/dist-packages (from matplotlib->mplfinance) (0.11.0)\n",
            "Requirement already satisfied: pyparsing!=2.0.4,!=2.1.2,!=2.1.6,>=2.0.1 in /usr/local/lib/python3.7/dist-packages (from matplotlib->mplfinance) (3.0.9)\n",
            "Requirement already satisfied: kiwisolver>=1.0.1 in /usr/local/lib/python3.7/dist-packages (from matplotlib->mplfinance) (1.4.4)\n",
            "Requirement already satisfied: typing-extensions in /usr/local/lib/python3.7/dist-packages (from kiwisolver>=1.0.1->matplotlib->mplfinance) (4.1.1)\n",
            "Requirement already satisfied: six>=1.5 in /usr/local/lib/python3.7/dist-packages (from python-dateutil>=2.1->matplotlib->mplfinance) (1.15.0)\n",
            "Requirement already satisfied: pytz>=2017.3 in /usr/local/lib/python3.7/dist-packages (from pandas->mplfinance) (2022.2.1)\n",
            "Installing collected packages: mplfinance\n",
            "Successfully installed mplfinance-0.12.9b1\n"
          ]
        }
      ],
      "source": [
        "!pip install finta\n",
        "!pip install pycoingecko\n",
        "!pip install mplfinance"
      ]
    },
    {
      "cell_type": "code",
      "execution_count": null,
      "metadata": {
        "id": "mhEAoor_126j"
      },
      "outputs": [],
      "source": [
        "import numpy as np\n",
        "import pandas as pd\n",
        "import matplotlib.pyplot as plt\n",
        "import requests\n",
        "import json\n",
        "import time\n",
        "from datetime import date, timedelta, datetime\n",
        "from finta import TA\n",
        "import mplfinance as mpf"
      ]
    },
    {
      "cell_type": "markdown",
      "metadata": {
        "id": "pZpnX7sE2bO9"
      },
      "source": [
        "# Fonction"
      ]
    },
    {
      "cell_type": "markdown",
      "metadata": {
        "id": "zHj1IqDlD-lH"
      },
      "source": [
        "## Get Data"
      ]
    },
    {
      "cell_type": "code",
      "execution_count": null,
      "metadata": {
        "id": "tXK4nFLmfOZJ"
      },
      "outputs": [],
      "source": [
        "def daily_price_historical(symbol, comparison_symbol, limit=1, aggregate=1, exchange='', allData='true'):\n",
        "    url = 'https://min-api.cryptocompare.com/data/histoday?fsym={}&tsym={}&limit={}&aggregate={}&allData={}'\\\n",
        "            .format(symbol.upper(), comparison_symbol.upper(), limit, aggregate, allData)\n",
        "    if exchange:\n",
        "        url += '&e={}'.format(exchange)\n",
        "    page = requests.get(url)\n",
        "    data = page.json()['Data']\n",
        "    df = pd.DataFrame(data)\n",
        "    if not df.empty:\n",
        "      df['timestamp'] = [datetime.fromtimestamp(d) for d in df.time]\n",
        "    return df"
      ]
    },
    {
      "cell_type": "markdown",
      "metadata": {
        "id": "bDbcphZeEBcj"
      },
      "source": [
        "## Strategie"
      ]
    },
    {
      "cell_type": "code",
      "execution_count": null,
      "metadata": {
        "id": "MkhY8F5_3B3k"
      },
      "outputs": [],
      "source": [
        "def StrategyTRIMA(df):\n",
        "  l=[\"NEUTRAL\"]\n",
        "  c=0\n",
        "  for i in range(1,len(df)):\n",
        "    if df[\"TRIMA30\"][i]>df[\"TRIMA90\"][i] and df[\"TRIMA30\"][i-1]<=df[\"TRIMA90\"][i-1]:\n",
        "      l.append(\"BUY\")\n",
        "      c=1\n",
        "    elif df[\"TRIMA30\"][i]<df[\"TRIMA90\"][i] and df[\"TRIMA30\"][i-1]>=df[\"TRIMA90\"][i-1]:\n",
        "      l.append(\"SELL\")\n",
        "      c=2\n",
        "    else:\n",
        "      if c==1:\n",
        "        l.append(\"NEUTRAL +\")\n",
        "      elif c==2 :\n",
        "        l.append(\"NEUTRAL -\")\n",
        "      else:\n",
        "        l.append(\"NEUTRAL\")\n",
        "  df[\"Strat_TRIMA\"]=l\n",
        "  return df"
      ]
    },
    {
      "cell_type": "code",
      "execution_count": null,
      "metadata": {
        "id": "kDVUkdin8mec"
      },
      "outputs": [],
      "source": [
        "def StrategyRSI(df):\n",
        "  l=[\"NEUTRAL\"]\n",
        "  c=0\n",
        "  for i in range(1,len(df)):\n",
        "    if df[\"RSI\"][i]<20:\n",
        "      c=1\n",
        "      l.append(\"BUY\")\n",
        "    elif df[\"RSI\"][i]>80:\n",
        "      c=2\n",
        "      l.append(\"SELL\")\n",
        "    else:\n",
        "      if c==1:\n",
        "        l.append(\"NEUTRAL +\")\n",
        "      elif c==2 :\n",
        "        l.append(\"NEUTRAL -\")\n",
        "      else:\n",
        "        l.append(\"NEUTRAL\")\n",
        "  df[\"Strat_RSI\"]=l\n",
        "  return df"
      ]
    },
    {
      "cell_type": "code",
      "execution_count": null,
      "metadata": {
        "id": "9eW4pCA9_Bkz"
      },
      "outputs": [],
      "source": [
        "def StrategyEMA(df):\n",
        "  l=[\"NEUTRAL\"]\n",
        "  c=0\n",
        "  for i in range(1,len(df)):\n",
        "    if df[\"EMA7\"][i]>df[\"EMA20\"][i] and df[\"EMA7\"][i-1]<=df[\"EMA20\"][i-1] and df[\"EMA7\"][i]>df[\"EMA50\"][i] and df[\"EMA20\"][i]>df[\"EMA50\"][i]:\n",
        "      l.append(\"BUY\")\n",
        "      c=1\n",
        "    elif df[\"EMA7\"][i]<df[\"EMA20\"][i] and df[\"EMA7\"][i-1]>=df[\"EMA20\"][i-1] and df[\"EMA7\"][i]<df[\"EMA50\"][i] and df[\"EMA20\"][i]<df[\"EMA50\"][i]:\n",
        "      l.append(\"SELL\")\n",
        "      c=2\n",
        "    else:\n",
        "      if c==1:\n",
        "        l.append(\"NEUTRAL +\")\n",
        "      elif c==2 :\n",
        "        l.append(\"NEUTRAL -\")\n",
        "      else:\n",
        "        l.append(\"NEUTRAL\")\n",
        "  df[\"Strat_EMA\"]=l\n",
        "  return df"
      ]
    },
    {
      "cell_type": "code",
      "execution_count": null,
      "metadata": {
        "id": "BuTzttGXDXKs"
      },
      "outputs": [],
      "source": [
        "def StrategyMACD(df):\n",
        "  l=[\"NEUTRAL\"]\n",
        "  c=0\n",
        "  for i in range(1,len(df)):\n",
        "    if df[\"MACD\"][i]>df[\"SIGNAL\"][i] and df[\"MACD\"][i-1]<=df[\"SIGNAL\"][i-1] and df[\"MACD\"][i]>0:\n",
        "      l.append(\"BUY\")\n",
        "      c=1\n",
        "    elif df[\"MACD\"][i]<df[\"SIGNAL\"][i] and df[\"MACD\"][i-1]>=df[\"SIGNAL\"][i-1] and df[\"MACD\"][i]<0:\n",
        "      l.append(\"SELL\")\n",
        "      c=2\n",
        "    else:\n",
        "      if c==1 :\n",
        "        l.append(\"NEUTRAL +\")\n",
        "      elif c==2 :\n",
        "        l.append(\"NEUTRAL -\")\n",
        "      else:\n",
        "        l.append(\"NEUTRAL\")\n",
        "  df[\"Strat_MACD\"]=l\n",
        "  return df"
      ]
    },
    {
      "cell_type": "code",
      "execution_count": null,
      "metadata": {
        "id": "Z6EdH0SSGxTN"
      },
      "outputs": [],
      "source": [
        "def StrategyDMI(df):\n",
        "  l=[\"NEUTRAL\"]\n",
        "  c=0\n",
        "  for i in range(1,len(df)):\n",
        "    if df[\"DI+\"][i]>df[\"DI-\"][i] and df[\"DI+\"][i-1]<=df[\"DI-\"][i-1] and df[\"ADX\"][i]>=30 :\n",
        "      l.append(\"BUY\")\n",
        "      c=1\n",
        "    elif df[\"DI+\"][i]<df[\"DI-\"][i] and df[\"DI+\"][i-1]>=df[\"DI-\"][i-1] and df[\"ADX\"][i]>=30:\n",
        "      l.append(\"SELL\")\n",
        "      c=2\n",
        "    else:\n",
        "      if c==1 :\n",
        "        l.append(\"NEUTRAL +\")\n",
        "      elif c==2 :\n",
        "        l.append(\"NEUTRAL -\")\n",
        "      else:\n",
        "        l.append(\"NEUTRAL\")\n",
        "  df[\"Strat_DMI\"]=l\n",
        "  return df"
      ]
    },
    {
      "cell_type": "code",
      "execution_count": null,
      "metadata": {
        "id": "RaFP3giHdYku"
      },
      "outputs": [],
      "source": [
        "def StrategySAR(df):\n",
        "  l=[\"NEUTRAL\"]\n",
        "  c=0\n",
        "  for i in range(1,len(df)):\n",
        "    if df[\"SAR\"][i]>df[\"close\"][i] and df[\"SAR\"][i-1]<=df[\"close\"][i-1]:\n",
        "      l.append(\"BUY\")\n",
        "      c=1\n",
        "    elif df[\"SAR\"][i]<df[\"close\"][i] and df[\"SAR\"][i-1]>=df[\"close\"][i-1]:\n",
        "      l.append(\"SELL\")\n",
        "      c=2\n",
        "    else:\n",
        "      if c==1 :\n",
        "        l.append(\"NEUTRAL +\")\n",
        "      elif c==2 :\n",
        "        l.append(\"NEUTRAL -\")\n",
        "      else:\n",
        "        l.append(\"NEUTRAL\")\n",
        "  df[\"Strat_SAR\"]=l\n",
        "  return df"
      ]
    },
    {
      "cell_type": "code",
      "execution_count": null,
      "metadata": {
        "id": "nPbtSpEigDuW"
      },
      "outputs": [],
      "source": [
        "def StrategyWILL(df):\n",
        "  l=[\"NEUTRAL\"]\n",
        "  c=0\n",
        "  for i in range(1,len(df)):\n",
        "    if df[\"close\"][i]>df[\"SMA100\"][i] and df[\"close\"][i-1]<=df[\"SMA100\"][i-1] and df['Williams'][i]>-50:\n",
        "      l.append(\"BUY\")\n",
        "      c=1\n",
        "    elif df[\"close\"][i]<df[\"SMA100\"][i] and df[\"close\"][i-1]>=df[\"SMA100\"][i-1] and df['Williams'][i]<-50:\n",
        "      l.append(\"SELL\")\n",
        "      c=2\n",
        "    else:\n",
        "      if c==1 :\n",
        "        l.append(\"NEUTRAL +\")\n",
        "      elif c==2 :\n",
        "        l.append(\"NEUTRAL -\")\n",
        "      else:\n",
        "        l.append(\"NEUTRAL\")\n",
        "  df[\"Strat_Will_SMA\"]=l\n",
        "  return df"
      ]
    },
    {
      "cell_type": "code",
      "execution_count": null,
      "metadata": {
        "id": "7DwyskhgkEWQ"
      },
      "outputs": [],
      "source": [
        "def StrategyWMA(df):\n",
        "  l=[\"NEUTRAL\"]\n",
        "  c=0\n",
        "  for i in range(1,len(df)):\n",
        "    if df[\"WMA15\"][i]>df[\"WMA30\"][i] and df[\"WMA15\"][i-1]<=df[\"WMA30\"][i-1]:\n",
        "      l.append(\"BUY\")\n",
        "      c=1\n",
        "    elif df[\"WMA15\"][i]<df[\"WMA30\"][i] and df[\"WMA15\"][i-1]>=df[\"WMA30\"][i-1]:\n",
        "      l.append(\"SELL\")\n",
        "      c=2\n",
        "    else:\n",
        "      if c==1 :\n",
        "        l.append(\"NEUTRAL +\")\n",
        "      elif c==2 :\n",
        "        l.append(\"NEUTRAL -\")\n",
        "      else:\n",
        "        l.append(\"NEUTRAL\")\n",
        "  df[\"Strat_WMA\"]=l\n",
        "  return df"
      ]
    },
    {
      "cell_type": "code",
      "execution_count": null,
      "metadata": {
        "id": "rcfklBWIq75M"
      },
      "outputs": [],
      "source": [
        "def StrategyCCI(df):\n",
        "  l=[\"NEUTRAL\"]\n",
        "  c=0\n",
        "  for i in range(1,len(df)):\n",
        "    if df[\"CCI\"][i]>-100 and df[\"CCI\"][i-1]<=-100:\n",
        "      l.append(\"BUY\")\n",
        "      c=1\n",
        "    elif df[\"CCI\"][i]<100 and df[\"CCI\"][i-1]>=100:\n",
        "      l.append(\"SELL\")\n",
        "      c=2\n",
        "    else:\n",
        "      if c==1 :\n",
        "        l.append(\"NEUTRAL +\")\n",
        "      elif c==2 :\n",
        "        l.append(\"NEUTRAL -\")\n",
        "      else:\n",
        "        l.append(\"NEUTRAL\")\n",
        "  df[\"Strat_CCI\"]=l\n",
        "  return df"
      ]
    },
    {
      "cell_type": "code",
      "execution_count": null,
      "metadata": {
        "id": "pGKVj71iEi1i"
      },
      "outputs": [],
      "source": [
        "def InitStrat(df2):\n",
        "  df2=StrategyTRIMA(df2)\n",
        "  df2=StrategyRSI(df2)\n",
        "  df2=StrategyEMA(df2)\n",
        "  df2=StrategyMACD(df2)\n",
        "  df2=StrategyDMI(df2)\n",
        "  df2=StrategySAR(df2)\n",
        "  df2=StrategyWILL(df2)\n",
        "  df2=StrategyCCI(df2)\n",
        "  df2=StrategyWMA(df2)\n",
        "  return df2"
      ]
    },
    {
      "cell_type": "markdown",
      "metadata": {
        "id": "7Lg5784NEHBo"
      },
      "source": [
        "## Calcul Perf Strat"
      ]
    },
    {
      "cell_type": "code",
      "execution_count": null,
      "metadata": {
        "id": "-5BY_YL4mQ9m"
      },
      "outputs": [],
      "source": [
        "def ReturnStrategy(df,Strat):\n",
        "  portfolio = 10000\n",
        "  l=[10000]\n",
        "  for i in range(1,len(df)):\n",
        "    rd=((df[\"close\"][i]-df[\"close\"][i-1])/df[\"close\"][i-1])+1\n",
        "    if df[Strat][i-1] == 'BUY' or df[Strat][i-1] == 'NEUTRAL +':\n",
        "      portfolio=portfolio*rd\n",
        "    elif df[Strat][i-1] == 'SELL' or df[Strat][i-1] == 'NEUTRAL -':\n",
        "      portfolio=portfolio/rd\n",
        "    l.append(portfolio)\n",
        "  return l"
      ]
    },
    {
      "cell_type": "code",
      "execution_count": null,
      "metadata": {
        "id": "2FS-U5hNwOgg"
      },
      "outputs": [],
      "source": [
        "def CompareStrat(df,liste):\n",
        "  l=[]\n",
        "  for i in liste:\n",
        "    Strat=\"Strat_\"+i\n",
        "    l.append(ReturnStrategy(df,Strat))\n",
        "  df2=pd.DataFrame(l).transpose()\n",
        "  df2.columns=liste\n",
        "  df2.set_index(df.index,inplace=True)\n",
        "  return df2"
      ]
    },
    {
      "cell_type": "markdown",
      "metadata": {
        "id": "_ArxwqKAEOv1"
      },
      "source": [
        "## Indicateur techniques"
      ]
    },
    {
      "cell_type": "code",
      "execution_count": null,
      "metadata": {
        "id": "47g74uFIK59c"
      },
      "outputs": [],
      "source": [
        "def InitIndiTech(df2):\n",
        "  df2['RSI'] = TA.RSI(df2)\n",
        "  df2['TRIMA30'] = TA.TRIMA(df2,30)\n",
        "  df2['TRIMA90'] = TA.TRIMA(df2,90)\n",
        "  df2[\"EMA7\"] = TA.EMA(df2,7)\n",
        "  df2[\"EMA20\"] = TA.EMA(df2,20)\n",
        "  df2[\"EMA50\"] = TA.EMA(df2,50)\n",
        "  df2[\"EMA100\"] = TA.EMA(df2,100)\n",
        "  df2[\"EMA200\"] = TA.EMA(df2,200)\n",
        "  df2['ADX']=TA.ADX(df2)\n",
        "  df2['SAR']=TA.SAR(df2)\n",
        "  df2[\"Williams\"]=TA.WILLIAMS(df2,14)\n",
        "  df2[\"SMA100\"]=TA.SMA(df2,100)\n",
        "  df2[\"CCI\"]=TA.CCI(df2)\n",
        "  df2[\"ADL\"]=TA.ADL(df2)\n",
        "  df2[\"AO\"]=TA.AO(df2)\n",
        "  df2[\"UO\"]=TA.UO(df2)\n",
        "  df2['CHAIKIN']=TA.CHAIKIN(df2)\n",
        "  df2['WMA15']=TA.WMA(df2,15)\n",
        "  df2['WMA30']=TA.WMA(df2,30)\n",
        "  df2['ATR']=TA.ATR(df2)\n",
        "  df2=pd.concat([df2,TA.WILLIAMS_FRACTAL(df2)], axis=1)\n",
        "  df2=pd.concat([df2,TA.PIVOT_FIB(df2)], axis=1)\n",
        "  df2=pd.concat([df2, TA.MACD(df2)], axis=1)\n",
        "  df2=pd.concat([df2, TA.DMI(df2)], axis=1)\n",
        "  df2=pd.concat([df2, TA.EBBP(df2)], axis=1)\n",
        "  df2=pd.concat([df2, TA.BBANDS(df2)], axis=1)\n",
        "  df2=pd.concat([df2, TA.ICHIMOKU(df2)[[\"TENKAN\",'KIJUN','senkou_span_a','SENKOU']]], axis=1)\n",
        "  df2['BearishFractal'] = df2['BearishFractal'].fillna(0)\n",
        "  df2['BullishFractal'] = df2['BullishFractal'].fillna(0)\n",
        "  df2.dropna(inplace=True)\n",
        "  return df2"
      ]
    },
    {
      "cell_type": "markdown",
      "metadata": {
        "id": "iGa9i4FBElc7"
      },
      "source": [
        "## Strat sur Strat"
      ]
    },
    {
      "cell_type": "code",
      "execution_count": null,
      "metadata": {
        "id": "yZRe960yRcX5"
      },
      "outputs": [],
      "source": [
        "def BestStrat(df2,listeStrat):\n",
        "  l=[]\n",
        "  l2=[]\n",
        "  l3=[]\n",
        "  l4=[]\n",
        "  df3=df2[(df2.index>=(datetime.today()-timedelta(400)).strftime('%Y-%m-%d'))]\n",
        "  for i in range(31,len(df3)):\n",
        "    df=df3[(df3.index<=(df3.index[i]).strftime('%Y-%m-%d'))]\n",
        "    df_stratM=CompareStrat(df.tail(30),listeStrat)\n",
        "    df_stratW=CompareStrat(df.tail(7),listeStrat)\n",
        "    df_stratD=CompareStrat(df.tail(5),listeStrat)\n",
        "    name=df_stratW.sort_values(by=df_stratW.tail(1).index.strftime('%Y-%m-%d')[0],axis=1,ascending=False).columns[:3].tolist()\n",
        "    \n",
        "    c=0\n",
        "    for i in name:\n",
        "      if df2[df2.index==df_stratW.tail(1).index.strftime('%Y-%m-%d')[0]]['Strat_'+i][0] == 'NEUTRAL -' or df2[df2.index==df_stratW.tail(1).index.strftime('%Y-%m-%d')[0]]['Strat_'+i][0] == 'SELL' :\n",
        "        c=c-1\n",
        "      elif df2[df2.index==df_stratW.tail(1).index.strftime('%Y-%m-%d')[0]]['Strat_'+i][0] == 'NEUTRAL +' or df2[df2.index==df_stratW.tail(1).index.strftime('%Y-%m-%d')[0]]['Strat_'+i][0] == 'BUY' :\n",
        "        c=c+1\n",
        "    #Strat\n",
        "    if c>0:\n",
        "      l.append('BUY')\n",
        "    elif c<0:\n",
        "      l.append('SELL')\n",
        "    else:\n",
        "      l.append('NEUTRAL')\n",
        "    #Best Month\n",
        "    name=df_stratM.sort_values(by=df_stratM.tail(1).index.strftime('%Y-%m-%d')[0],axis=1,ascending=False).columns[:3].tolist()\n",
        "    if df2[df2.index==df_stratM.tail(1).index.strftime('%Y-%m-%d')[0]]['Strat_'+ name[0]][0] == 'BUY' or df2[df2.index==df_stratM.tail(1).index.strftime('%Y-%m-%d')[0]]['Strat_'+ name[0]][0] == 'NEUTRAL +':\n",
        "      l2.append('BUY')\n",
        "    elif df2[df2.index==df_stratM.tail(1).index.strftime('%Y-%m-%d')[0]]['Strat_'+ name[0]][0] == 'SELL' or df2[df2.index==df_stratM.tail(1).index.strftime('%Y-%m-%d')[0]]['Strat_'+ name[0]][0] == 'NEUTRAL -':\n",
        "      l2.append('SELL')\n",
        "    else:\n",
        "      l2.append('NEUTRAL')\n",
        "    name=df_stratW.sort_values(by=df_stratW.tail(1).index.strftime('%Y-%m-%d')[0],axis=1,ascending=False).columns[:3].tolist()\n",
        "    #Best Weekly\n",
        "    if df2[df2.index==df_stratW.tail(1).index.strftime('%Y-%m-%d')[0]]['Strat_'+ name[0]][0] == 'BUY' or df2[df2.index==df_stratW.tail(1).index.strftime('%Y-%m-%d')[0]]['Strat_'+ name[0]][0] == 'NEUTRAL +':\n",
        "      l3.append('BUY')\n",
        "    elif df2[df2.index==df_stratW.tail(1).index.strftime('%Y-%m-%d')[0]]['Strat_'+ name[0]][0] == 'SELL' or df2[df2.index==df_stratW.tail(1).index.strftime('%Y-%m-%d')[0]]['Strat_'+ name[0]][0] == 'NEUTRAL -':\n",
        "      l3.append('SELL')\n",
        "    else:\n",
        "      l3.append('NEUTRAL')\n",
        "    name=df_stratD.sort_values(by=df_stratD.tail(1).index.strftime('%Y-%m-%d')[0],axis=1,ascending=False).columns[:3].tolist()\n",
        "    #Best Day\n",
        "    if df2[df2.index==df_stratD.tail(1).index.strftime('%Y-%m-%d')[0]]['Strat_'+ name[0]][0] == 'BUY' or df2[df2.index==df_stratD.tail(1).index.strftime('%Y-%m-%d')[0]]['Strat_'+ name[0]][0] == 'NEUTRAL +':\n",
        "      l4.append('BUY')\n",
        "    elif df2[df2.index==df_stratD.tail(1).index.strftime('%Y-%m-%d')[0]]['Strat_'+ name[0]][0] == 'SELL' or df2[df2.index==df_stratD.tail(1).index.strftime('%Y-%m-%d')[0]]['Strat_'+ name[0]][0] == 'NEUTRAL -':\n",
        "      l4.append('SELL')\n",
        "    else:\n",
        "      l4.append('NEUTRAL')\n",
        "    \n",
        "  df4=df2.tail(370)\n",
        "  df4[\"Strat_Multi\"]=l\n",
        "  df4['Strat_BestMonth']=l2\n",
        "  df4['Strat_BestWeek']=l3\n",
        "  df4['Strat_BestDay']=l4\n",
        "  return df4"
      ]
    },
    {
      "cell_type": "code",
      "execution_count": null,
      "metadata": {
        "id": "0pw7OIfgbw_U"
      },
      "outputs": [],
      "source": [
        "def GetBestStrat(listeStrat,listeCoin):\n",
        "  dico = {}\n",
        "  l=[]\n",
        "  listeS=listeStrat+['Multi','BestMonth','BestWeek','BestDay']\n",
        "  for i in listeCoin:\n",
        "    df=daily_price_historical(i, 'USD')\n",
        "    df2=df[[\"high\",\"low\",\"open\",\"close\",\"timestamp\",\"volumeto\"]]\n",
        "    df2.rename(columns={'timestamp':'Date','volumeto':'volume'},inplace=True)\n",
        "    df2.set_index(['Date'],inplace=True)\n",
        "    df2=df2[df2['close']!=0]\n",
        "    df2=InitIndiTech(df2)\n",
        "    df2=InitStrat(df2)\n",
        "    df3=BestStrat(df2,listeStrat)\n",
        "    \n",
        "    #YTD\n",
        "    dfYTD=CompareStrat(df3[df3.index>=str(datetime.today().year)+'-01-01'],listeS)\n",
        "    #Yearly\n",
        "    dfY=CompareStrat(df3[df3.index>=(datetime.today()-timedelta(364)).strftime('%Y-%m-%d')],listeS)\n",
        "    #Monthly\n",
        "    dfM=CompareStrat(df3[df3.index>=(datetime.today()-timedelta(30)).strftime('%Y-%m-%d')],listeS)\n",
        "    #Weekly\n",
        "    dfW=CompareStrat(df3[df3.index>=(datetime.today()-timedelta(6)).strftime('%Y-%m-%d')],listeS)\n",
        "\n",
        "    #init in dico\n",
        "    listeVal=[df3,dfYTD,dfY,dfM,dfW]\n",
        "    listeName=[i,i+\"Portfolio_YTD\",i+\"Portfolio_Y\",i+\"Portfolio_M\",i+\"Portfolio_W\"]\n",
        "    for j in range(len(listeVal)):\n",
        "      dico[listeName[j]]=listeVal[j]\n",
        "    name=dfM.sort_values(by=dfM.tail(1).index.strftime('%Y-%m-%d')[0],axis=1,ascending=False).columns[:3]\n",
        "    print(name)\n",
        "    if df3['Strat_'+name[0]].tail(1)[0] == 'NEUTRAL +' or df3['Strat_'+name[0]].tail(1)[0] == 'BUY':\n",
        "      signal='BULLISH'\n",
        "    elif df3['Strat_'+name[0]].tail(1)[0] == 'NEUTRAL -' or df3['Strat_'+name[0]].tail(1)[0] == 'SELL':\n",
        "      signal='BEARISH'\n",
        "    else:\n",
        "      signal='NEUTRAL'\n",
        "    rd_StratM=(dfM[name[0]].tail(1)[0]-dfM[name[0]].head(1)[0])/dfM[name[0]].head(1)[0]\n",
        "    rd_StratW=(dfW[name[0]].tail(1)[0]-dfW[name[0]].head(1)[0])/dfW[name[0]].head(1)[0]\n",
        "    rd_StratYTD=(dfYTD[name[0]].tail(1)[0]-dfYTD[name[0]].head(1)[0])/dfYTD[name[0]].head(1)[0]\n",
        "\n",
        "    # rd = dfY['BestMonth'].tail(1)[0]\n",
        "    # daily_std = np.std(dfY[\"BestMonth\"])\n",
        "    # std = daily_std * 365 ** 0.5\n",
        "    # sharpe = rd/std\n",
        "\n",
        "    rdM=(df3[df3.index==(datetime.today()).strftime('%Y-%m-%d')]['close'][0]-df3[df3.index>=(datetime.today()-timedelta(29)).strftime('%Y-%m-%d')]['close'][0])/df3[df3.index>=(datetime.today()-timedelta(29)).strftime('%Y-%m-%d')]['close'][0]\n",
        "    rdW=(df3[df3.index==(datetime.today()).strftime('%Y-%m-%d')]['close'][0]-df3[df3.index>=(datetime.today()-timedelta(6)).strftime('%Y-%m-%d')]['close'][0])/df3[df3.index>=(datetime.today()-timedelta(6)).strftime('%Y-%m-%d')]['close'][0]\n",
        "    rdYTD=(df3[df3.index==(datetime.today()).strftime('%Y-%m-%d')]['close'][0]-df3[df3.index>=str(datetime.today().year)+'-01-01']['close'][0])/df3[df3.index>=str(datetime.today().year)+'-01-01']['close'][0]\n",
        "\n",
        "    l.append([signal,rd_StratYTD,rd_StratM,rd_StratW,rdYTD,rdM,rdW,name[0]])\n",
        "  return dico, l"
      ]
    },
    {
      "cell_type": "markdown",
      "metadata": {
        "id": "hhbHtbt62jIo"
      },
      "source": [
        "# Test"
      ]
    },
    {
      "cell_type": "code",
      "execution_count": null,
      "metadata": {
        "colab": {
          "base_uri": "https://localhost:8080/"
        },
        "id": "FSG4aqCK2vQv",
        "outputId": "93b82337-af9b-4267-e1f9-20f80c64d4ad"
      },
      "outputs": [
        {
          "name": "stderr",
          "output_type": "stream",
          "text": [
            "/usr/local/lib/python3.7/dist-packages/pandas/core/frame.py:5047: SettingWithCopyWarning: \n",
            "A value is trying to be set on a copy of a slice from a DataFrame\n",
            "\n",
            "See the caveats in the documentation: https://pandas.pydata.org/pandas-docs/stable/user_guide/indexing.html#returning-a-view-versus-a-copy\n",
            "  errors=errors,\n"
          ]
        }
      ],
      "source": [
        "# df=daily_price_historical('XRP', 'USD')\n",
        "# df2=df[[\"high\",\"low\",\"open\",\"close\",\"timestamp\",\"volumeto\"]]\n",
        "# df2.rename(columns={'timestamp':'Date','volumeto':'volume'},inplace=True)\n",
        "# df2.set_index(['Date'],inplace=True)\n",
        "# df2=df2[df2['close']!=0]\n",
        "# df2.dropna(inplace=True)"
      ]
    },
    {
      "cell_type": "code",
      "execution_count": null,
      "metadata": {
        "colab": {
          "base_uri": "https://localhost:8080/"
        },
        "id": "ItyKCY_OLzlz",
        "outputId": "354cd870-c54a-4ce2-d28c-a95bbcfe9e45"
      },
      "outputs": [
        {
          "name": "stderr",
          "output_type": "stream",
          "text": [
            "/usr/local/lib/python3.7/dist-packages/pandas/core/frame.py:5047: SettingWithCopyWarning: \n",
            "A value is trying to be set on a copy of a slice from a DataFrame\n",
            "\n",
            "See the caveats in the documentation: https://pandas.pydata.org/pandas-docs/stable/user_guide/indexing.html#returning-a-view-versus-a-copy\n",
            "  errors=errors,\n",
            "/usr/local/lib/python3.7/dist-packages/ipykernel_launcher.py:52: SettingWithCopyWarning: \n",
            "A value is trying to be set on a copy of a slice from a DataFrame.\n",
            "Try using .loc[row_indexer,col_indexer] = value instead\n",
            "\n",
            "See the caveats in the documentation: https://pandas.pydata.org/pandas-docs/stable/user_guide/indexing.html#returning-a-view-versus-a-copy\n",
            "/usr/local/lib/python3.7/dist-packages/ipykernel_launcher.py:53: SettingWithCopyWarning: \n",
            "A value is trying to be set on a copy of a slice from a DataFrame.\n",
            "Try using .loc[row_indexer,col_indexer] = value instead\n",
            "\n",
            "See the caveats in the documentation: https://pandas.pydata.org/pandas-docs/stable/user_guide/indexing.html#returning-a-view-versus-a-copy\n",
            "/usr/local/lib/python3.7/dist-packages/ipykernel_launcher.py:54: SettingWithCopyWarning: \n",
            "A value is trying to be set on a copy of a slice from a DataFrame.\n",
            "Try using .loc[row_indexer,col_indexer] = value instead\n",
            "\n",
            "See the caveats in the documentation: https://pandas.pydata.org/pandas-docs/stable/user_guide/indexing.html#returning-a-view-versus-a-copy\n",
            "/usr/local/lib/python3.7/dist-packages/ipykernel_launcher.py:55: SettingWithCopyWarning: \n",
            "A value is trying to be set on a copy of a slice from a DataFrame.\n",
            "Try using .loc[row_indexer,col_indexer] = value instead\n",
            "\n",
            "See the caveats in the documentation: https://pandas.pydata.org/pandas-docs/stable/user_guide/indexing.html#returning-a-view-versus-a-copy\n"
          ]
        },
        {
          "name": "stdout",
          "output_type": "stream",
          "text": [
            "Index(['Multi', 'BestWeek', 'BestDay'], dtype='object')\n"
          ]
        },
        {
          "name": "stderr",
          "output_type": "stream",
          "text": [
            "/usr/local/lib/python3.7/dist-packages/pandas/core/frame.py:5047: SettingWithCopyWarning: \n",
            "A value is trying to be set on a copy of a slice from a DataFrame\n",
            "\n",
            "See the caveats in the documentation: https://pandas.pydata.org/pandas-docs/stable/user_guide/indexing.html#returning-a-view-versus-a-copy\n",
            "  errors=errors,\n",
            "/usr/local/lib/python3.7/dist-packages/ipykernel_launcher.py:52: SettingWithCopyWarning: \n",
            "A value is trying to be set on a copy of a slice from a DataFrame.\n",
            "Try using .loc[row_indexer,col_indexer] = value instead\n",
            "\n",
            "See the caveats in the documentation: https://pandas.pydata.org/pandas-docs/stable/user_guide/indexing.html#returning-a-view-versus-a-copy\n",
            "/usr/local/lib/python3.7/dist-packages/ipykernel_launcher.py:53: SettingWithCopyWarning: \n",
            "A value is trying to be set on a copy of a slice from a DataFrame.\n",
            "Try using .loc[row_indexer,col_indexer] = value instead\n",
            "\n",
            "See the caveats in the documentation: https://pandas.pydata.org/pandas-docs/stable/user_guide/indexing.html#returning-a-view-versus-a-copy\n",
            "/usr/local/lib/python3.7/dist-packages/ipykernel_launcher.py:54: SettingWithCopyWarning: \n",
            "A value is trying to be set on a copy of a slice from a DataFrame.\n",
            "Try using .loc[row_indexer,col_indexer] = value instead\n",
            "\n",
            "See the caveats in the documentation: https://pandas.pydata.org/pandas-docs/stable/user_guide/indexing.html#returning-a-view-versus-a-copy\n",
            "/usr/local/lib/python3.7/dist-packages/ipykernel_launcher.py:55: SettingWithCopyWarning: \n",
            "A value is trying to be set on a copy of a slice from a DataFrame.\n",
            "Try using .loc[row_indexer,col_indexer] = value instead\n",
            "\n",
            "See the caveats in the documentation: https://pandas.pydata.org/pandas-docs/stable/user_guide/indexing.html#returning-a-view-versus-a-copy\n"
          ]
        },
        {
          "name": "stdout",
          "output_type": "stream",
          "text": [
            "Index(['WMA', 'DMI', 'Multi'], dtype='object')\n"
          ]
        },
        {
          "name": "stderr",
          "output_type": "stream",
          "text": [
            "/usr/local/lib/python3.7/dist-packages/pandas/core/frame.py:5047: SettingWithCopyWarning: \n",
            "A value is trying to be set on a copy of a slice from a DataFrame\n",
            "\n",
            "See the caveats in the documentation: https://pandas.pydata.org/pandas-docs/stable/user_guide/indexing.html#returning-a-view-versus-a-copy\n",
            "  errors=errors,\n",
            "/usr/local/lib/python3.7/dist-packages/ipykernel_launcher.py:52: SettingWithCopyWarning: \n",
            "A value is trying to be set on a copy of a slice from a DataFrame.\n",
            "Try using .loc[row_indexer,col_indexer] = value instead\n",
            "\n",
            "See the caveats in the documentation: https://pandas.pydata.org/pandas-docs/stable/user_guide/indexing.html#returning-a-view-versus-a-copy\n",
            "/usr/local/lib/python3.7/dist-packages/ipykernel_launcher.py:53: SettingWithCopyWarning: \n",
            "A value is trying to be set on a copy of a slice from a DataFrame.\n",
            "Try using .loc[row_indexer,col_indexer] = value instead\n",
            "\n",
            "See the caveats in the documentation: https://pandas.pydata.org/pandas-docs/stable/user_guide/indexing.html#returning-a-view-versus-a-copy\n",
            "/usr/local/lib/python3.7/dist-packages/ipykernel_launcher.py:54: SettingWithCopyWarning: \n",
            "A value is trying to be set on a copy of a slice from a DataFrame.\n",
            "Try using .loc[row_indexer,col_indexer] = value instead\n",
            "\n",
            "See the caveats in the documentation: https://pandas.pydata.org/pandas-docs/stable/user_guide/indexing.html#returning-a-view-versus-a-copy\n",
            "/usr/local/lib/python3.7/dist-packages/ipykernel_launcher.py:55: SettingWithCopyWarning: \n",
            "A value is trying to be set on a copy of a slice from a DataFrame.\n",
            "Try using .loc[row_indexer,col_indexer] = value instead\n",
            "\n",
            "See the caveats in the documentation: https://pandas.pydata.org/pandas-docs/stable/user_guide/indexing.html#returning-a-view-versus-a-copy\n"
          ]
        },
        {
          "name": "stdout",
          "output_type": "stream",
          "text": [
            "Index(['CCI', 'BestDay', 'Multi'], dtype='object')\n"
          ]
        },
        {
          "name": "stderr",
          "output_type": "stream",
          "text": [
            "/usr/local/lib/python3.7/dist-packages/pandas/core/frame.py:5047: SettingWithCopyWarning: \n",
            "A value is trying to be set on a copy of a slice from a DataFrame\n",
            "\n",
            "See the caveats in the documentation: https://pandas.pydata.org/pandas-docs/stable/user_guide/indexing.html#returning-a-view-versus-a-copy\n",
            "  errors=errors,\n",
            "/usr/local/lib/python3.7/dist-packages/ipykernel_launcher.py:52: SettingWithCopyWarning: \n",
            "A value is trying to be set on a copy of a slice from a DataFrame.\n",
            "Try using .loc[row_indexer,col_indexer] = value instead\n",
            "\n",
            "See the caveats in the documentation: https://pandas.pydata.org/pandas-docs/stable/user_guide/indexing.html#returning-a-view-versus-a-copy\n",
            "/usr/local/lib/python3.7/dist-packages/ipykernel_launcher.py:53: SettingWithCopyWarning: \n",
            "A value is trying to be set on a copy of a slice from a DataFrame.\n",
            "Try using .loc[row_indexer,col_indexer] = value instead\n",
            "\n",
            "See the caveats in the documentation: https://pandas.pydata.org/pandas-docs/stable/user_guide/indexing.html#returning-a-view-versus-a-copy\n",
            "/usr/local/lib/python3.7/dist-packages/ipykernel_launcher.py:54: SettingWithCopyWarning: \n",
            "A value is trying to be set on a copy of a slice from a DataFrame.\n",
            "Try using .loc[row_indexer,col_indexer] = value instead\n",
            "\n",
            "See the caveats in the documentation: https://pandas.pydata.org/pandas-docs/stable/user_guide/indexing.html#returning-a-view-versus-a-copy\n",
            "/usr/local/lib/python3.7/dist-packages/ipykernel_launcher.py:55: SettingWithCopyWarning: \n",
            "A value is trying to be set on a copy of a slice from a DataFrame.\n",
            "Try using .loc[row_indexer,col_indexer] = value instead\n",
            "\n",
            "See the caveats in the documentation: https://pandas.pydata.org/pandas-docs/stable/user_guide/indexing.html#returning-a-view-versus-a-copy\n"
          ]
        },
        {
          "name": "stdout",
          "output_type": "stream",
          "text": [
            "Index(['TRIMA', 'RSI', 'EMA'], dtype='object')\n"
          ]
        },
        {
          "name": "stderr",
          "output_type": "stream",
          "text": [
            "/usr/local/lib/python3.7/dist-packages/pandas/core/frame.py:5047: SettingWithCopyWarning: \n",
            "A value is trying to be set on a copy of a slice from a DataFrame\n",
            "\n",
            "See the caveats in the documentation: https://pandas.pydata.org/pandas-docs/stable/user_guide/indexing.html#returning-a-view-versus-a-copy\n",
            "  errors=errors,\n",
            "/usr/local/lib/python3.7/dist-packages/ipykernel_launcher.py:52: SettingWithCopyWarning: \n",
            "A value is trying to be set on a copy of a slice from a DataFrame.\n",
            "Try using .loc[row_indexer,col_indexer] = value instead\n",
            "\n",
            "See the caveats in the documentation: https://pandas.pydata.org/pandas-docs/stable/user_guide/indexing.html#returning-a-view-versus-a-copy\n",
            "/usr/local/lib/python3.7/dist-packages/ipykernel_launcher.py:53: SettingWithCopyWarning: \n",
            "A value is trying to be set on a copy of a slice from a DataFrame.\n",
            "Try using .loc[row_indexer,col_indexer] = value instead\n",
            "\n",
            "See the caveats in the documentation: https://pandas.pydata.org/pandas-docs/stable/user_guide/indexing.html#returning-a-view-versus-a-copy\n",
            "/usr/local/lib/python3.7/dist-packages/ipykernel_launcher.py:54: SettingWithCopyWarning: \n",
            "A value is trying to be set on a copy of a slice from a DataFrame.\n",
            "Try using .loc[row_indexer,col_indexer] = value instead\n",
            "\n",
            "See the caveats in the documentation: https://pandas.pydata.org/pandas-docs/stable/user_guide/indexing.html#returning-a-view-versus-a-copy\n",
            "/usr/local/lib/python3.7/dist-packages/ipykernel_launcher.py:55: SettingWithCopyWarning: \n",
            "A value is trying to be set on a copy of a slice from a DataFrame.\n",
            "Try using .loc[row_indexer,col_indexer] = value instead\n",
            "\n",
            "See the caveats in the documentation: https://pandas.pydata.org/pandas-docs/stable/user_guide/indexing.html#returning-a-view-versus-a-copy\n"
          ]
        },
        {
          "name": "stdout",
          "output_type": "stream",
          "text": [
            "Index(['CCI', 'Multi', 'WMA'], dtype='object')\n"
          ]
        },
        {
          "name": "stderr",
          "output_type": "stream",
          "text": [
            "/usr/local/lib/python3.7/dist-packages/pandas/core/frame.py:5047: SettingWithCopyWarning: \n",
            "A value is trying to be set on a copy of a slice from a DataFrame\n",
            "\n",
            "See the caveats in the documentation: https://pandas.pydata.org/pandas-docs/stable/user_guide/indexing.html#returning-a-view-versus-a-copy\n",
            "  errors=errors,\n",
            "/usr/local/lib/python3.7/dist-packages/ipykernel_launcher.py:52: SettingWithCopyWarning: \n",
            "A value is trying to be set on a copy of a slice from a DataFrame.\n",
            "Try using .loc[row_indexer,col_indexer] = value instead\n",
            "\n",
            "See the caveats in the documentation: https://pandas.pydata.org/pandas-docs/stable/user_guide/indexing.html#returning-a-view-versus-a-copy\n",
            "/usr/local/lib/python3.7/dist-packages/ipykernel_launcher.py:53: SettingWithCopyWarning: \n",
            "A value is trying to be set on a copy of a slice from a DataFrame.\n",
            "Try using .loc[row_indexer,col_indexer] = value instead\n",
            "\n",
            "See the caveats in the documentation: https://pandas.pydata.org/pandas-docs/stable/user_guide/indexing.html#returning-a-view-versus-a-copy\n",
            "/usr/local/lib/python3.7/dist-packages/ipykernel_launcher.py:54: SettingWithCopyWarning: \n",
            "A value is trying to be set on a copy of a slice from a DataFrame.\n",
            "Try using .loc[row_indexer,col_indexer] = value instead\n",
            "\n",
            "See the caveats in the documentation: https://pandas.pydata.org/pandas-docs/stable/user_guide/indexing.html#returning-a-view-versus-a-copy\n",
            "/usr/local/lib/python3.7/dist-packages/ipykernel_launcher.py:55: SettingWithCopyWarning: \n",
            "A value is trying to be set on a copy of a slice from a DataFrame.\n",
            "Try using .loc[row_indexer,col_indexer] = value instead\n",
            "\n",
            "See the caveats in the documentation: https://pandas.pydata.org/pandas-docs/stable/user_guide/indexing.html#returning-a-view-versus-a-copy\n"
          ]
        },
        {
          "name": "stdout",
          "output_type": "stream",
          "text": [
            "Index(['CCI', 'Multi', 'RSI'], dtype='object')\n"
          ]
        },
        {
          "name": "stderr",
          "output_type": "stream",
          "text": [
            "/usr/local/lib/python3.7/dist-packages/pandas/core/frame.py:5047: SettingWithCopyWarning: \n",
            "A value is trying to be set on a copy of a slice from a DataFrame\n",
            "\n",
            "See the caveats in the documentation: https://pandas.pydata.org/pandas-docs/stable/user_guide/indexing.html#returning-a-view-versus-a-copy\n",
            "  errors=errors,\n",
            "/usr/local/lib/python3.7/dist-packages/ipykernel_launcher.py:52: SettingWithCopyWarning: \n",
            "A value is trying to be set on a copy of a slice from a DataFrame.\n",
            "Try using .loc[row_indexer,col_indexer] = value instead\n",
            "\n",
            "See the caveats in the documentation: https://pandas.pydata.org/pandas-docs/stable/user_guide/indexing.html#returning-a-view-versus-a-copy\n",
            "/usr/local/lib/python3.7/dist-packages/ipykernel_launcher.py:53: SettingWithCopyWarning: \n",
            "A value is trying to be set on a copy of a slice from a DataFrame.\n",
            "Try using .loc[row_indexer,col_indexer] = value instead\n",
            "\n",
            "See the caveats in the documentation: https://pandas.pydata.org/pandas-docs/stable/user_guide/indexing.html#returning-a-view-versus-a-copy\n",
            "/usr/local/lib/python3.7/dist-packages/ipykernel_launcher.py:54: SettingWithCopyWarning: \n",
            "A value is trying to be set on a copy of a slice from a DataFrame.\n",
            "Try using .loc[row_indexer,col_indexer] = value instead\n",
            "\n",
            "See the caveats in the documentation: https://pandas.pydata.org/pandas-docs/stable/user_guide/indexing.html#returning-a-view-versus-a-copy\n",
            "/usr/local/lib/python3.7/dist-packages/ipykernel_launcher.py:55: SettingWithCopyWarning: \n",
            "A value is trying to be set on a copy of a slice from a DataFrame.\n",
            "Try using .loc[row_indexer,col_indexer] = value instead\n",
            "\n",
            "See the caveats in the documentation: https://pandas.pydata.org/pandas-docs/stable/user_guide/indexing.html#returning-a-view-versus-a-copy\n"
          ]
        },
        {
          "name": "stdout",
          "output_type": "stream",
          "text": [
            "Index(['Multi', 'CCI', 'BestWeek'], dtype='object')\n"
          ]
        },
        {
          "name": "stderr",
          "output_type": "stream",
          "text": [
            "/usr/local/lib/python3.7/dist-packages/pandas/core/frame.py:5047: SettingWithCopyWarning: \n",
            "A value is trying to be set on a copy of a slice from a DataFrame\n",
            "\n",
            "See the caveats in the documentation: https://pandas.pydata.org/pandas-docs/stable/user_guide/indexing.html#returning-a-view-versus-a-copy\n",
            "  errors=errors,\n",
            "/usr/local/lib/python3.7/dist-packages/ipykernel_launcher.py:52: SettingWithCopyWarning: \n",
            "A value is trying to be set on a copy of a slice from a DataFrame.\n",
            "Try using .loc[row_indexer,col_indexer] = value instead\n",
            "\n",
            "See the caveats in the documentation: https://pandas.pydata.org/pandas-docs/stable/user_guide/indexing.html#returning-a-view-versus-a-copy\n",
            "/usr/local/lib/python3.7/dist-packages/ipykernel_launcher.py:53: SettingWithCopyWarning: \n",
            "A value is trying to be set on a copy of a slice from a DataFrame.\n",
            "Try using .loc[row_indexer,col_indexer] = value instead\n",
            "\n",
            "See the caveats in the documentation: https://pandas.pydata.org/pandas-docs/stable/user_guide/indexing.html#returning-a-view-versus-a-copy\n",
            "/usr/local/lib/python3.7/dist-packages/ipykernel_launcher.py:54: SettingWithCopyWarning: \n",
            "A value is trying to be set on a copy of a slice from a DataFrame.\n",
            "Try using .loc[row_indexer,col_indexer] = value instead\n",
            "\n",
            "See the caveats in the documentation: https://pandas.pydata.org/pandas-docs/stable/user_guide/indexing.html#returning-a-view-versus-a-copy\n",
            "/usr/local/lib/python3.7/dist-packages/ipykernel_launcher.py:55: SettingWithCopyWarning: \n",
            "A value is trying to be set on a copy of a slice from a DataFrame.\n",
            "Try using .loc[row_indexer,col_indexer] = value instead\n",
            "\n",
            "See the caveats in the documentation: https://pandas.pydata.org/pandas-docs/stable/user_guide/indexing.html#returning-a-view-versus-a-copy\n"
          ]
        },
        {
          "name": "stdout",
          "output_type": "stream",
          "text": [
            "Index(['CCI', 'BestWeek', 'BestDay'], dtype='object')\n"
          ]
        }
      ],
      "source": [
        "# listeStrat=[\"TRIMA\",\"RSI\",\"EMA\",\"MACD\",\"DMI\",\"SAR\",\"Will_SMA\",\"CCI\",\"WMA\"]\n",
        "# listeCoin=[\"BTC\",'ETH','SOL','XRP','BNB','BCH','ADA','LTC']\n",
        "# d, l=GetBestStrat(listeStrat,listeCoin)"
      ]
    },
    {
      "cell_type": "code",
      "execution_count": null,
      "metadata": {
        "colab": {
          "base_uri": "https://localhost:8080/",
          "height": 182
        },
        "id": "6QysJFJEBwo-",
        "outputId": "dfa6a05b-2ca7-4d8b-cf51-99737d360c47"
      },
      "outputs": [
        {
          "ename": "NameError",
          "evalue": "ignored",
          "output_type": "error",
          "traceback": [
            "\u001b[0;31m---------------------------------------------------------------------------\u001b[0m",
            "\u001b[0;31mNameError\u001b[0m                                 Traceback (most recent call last)",
            "\u001b[0;32m<ipython-input-20-b8f0b6b7d416>\u001b[0m in \u001b[0;36m<module>\u001b[0;34m()\u001b[0m\n\u001b[0;32m----> 1\u001b[0;31m \u001b[0mdf4\u001b[0m\u001b[0;34m=\u001b[0m\u001b[0mpd\u001b[0m\u001b[0;34m.\u001b[0m\u001b[0mDataFrame\u001b[0m\u001b[0;34m(\u001b[0m\u001b[0ml\u001b[0m\u001b[0;34m,\u001b[0m\u001b[0mcolumns\u001b[0m\u001b[0;34m=\u001b[0m\u001b[0;34m[\u001b[0m\u001b[0;34m'Signal'\u001b[0m\u001b[0;34m,\u001b[0m\u001b[0;34m'Rd_StratYTD'\u001b[0m\u001b[0;34m,\u001b[0m\u001b[0;34m'Rd_StratM'\u001b[0m\u001b[0;34m,\u001b[0m\u001b[0;34m'Rd_StratW'\u001b[0m\u001b[0;34m,\u001b[0m\u001b[0;34m'Rd_CoinYTD'\u001b[0m\u001b[0;34m,\u001b[0m\u001b[0;34m'Rd_CoinM'\u001b[0m\u001b[0;34m,\u001b[0m\u001b[0;34m'Rd_CoinW'\u001b[0m\u001b[0;34m,\u001b[0m\u001b[0;34m'Name Strat'\u001b[0m\u001b[0;34m]\u001b[0m\u001b[0;34m,\u001b[0m\u001b[0mindex\u001b[0m\u001b[0;34m=\u001b[0m\u001b[0mlisteCoin\u001b[0m\u001b[0;34m)\u001b[0m\u001b[0;34m\u001b[0m\u001b[0;34m\u001b[0m\u001b[0m\n\u001b[0m\u001b[1;32m      2\u001b[0m \u001b[0mdf4\u001b[0m\u001b[0;34m\u001b[0m\u001b[0;34m\u001b[0m\u001b[0m\n",
            "\u001b[0;31mNameError\u001b[0m: name 'l' is not defined"
          ]
        }
      ],
      "source": [
        "# df4=pd.DataFrame(l,columns=['Signal','Rd_StratYTD','Rd_StratM','Rd_StratW','Rd_CoinYTD','Rd_CoinM','Rd_CoinW','Name Strat'],index=listeCoin)\n",
        "# df4"
      ]
    },
    {
      "cell_type": "code",
      "execution_count": null,
      "metadata": {
        "id": "CF4woXh5LabW"
      },
      "outputs": [],
      "source": [
        "# df4.to_excel('TabIndicaTech.xlsx')"
      ]
    },
    {
      "cell_type": "code",
      "execution_count": null,
      "metadata": {
        "colab": {
          "base_uri": "https://localhost:8080/",
          "height": 300
        },
        "id": "0vifDfyODo8s",
        "outputId": "aae6e43d-6fe8-4eaa-c794-d274612ba83d"
      },
      "outputs": [
        {
          "data": {
            "text/html": [
              "\n",
              "  <div id=\"df-6d4b727f-2f7b-4ff3-a60a-ac541f3f032d\">\n",
              "    <div class=\"colab-df-container\">\n",
              "      <div>\n",
              "<style scoped>\n",
              "    .dataframe tbody tr th:only-of-type {\n",
              "        vertical-align: middle;\n",
              "    }\n",
              "\n",
              "    .dataframe tbody tr th {\n",
              "        vertical-align: top;\n",
              "    }\n",
              "\n",
              "    .dataframe thead th {\n",
              "        text-align: right;\n",
              "    }\n",
              "</style>\n",
              "<table border=\"1\" class=\"dataframe\">\n",
              "  <thead>\n",
              "    <tr style=\"text-align: right;\">\n",
              "      <th></th>\n",
              "      <th>TRIMA</th>\n",
              "      <th>RSI</th>\n",
              "      <th>EMA</th>\n",
              "      <th>MACD</th>\n",
              "      <th>DMI</th>\n",
              "      <th>SAR</th>\n",
              "      <th>Will_SMA</th>\n",
              "      <th>CCI</th>\n",
              "      <th>WMA</th>\n",
              "      <th>Multi</th>\n",
              "      <th>BestMonth</th>\n",
              "      <th>BestWeekly</th>\n",
              "      <th>BestDay</th>\n",
              "      <th>Buy/Hold</th>\n",
              "    </tr>\n",
              "  </thead>\n",
              "  <tbody>\n",
              "    <tr>\n",
              "      <th>BTC</th>\n",
              "      <td>-0.600160</td>\n",
              "      <td>0.533457</td>\n",
              "      <td>-0.494714</td>\n",
              "      <td>-0.123940</td>\n",
              "      <td>0.433886</td>\n",
              "      <td>0.812401</td>\n",
              "      <td>-0.206719</td>\n",
              "      <td>1.677370</td>\n",
              "      <td>-0.514318</td>\n",
              "      <td>-0.082042</td>\n",
              "      <td>0.241958</td>\n",
              "      <td>-0.501954</td>\n",
              "      <td>0.033824</td>\n",
              "      <td>-0.347879</td>\n",
              "    </tr>\n",
              "    <tr>\n",
              "      <th>ETH</th>\n",
              "      <td>-0.729216</td>\n",
              "      <td>-0.191384</td>\n",
              "      <td>-0.630117</td>\n",
              "      <td>-0.315417</td>\n",
              "      <td>-0.199474</td>\n",
              "      <td>-0.161549</td>\n",
              "      <td>0.309818</td>\n",
              "      <td>-0.267713</td>\n",
              "      <td>0.279942</td>\n",
              "      <td>0.205059</td>\n",
              "      <td>0.069988</td>\n",
              "      <td>0.411760</td>\n",
              "      <td>0.773260</td>\n",
              "      <td>0.236682</td>\n",
              "    </tr>\n",
              "    <tr>\n",
              "      <th>SOL</th>\n",
              "      <td>-0.206413</td>\n",
              "      <td>-0.747206</td>\n",
              "      <td>-0.513676</td>\n",
              "      <td>-0.496738</td>\n",
              "      <td>-0.719274</td>\n",
              "      <td>-0.614402</td>\n",
              "      <td>3.918017</td>\n",
              "      <td>-0.845131</td>\n",
              "      <td>1.578363</td>\n",
              "      <td>20.038109</td>\n",
              "      <td>0.605003</td>\n",
              "      <td>0.220734</td>\n",
              "      <td>0.608046</td>\n",
              "      <td>2.955784</td>\n",
              "    </tr>\n",
              "    <tr>\n",
              "      <th>XRP</th>\n",
              "      <td>-0.728592</td>\n",
              "      <td>1.020070</td>\n",
              "      <td>-0.439174</td>\n",
              "      <td>-0.899233</td>\n",
              "      <td>1.798148</td>\n",
              "      <td>-0.437153</td>\n",
              "      <td>0.213276</td>\n",
              "      <td>-0.243252</td>\n",
              "      <td>-0.531199</td>\n",
              "      <td>2.752465</td>\n",
              "      <td>-0.605396</td>\n",
              "      <td>1.126471</td>\n",
              "      <td>0.121985</td>\n",
              "      <td>-0.504968</td>\n",
              "    </tr>\n",
              "    <tr>\n",
              "      <th>BNB</th>\n",
              "      <td>-0.593294</td>\n",
              "      <td>0.225583</td>\n",
              "      <td>-0.788891</td>\n",
              "      <td>-0.667364</td>\n",
              "      <td>-0.508720</td>\n",
              "      <td>-0.101517</td>\n",
              "      <td>0.308594</td>\n",
              "      <td>-0.146640</td>\n",
              "      <td>0.651338</td>\n",
              "      <td>0.539205</td>\n",
              "      <td>-0.719405</td>\n",
              "      <td>-0.096278</td>\n",
              "      <td>-0.455278</td>\n",
              "      <td>-0.184062</td>\n",
              "    </tr>\n",
              "    <tr>\n",
              "      <th>BCH</th>\n",
              "      <td>-0.422375</td>\n",
              "      <td>3.374467</td>\n",
              "      <td>-0.740615</td>\n",
              "      <td>-0.632131</td>\n",
              "      <td>0.552618</td>\n",
              "      <td>-0.396467</td>\n",
              "      <td>0.079538</td>\n",
              "      <td>0.339316</td>\n",
              "      <td>0.154126</td>\n",
              "      <td>4.592180</td>\n",
              "      <td>-0.510802</td>\n",
              "      <td>0.034087</td>\n",
              "      <td>-0.270436</td>\n",
              "      <td>-0.696513</td>\n",
              "    </tr>\n",
              "    <tr>\n",
              "      <th>ADA</th>\n",
              "      <td>-0.609960</td>\n",
              "      <td>0.499257</td>\n",
              "      <td>0.328179</td>\n",
              "      <td>0.203338</td>\n",
              "      <td>0.584030</td>\n",
              "      <td>0.171821</td>\n",
              "      <td>1.816068</td>\n",
              "      <td>1.126656</td>\n",
              "      <td>-0.165257</td>\n",
              "      <td>0.915612</td>\n",
              "      <td>-0.767101</td>\n",
              "      <td>-0.598987</td>\n",
              "      <td>-0.636895</td>\n",
              "      <td>-0.333003</td>\n",
              "    </tr>\n",
              "    <tr>\n",
              "      <th>LTC</th>\n",
              "      <td>-0.621226</td>\n",
              "      <td>1.809866</td>\n",
              "      <td>-0.452856</td>\n",
              "      <td>-0.813678</td>\n",
              "      <td>-0.256038</td>\n",
              "      <td>-0.653538</td>\n",
              "      <td>-0.330694</td>\n",
              "      <td>0.250207</td>\n",
              "      <td>0.058647</td>\n",
              "      <td>2.128142</td>\n",
              "      <td>-0.544992</td>\n",
              "      <td>1.891589</td>\n",
              "      <td>0.250595</td>\n",
              "      <td>-0.644111</td>\n",
              "    </tr>\n",
              "  </tbody>\n",
              "</table>\n",
              "</div>\n",
              "      <button class=\"colab-df-convert\" onclick=\"convertToInteractive('df-6d4b727f-2f7b-4ff3-a60a-ac541f3f032d')\"\n",
              "              title=\"Convert this dataframe to an interactive table.\"\n",
              "              style=\"display:none;\">\n",
              "        \n",
              "  <svg xmlns=\"http://www.w3.org/2000/svg\" height=\"24px\"viewBox=\"0 0 24 24\"\n",
              "       width=\"24px\">\n",
              "    <path d=\"M0 0h24v24H0V0z\" fill=\"none\"/>\n",
              "    <path d=\"M18.56 5.44l.94 2.06.94-2.06 2.06-.94-2.06-.94-.94-2.06-.94 2.06-2.06.94zm-11 1L8.5 8.5l.94-2.06 2.06-.94-2.06-.94L8.5 2.5l-.94 2.06-2.06.94zm10 10l.94 2.06.94-2.06 2.06-.94-2.06-.94-.94-2.06-.94 2.06-2.06.94z\"/><path d=\"M17.41 7.96l-1.37-1.37c-.4-.4-.92-.59-1.43-.59-.52 0-1.04.2-1.43.59L10.3 9.45l-7.72 7.72c-.78.78-.78 2.05 0 2.83L4 21.41c.39.39.9.59 1.41.59.51 0 1.02-.2 1.41-.59l7.78-7.78 2.81-2.81c.8-.78.8-2.07 0-2.86zM5.41 20L4 18.59l7.72-7.72 1.47 1.35L5.41 20z\"/>\n",
              "  </svg>\n",
              "      </button>\n",
              "      \n",
              "  <style>\n",
              "    .colab-df-container {\n",
              "      display:flex;\n",
              "      flex-wrap:wrap;\n",
              "      gap: 12px;\n",
              "    }\n",
              "\n",
              "    .colab-df-convert {\n",
              "      background-color: #E8F0FE;\n",
              "      border: none;\n",
              "      border-radius: 50%;\n",
              "      cursor: pointer;\n",
              "      display: none;\n",
              "      fill: #1967D2;\n",
              "      height: 32px;\n",
              "      padding: 0 0 0 0;\n",
              "      width: 32px;\n",
              "    }\n",
              "\n",
              "    .colab-df-convert:hover {\n",
              "      background-color: #E2EBFA;\n",
              "      box-shadow: 0px 1px 2px rgba(60, 64, 67, 0.3), 0px 1px 3px 1px rgba(60, 64, 67, 0.15);\n",
              "      fill: #174EA6;\n",
              "    }\n",
              "\n",
              "    [theme=dark] .colab-df-convert {\n",
              "      background-color: #3B4455;\n",
              "      fill: #D2E3FC;\n",
              "    }\n",
              "\n",
              "    [theme=dark] .colab-df-convert:hover {\n",
              "      background-color: #434B5C;\n",
              "      box-shadow: 0px 1px 3px 1px rgba(0, 0, 0, 0.15);\n",
              "      filter: drop-shadow(0px 1px 2px rgba(0, 0, 0, 0.3));\n",
              "      fill: #FFFFFF;\n",
              "    }\n",
              "  </style>\n",
              "\n",
              "      <script>\n",
              "        const buttonEl =\n",
              "          document.querySelector('#df-6d4b727f-2f7b-4ff3-a60a-ac541f3f032d button.colab-df-convert');\n",
              "        buttonEl.style.display =\n",
              "          google.colab.kernel.accessAllowed ? 'block' : 'none';\n",
              "\n",
              "        async function convertToInteractive(key) {\n",
              "          const element = document.querySelector('#df-6d4b727f-2f7b-4ff3-a60a-ac541f3f032d');\n",
              "          const dataTable =\n",
              "            await google.colab.kernel.invokeFunction('convertToInteractive',\n",
              "                                                     [key], {});\n",
              "          if (!dataTable) return;\n",
              "\n",
              "          const docLinkHtml = 'Like what you see? Visit the ' +\n",
              "            '<a target=\"_blank\" href=https://colab.research.google.com/notebooks/data_table.ipynb>data table notebook</a>'\n",
              "            + ' to learn more about interactive tables.';\n",
              "          element.innerHTML = '';\n",
              "          dataTable['output_type'] = 'display_data';\n",
              "          await google.colab.output.renderOutput(dataTable, element);\n",
              "          const docLink = document.createElement('div');\n",
              "          docLink.innerHTML = docLinkHtml;\n",
              "          element.appendChild(docLink);\n",
              "        }\n",
              "      </script>\n",
              "    </div>\n",
              "  </div>\n",
              "  "
            ],
            "text/plain": [
              "        TRIMA       RSI       EMA      MACD       DMI       SAR  Will_SMA  \\\n",
              "BTC -0.600160  0.533457 -0.494714 -0.123940  0.433886  0.812401 -0.206719   \n",
              "ETH -0.729216 -0.191384 -0.630117 -0.315417 -0.199474 -0.161549  0.309818   \n",
              "SOL -0.206413 -0.747206 -0.513676 -0.496738 -0.719274 -0.614402  3.918017   \n",
              "XRP -0.728592  1.020070 -0.439174 -0.899233  1.798148 -0.437153  0.213276   \n",
              "BNB -0.593294  0.225583 -0.788891 -0.667364 -0.508720 -0.101517  0.308594   \n",
              "BCH -0.422375  3.374467 -0.740615 -0.632131  0.552618 -0.396467  0.079538   \n",
              "ADA -0.609960  0.499257  0.328179  0.203338  0.584030  0.171821  1.816068   \n",
              "LTC -0.621226  1.809866 -0.452856 -0.813678 -0.256038 -0.653538 -0.330694   \n",
              "\n",
              "          CCI       WMA      Multi  BestMonth  BestWeekly   BestDay  Buy/Hold  \n",
              "BTC  1.677370 -0.514318  -0.082042   0.241958   -0.501954  0.033824 -0.347879  \n",
              "ETH -0.267713  0.279942   0.205059   0.069988    0.411760  0.773260  0.236682  \n",
              "SOL -0.845131  1.578363  20.038109   0.605003    0.220734  0.608046  2.955784  \n",
              "XRP -0.243252 -0.531199   2.752465  -0.605396    1.126471  0.121985 -0.504968  \n",
              "BNB -0.146640  0.651338   0.539205  -0.719405   -0.096278 -0.455278 -0.184062  \n",
              "BCH  0.339316  0.154126   4.592180  -0.510802    0.034087 -0.270436 -0.696513  \n",
              "ADA  1.126656 -0.165257   0.915612  -0.767101   -0.598987 -0.636895 -0.333003  \n",
              "LTC  0.250207  0.058647   2.128142  -0.544992    1.891589  0.250595 -0.644111  "
            ]
          },
          "execution_count": 25,
          "metadata": {},
          "output_type": "execute_result"
        }
      ],
      "source": [
        "# listeStrat2=listeStrat+['Multi','BestMonth','BestWeekly','BestDay']\n",
        "# #Get 1 year perf for each asset and each strategy\n",
        "# l=[]\n",
        "# l2=[]\n",
        "# for i in listeCoin :\n",
        "#   l.append((d[i+'Portfolio_Y'].tail(1).values[0]-10000)/10000)\n",
        "#   max = d[i]['close'].tail(1).values[0]\n",
        "#   begin = d[i]['close'].tail(365).head(1).values[0]\n",
        "#   rd = (max-begin)/begin\n",
        "#   l2.append(rd)\n",
        "# df=pd.DataFrame(l,index=listeCoin,columns=listeStrat2)\n",
        "# df['Buy/Hold']=l2\n",
        "# df"
      ]
    },
    {
      "cell_type": "code",
      "execution_count": null,
      "metadata": {
        "id": "sx-9aZ6TKzdV"
      },
      "outputs": [],
      "source": [
        "# df.to_excel('Strat_1Y.xlsx')"
      ]
    },
    {
      "cell_type": "code",
      "execution_count": null,
      "metadata": {
        "colab": {
          "base_uri": "https://localhost:8080/",
          "height": 300
        },
        "id": "1EBRikE9htex",
        "outputId": "6ae9cf16-16e6-4021-c20c-6059ca436003"
      },
      "outputs": [
        {
          "data": {
            "text/html": [
              "\n",
              "  <div id=\"df-d56c45fc-db28-4070-9f04-05cf455fc950\">\n",
              "    <div class=\"colab-df-container\">\n",
              "      <div>\n",
              "<style scoped>\n",
              "    .dataframe tbody tr th:only-of-type {\n",
              "        vertical-align: middle;\n",
              "    }\n",
              "\n",
              "    .dataframe tbody tr th {\n",
              "        vertical-align: top;\n",
              "    }\n",
              "\n",
              "    .dataframe thead th {\n",
              "        text-align: right;\n",
              "    }\n",
              "</style>\n",
              "<table border=\"1\" class=\"dataframe\">\n",
              "  <thead>\n",
              "    <tr style=\"text-align: right;\">\n",
              "      <th></th>\n",
              "      <th>TRIMA</th>\n",
              "      <th>RSI</th>\n",
              "      <th>EMA</th>\n",
              "      <th>MACD</th>\n",
              "      <th>DMI</th>\n",
              "      <th>SAR</th>\n",
              "      <th>Will_SMA</th>\n",
              "      <th>CCI</th>\n",
              "      <th>WMA</th>\n",
              "      <th>Multi</th>\n",
              "      <th>BestMonth</th>\n",
              "      <th>BestWeekly</th>\n",
              "      <th>BestDay</th>\n",
              "      <th>Buy/Hold</th>\n",
              "    </tr>\n",
              "  </thead>\n",
              "  <tbody>\n",
              "    <tr>\n",
              "      <th>BTC</th>\n",
              "      <td>-0.236450</td>\n",
              "      <td>0.540162</td>\n",
              "      <td>-0.085339</td>\n",
              "      <td>-0.150029</td>\n",
              "      <td>0.440156</td>\n",
              "      <td>0.828748</td>\n",
              "      <td>0.340427</td>\n",
              "      <td>0.329323</td>\n",
              "      <td>-0.354581</td>\n",
              "      <td>0.381402</td>\n",
              "      <td>0.202861</td>\n",
              "      <td>-0.305763</td>\n",
              "      <td>-0.110521</td>\n",
              "      <td>-0.350718</td>\n",
              "    </tr>\n",
              "    <tr>\n",
              "      <th>ETH</th>\n",
              "      <td>-0.498592</td>\n",
              "      <td>0.289326</td>\n",
              "      <td>-0.341452</td>\n",
              "      <td>0.135017</td>\n",
              "      <td>0.276428</td>\n",
              "      <td>1.883334</td>\n",
              "      <td>0.219002</td>\n",
              "      <td>-0.300481</td>\n",
              "      <td>0.020040</td>\n",
              "      <td>0.201708</td>\n",
              "      <td>0.673505</td>\n",
              "      <td>0.124271</td>\n",
              "      <td>0.002743</td>\n",
              "      <td>-0.224401</td>\n",
              "    </tr>\n",
              "    <tr>\n",
              "      <th>SOL</th>\n",
              "      <td>-0.451712</td>\n",
              "      <td>0.628443</td>\n",
              "      <td>0.780540</td>\n",
              "      <td>1.471310</td>\n",
              "      <td>0.182810</td>\n",
              "      <td>-0.134841</td>\n",
              "      <td>0.453775</td>\n",
              "      <td>-0.110202</td>\n",
              "      <td>0.628916</td>\n",
              "      <td>4.329680</td>\n",
              "      <td>0.636426</td>\n",
              "      <td>0.160035</td>\n",
              "      <td>0.575061</td>\n",
              "      <td>-0.385917</td>\n",
              "    </tr>\n",
              "    <tr>\n",
              "      <th>XRP</th>\n",
              "      <td>0.024784</td>\n",
              "      <td>0.487032</td>\n",
              "      <td>-0.238142</td>\n",
              "      <td>-0.282564</td>\n",
              "      <td>-0.327520</td>\n",
              "      <td>-0.580020</td>\n",
              "      <td>0.197982</td>\n",
              "      <td>0.137049</td>\n",
              "      <td>-0.510624</td>\n",
              "      <td>0.220022</td>\n",
              "      <td>-0.738878</td>\n",
              "      <td>0.282499</td>\n",
              "      <td>-0.098684</td>\n",
              "      <td>-0.327520</td>\n",
              "    </tr>\n",
              "    <tr>\n",
              "      <th>BNB</th>\n",
              "      <td>-0.229582</td>\n",
              "      <td>0.141784</td>\n",
              "      <td>-0.467834</td>\n",
              "      <td>0.092160</td>\n",
              "      <td>0.046615</td>\n",
              "      <td>0.919755</td>\n",
              "      <td>0.126397</td>\n",
              "      <td>-0.240573</td>\n",
              "      <td>0.066701</td>\n",
              "      <td>0.203648</td>\n",
              "      <td>0.051011</td>\n",
              "      <td>0.025265</td>\n",
              "      <td>-0.306578</td>\n",
              "      <td>-0.124177</td>\n",
              "    </tr>\n",
              "    <tr>\n",
              "      <th>BCH</th>\n",
              "      <td>0.055362</td>\n",
              "      <td>1.472489</td>\n",
              "      <td>-0.541082</td>\n",
              "      <td>-0.237181</td>\n",
              "      <td>-0.478519</td>\n",
              "      <td>0.044460</td>\n",
              "      <td>-0.165398</td>\n",
              "      <td>-0.003390</td>\n",
              "      <td>-0.235475</td>\n",
              "      <td>0.637813</td>\n",
              "      <td>-0.352476</td>\n",
              "      <td>-0.078544</td>\n",
              "      <td>-0.444315</td>\n",
              "      <td>-0.463054</td>\n",
              "    </tr>\n",
              "    <tr>\n",
              "      <th>ADA</th>\n",
              "      <td>0.230118</td>\n",
              "      <td>1.355065</td>\n",
              "      <td>1.355065</td>\n",
              "      <td>1.355065</td>\n",
              "      <td>-0.213197</td>\n",
              "      <td>0.119652</td>\n",
              "      <td>0.908574</td>\n",
              "      <td>0.931537</td>\n",
              "      <td>-0.480961</td>\n",
              "      <td>0.687411</td>\n",
              "      <td>-0.571017</td>\n",
              "      <td>0.863658</td>\n",
              "      <td>-0.085886</td>\n",
              "      <td>-0.575383</td>\n",
              "    </tr>\n",
              "    <tr>\n",
              "      <th>LTC</th>\n",
              "      <td>0.057301</td>\n",
              "      <td>0.725949</td>\n",
              "      <td>-0.109243</td>\n",
              "      <td>-0.112640</td>\n",
              "      <td>-0.401040</td>\n",
              "      <td>-0.436221</td>\n",
              "      <td>0.321799</td>\n",
              "      <td>-0.071918</td>\n",
              "      <td>0.298219</td>\n",
              "      <td>0.810736</td>\n",
              "      <td>-0.170495</td>\n",
              "      <td>1.715698</td>\n",
              "      <td>-0.374986</td>\n",
              "      <td>-0.420609</td>\n",
              "    </tr>\n",
              "  </tbody>\n",
              "</table>\n",
              "</div>\n",
              "      <button class=\"colab-df-convert\" onclick=\"convertToInteractive('df-d56c45fc-db28-4070-9f04-05cf455fc950')\"\n",
              "              title=\"Convert this dataframe to an interactive table.\"\n",
              "              style=\"display:none;\">\n",
              "        \n",
              "  <svg xmlns=\"http://www.w3.org/2000/svg\" height=\"24px\"viewBox=\"0 0 24 24\"\n",
              "       width=\"24px\">\n",
              "    <path d=\"M0 0h24v24H0V0z\" fill=\"none\"/>\n",
              "    <path d=\"M18.56 5.44l.94 2.06.94-2.06 2.06-.94-2.06-.94-.94-2.06-.94 2.06-2.06.94zm-11 1L8.5 8.5l.94-2.06 2.06-.94-2.06-.94L8.5 2.5l-.94 2.06-2.06.94zm10 10l.94 2.06.94-2.06 2.06-.94-2.06-.94-.94-2.06-.94 2.06-2.06.94z\"/><path d=\"M17.41 7.96l-1.37-1.37c-.4-.4-.92-.59-1.43-.59-.52 0-1.04.2-1.43.59L10.3 9.45l-7.72 7.72c-.78.78-.78 2.05 0 2.83L4 21.41c.39.39.9.59 1.41.59.51 0 1.02-.2 1.41-.59l7.78-7.78 2.81-2.81c.8-.78.8-2.07 0-2.86zM5.41 20L4 18.59l7.72-7.72 1.47 1.35L5.41 20z\"/>\n",
              "  </svg>\n",
              "      </button>\n",
              "      \n",
              "  <style>\n",
              "    .colab-df-container {\n",
              "      display:flex;\n",
              "      flex-wrap:wrap;\n",
              "      gap: 12px;\n",
              "    }\n",
              "\n",
              "    .colab-df-convert {\n",
              "      background-color: #E8F0FE;\n",
              "      border: none;\n",
              "      border-radius: 50%;\n",
              "      cursor: pointer;\n",
              "      display: none;\n",
              "      fill: #1967D2;\n",
              "      height: 32px;\n",
              "      padding: 0 0 0 0;\n",
              "      width: 32px;\n",
              "    }\n",
              "\n",
              "    .colab-df-convert:hover {\n",
              "      background-color: #E2EBFA;\n",
              "      box-shadow: 0px 1px 2px rgba(60, 64, 67, 0.3), 0px 1px 3px 1px rgba(60, 64, 67, 0.15);\n",
              "      fill: #174EA6;\n",
              "    }\n",
              "\n",
              "    [theme=dark] .colab-df-convert {\n",
              "      background-color: #3B4455;\n",
              "      fill: #D2E3FC;\n",
              "    }\n",
              "\n",
              "    [theme=dark] .colab-df-convert:hover {\n",
              "      background-color: #434B5C;\n",
              "      box-shadow: 0px 1px 3px 1px rgba(0, 0, 0, 0.15);\n",
              "      filter: drop-shadow(0px 1px 2px rgba(0, 0, 0, 0.3));\n",
              "      fill: #FFFFFF;\n",
              "    }\n",
              "  </style>\n",
              "\n",
              "      <script>\n",
              "        const buttonEl =\n",
              "          document.querySelector('#df-d56c45fc-db28-4070-9f04-05cf455fc950 button.colab-df-convert');\n",
              "        buttonEl.style.display =\n",
              "          google.colab.kernel.accessAllowed ? 'block' : 'none';\n",
              "\n",
              "        async function convertToInteractive(key) {\n",
              "          const element = document.querySelector('#df-d56c45fc-db28-4070-9f04-05cf455fc950');\n",
              "          const dataTable =\n",
              "            await google.colab.kernel.invokeFunction('convertToInteractive',\n",
              "                                                     [key], {});\n",
              "          if (!dataTable) return;\n",
              "\n",
              "          const docLinkHtml = 'Like what you see? Visit the ' +\n",
              "            '<a target=\"_blank\" href=https://colab.research.google.com/notebooks/data_table.ipynb>data table notebook</a>'\n",
              "            + ' to learn more about interactive tables.';\n",
              "          element.innerHTML = '';\n",
              "          dataTable['output_type'] = 'display_data';\n",
              "          await google.colab.output.renderOutput(dataTable, element);\n",
              "          const docLink = document.createElement('div');\n",
              "          docLink.innerHTML = docLinkHtml;\n",
              "          element.appendChild(docLink);\n",
              "        }\n",
              "      </script>\n",
              "    </div>\n",
              "  </div>\n",
              "  "
            ],
            "text/plain": [
              "        TRIMA       RSI       EMA      MACD       DMI       SAR  Will_SMA  \\\n",
              "BTC -0.236450  0.540162 -0.085339 -0.150029  0.440156  0.828748  0.340427   \n",
              "ETH -0.498592  0.289326 -0.341452  0.135017  0.276428  1.883334  0.219002   \n",
              "SOL -0.451712  0.628443  0.780540  1.471310  0.182810 -0.134841  0.453775   \n",
              "XRP  0.024784  0.487032 -0.238142 -0.282564 -0.327520 -0.580020  0.197982   \n",
              "BNB -0.229582  0.141784 -0.467834  0.092160  0.046615  0.919755  0.126397   \n",
              "BCH  0.055362  1.472489 -0.541082 -0.237181 -0.478519  0.044460 -0.165398   \n",
              "ADA  0.230118  1.355065  1.355065  1.355065 -0.213197  0.119652  0.908574   \n",
              "LTC  0.057301  0.725949 -0.109243 -0.112640 -0.401040 -0.436221  0.321799   \n",
              "\n",
              "          CCI       WMA     Multi  BestMonth  BestWeekly   BestDay  Buy/Hold  \n",
              "BTC  0.329323 -0.354581  0.381402   0.202861   -0.305763 -0.110521 -0.350718  \n",
              "ETH -0.300481  0.020040  0.201708   0.673505    0.124271  0.002743 -0.224401  \n",
              "SOL -0.110202  0.628916  4.329680   0.636426    0.160035  0.575061 -0.385917  \n",
              "XRP  0.137049 -0.510624  0.220022  -0.738878    0.282499 -0.098684 -0.327520  \n",
              "BNB -0.240573  0.066701  0.203648   0.051011    0.025265 -0.306578 -0.124177  \n",
              "BCH -0.003390 -0.235475  0.637813  -0.352476   -0.078544 -0.444315 -0.463054  \n",
              "ADA  0.931537 -0.480961  0.687411  -0.571017    0.863658 -0.085886 -0.575383  \n",
              "LTC -0.071918  0.298219  0.810736  -0.170495    1.715698 -0.374986 -0.420609  "
            ]
          },
          "execution_count": 27,
          "metadata": {},
          "output_type": "execute_result"
        }
      ],
      "source": [
        "# #Get 6 month perf\n",
        "# l=[]\n",
        "# l2=[]\n",
        "# for i in listeCoin:\n",
        "#   max = d[i+'Portfolio_Y'].tail(1).values[0]\n",
        "#   begin = d[i+'Portfolio_Y'][d[i+'Portfolio_Y'].index==(datetime.today()-timedelta(182)).strftime('%Y-%m-%d')].values[0]\n",
        "#   rd = (max-begin)/begin\n",
        "#   l.append(rd)\n",
        "#   max = d[i]['close'].tail(1).values[0]\n",
        "#   begin = d[i]['close'][d[i].index==(datetime.today()-timedelta(182)).strftime('%Y-%m-%d')].values[0]\n",
        "#   rd = (max-begin)/begin\n",
        "#   l2.append(rd)\n",
        "# df=pd.DataFrame(l,index=listeCoin,columns=listeStrat2)\n",
        "# df['Buy/Hold']=l2\n",
        "# df"
      ]
    },
    {
      "cell_type": "code",
      "execution_count": null,
      "metadata": {
        "id": "b_SsU4KuQVqy"
      },
      "outputs": [],
      "source": [
        "# df.to_excel('Strat_6M.xlsx')"
      ]
    },
    {
      "cell_type": "code",
      "execution_count": null,
      "metadata": {
        "colab": {
          "base_uri": "https://localhost:8080/",
          "height": 300
        },
        "id": "fI4AduruP_qC",
        "outputId": "185079ee-e8d6-4ef5-cca3-0fb9dc5d3d84"
      },
      "outputs": [
        {
          "data": {
            "text/html": [
              "\n",
              "  <div id=\"df-cf35b1a0-329a-43ae-ba7f-de15b6ed0f9c\">\n",
              "    <div class=\"colab-df-container\">\n",
              "      <div>\n",
              "<style scoped>\n",
              "    .dataframe tbody tr th:only-of-type {\n",
              "        vertical-align: middle;\n",
              "    }\n",
              "\n",
              "    .dataframe tbody tr th {\n",
              "        vertical-align: top;\n",
              "    }\n",
              "\n",
              "    .dataframe thead th {\n",
              "        text-align: right;\n",
              "    }\n",
              "</style>\n",
              "<table border=\"1\" class=\"dataframe\">\n",
              "  <thead>\n",
              "    <tr style=\"text-align: right;\">\n",
              "      <th></th>\n",
              "      <th>TRIMA</th>\n",
              "      <th>RSI</th>\n",
              "      <th>EMA</th>\n",
              "      <th>MACD</th>\n",
              "      <th>DMI</th>\n",
              "      <th>SAR</th>\n",
              "      <th>Will_SMA</th>\n",
              "      <th>CCI</th>\n",
              "      <th>WMA</th>\n",
              "      <th>Multi</th>\n",
              "      <th>BestMonth</th>\n",
              "      <th>BestWeekly</th>\n",
              "      <th>BestDay</th>\n",
              "      <th>Buy/Hold</th>\n",
              "    </tr>\n",
              "  </thead>\n",
              "  <tbody>\n",
              "    <tr>\n",
              "      <th>BTC</th>\n",
              "      <td>0.075848</td>\n",
              "      <td>0.075848</td>\n",
              "      <td>0.075848</td>\n",
              "      <td>0.075848</td>\n",
              "      <td>0.005991</td>\n",
              "      <td>0.717476</td>\n",
              "      <td>-0.063673</td>\n",
              "      <td>0.220492</td>\n",
              "      <td>-0.388317</td>\n",
              "      <td>0.256827</td>\n",
              "      <td>0.183469</td>\n",
              "      <td>-0.074598</td>\n",
              "      <td>0.014666</td>\n",
              "      <td>-0.070501</td>\n",
              "    </tr>\n",
              "    <tr>\n",
              "      <th>ETH</th>\n",
              "      <td>-0.417320</td>\n",
              "      <td>0.109492</td>\n",
              "      <td>-0.234710</td>\n",
              "      <td>0.109492</td>\n",
              "      <td>0.098392</td>\n",
              "      <td>0.935098</td>\n",
              "      <td>0.030601</td>\n",
              "      <td>-0.082767</td>\n",
              "      <td>-0.171542</td>\n",
              "      <td>0.158273</td>\n",
              "      <td>0.108836</td>\n",
              "      <td>0.148901</td>\n",
              "      <td>0.374719</td>\n",
              "      <td>-0.098686</td>\n",
              "    </tr>\n",
              "    <tr>\n",
              "      <th>SOL</th>\n",
              "      <td>-0.394449</td>\n",
              "      <td>0.474451</td>\n",
              "      <td>0.474451</td>\n",
              "      <td>0.474451</td>\n",
              "      <td>0.070959</td>\n",
              "      <td>-0.186788</td>\n",
              "      <td>0.225169</td>\n",
              "      <td>0.280377</td>\n",
              "      <td>0.119705</td>\n",
              "      <td>2.999822</td>\n",
              "      <td>0.814662</td>\n",
              "      <td>0.200312</td>\n",
              "      <td>0.655340</td>\n",
              "      <td>-0.321782</td>\n",
              "    </tr>\n",
              "    <tr>\n",
              "      <th>XRP</th>\n",
              "      <td>0.016030</td>\n",
              "      <td>0.016030</td>\n",
              "      <td>0.016030</td>\n",
              "      <td>-0.071841</td>\n",
              "      <td>-0.015777</td>\n",
              "      <td>-0.388450</td>\n",
              "      <td>-0.181466</td>\n",
              "      <td>-0.058845</td>\n",
              "      <td>-0.211812</td>\n",
              "      <td>0.077040</td>\n",
              "      <td>-0.576899</td>\n",
              "      <td>-0.112332</td>\n",
              "      <td>-0.233326</td>\n",
              "      <td>-0.015777</td>\n",
              "    </tr>\n",
              "    <tr>\n",
              "      <th>BNB</th>\n",
              "      <td>-0.261510</td>\n",
              "      <td>0.191148</td>\n",
              "      <td>-0.207034</td>\n",
              "      <td>0.191148</td>\n",
              "      <td>0.091865</td>\n",
              "      <td>0.664362</td>\n",
              "      <td>-0.002144</td>\n",
              "      <td>0.119423</td>\n",
              "      <td>-0.013108</td>\n",
              "      <td>-0.054998</td>\n",
              "      <td>-0.204556</td>\n",
              "      <td>-0.021805</td>\n",
              "      <td>-0.181203</td>\n",
              "      <td>-0.160474</td>\n",
              "    </tr>\n",
              "    <tr>\n",
              "      <th>BCH</th>\n",
              "      <td>0.164453</td>\n",
              "      <td>0.545918</td>\n",
              "      <td>-0.266022</td>\n",
              "      <td>0.164453</td>\n",
              "      <td>-0.165962</td>\n",
              "      <td>0.486583</td>\n",
              "      <td>-0.128309</td>\n",
              "      <td>0.110968</td>\n",
              "      <td>-0.178532</td>\n",
              "      <td>0.518871</td>\n",
              "      <td>-0.390961</td>\n",
              "      <td>-0.169616</td>\n",
              "      <td>-0.436563</td>\n",
              "      <td>-0.141227</td>\n",
              "    </tr>\n",
              "    <tr>\n",
              "      <th>ADA</th>\n",
              "      <td>0.371841</td>\n",
              "      <td>0.371841</td>\n",
              "      <td>0.371841</td>\n",
              "      <td>0.371841</td>\n",
              "      <td>-0.304862</td>\n",
              "      <td>-0.011922</td>\n",
              "      <td>0.239028</td>\n",
              "      <td>1.443097</td>\n",
              "      <td>-0.413123</td>\n",
              "      <td>0.544450</td>\n",
              "      <td>-0.314425</td>\n",
              "      <td>0.534697</td>\n",
              "      <td>0.067524</td>\n",
              "      <td>-0.271053</td>\n",
              "    </tr>\n",
              "    <tr>\n",
              "      <th>LTC</th>\n",
              "      <td>0.344498</td>\n",
              "      <td>0.344498</td>\n",
              "      <td>0.143476</td>\n",
              "      <td>0.344498</td>\n",
              "      <td>-0.231107</td>\n",
              "      <td>-0.127436</td>\n",
              "      <td>0.047825</td>\n",
              "      <td>0.234991</td>\n",
              "      <td>-0.194058</td>\n",
              "      <td>1.010111</td>\n",
              "      <td>-0.035371</td>\n",
              "      <td>1.704010</td>\n",
              "      <td>0.188740</td>\n",
              "      <td>-0.256228</td>\n",
              "    </tr>\n",
              "  </tbody>\n",
              "</table>\n",
              "</div>\n",
              "      <button class=\"colab-df-convert\" onclick=\"convertToInteractive('df-cf35b1a0-329a-43ae-ba7f-de15b6ed0f9c')\"\n",
              "              title=\"Convert this dataframe to an interactive table.\"\n",
              "              style=\"display:none;\">\n",
              "        \n",
              "  <svg xmlns=\"http://www.w3.org/2000/svg\" height=\"24px\"viewBox=\"0 0 24 24\"\n",
              "       width=\"24px\">\n",
              "    <path d=\"M0 0h24v24H0V0z\" fill=\"none\"/>\n",
              "    <path d=\"M18.56 5.44l.94 2.06.94-2.06 2.06-.94-2.06-.94-.94-2.06-.94 2.06-2.06.94zm-11 1L8.5 8.5l.94-2.06 2.06-.94-2.06-.94L8.5 2.5l-.94 2.06-2.06.94zm10 10l.94 2.06.94-2.06 2.06-.94-2.06-.94-.94-2.06-.94 2.06-2.06.94z\"/><path d=\"M17.41 7.96l-1.37-1.37c-.4-.4-.92-.59-1.43-.59-.52 0-1.04.2-1.43.59L10.3 9.45l-7.72 7.72c-.78.78-.78 2.05 0 2.83L4 21.41c.39.39.9.59 1.41.59.51 0 1.02-.2 1.41-.59l7.78-7.78 2.81-2.81c.8-.78.8-2.07 0-2.86zM5.41 20L4 18.59l7.72-7.72 1.47 1.35L5.41 20z\"/>\n",
              "  </svg>\n",
              "      </button>\n",
              "      \n",
              "  <style>\n",
              "    .colab-df-container {\n",
              "      display:flex;\n",
              "      flex-wrap:wrap;\n",
              "      gap: 12px;\n",
              "    }\n",
              "\n",
              "    .colab-df-convert {\n",
              "      background-color: #E8F0FE;\n",
              "      border: none;\n",
              "      border-radius: 50%;\n",
              "      cursor: pointer;\n",
              "      display: none;\n",
              "      fill: #1967D2;\n",
              "      height: 32px;\n",
              "      padding: 0 0 0 0;\n",
              "      width: 32px;\n",
              "    }\n",
              "\n",
              "    .colab-df-convert:hover {\n",
              "      background-color: #E2EBFA;\n",
              "      box-shadow: 0px 1px 2px rgba(60, 64, 67, 0.3), 0px 1px 3px 1px rgba(60, 64, 67, 0.15);\n",
              "      fill: #174EA6;\n",
              "    }\n",
              "\n",
              "    [theme=dark] .colab-df-convert {\n",
              "      background-color: #3B4455;\n",
              "      fill: #D2E3FC;\n",
              "    }\n",
              "\n",
              "    [theme=dark] .colab-df-convert:hover {\n",
              "      background-color: #434B5C;\n",
              "      box-shadow: 0px 1px 3px 1px rgba(0, 0, 0, 0.15);\n",
              "      filter: drop-shadow(0px 1px 2px rgba(0, 0, 0, 0.3));\n",
              "      fill: #FFFFFF;\n",
              "    }\n",
              "  </style>\n",
              "\n",
              "      <script>\n",
              "        const buttonEl =\n",
              "          document.querySelector('#df-cf35b1a0-329a-43ae-ba7f-de15b6ed0f9c button.colab-df-convert');\n",
              "        buttonEl.style.display =\n",
              "          google.colab.kernel.accessAllowed ? 'block' : 'none';\n",
              "\n",
              "        async function convertToInteractive(key) {\n",
              "          const element = document.querySelector('#df-cf35b1a0-329a-43ae-ba7f-de15b6ed0f9c');\n",
              "          const dataTable =\n",
              "            await google.colab.kernel.invokeFunction('convertToInteractive',\n",
              "                                                     [key], {});\n",
              "          if (!dataTable) return;\n",
              "\n",
              "          const docLinkHtml = 'Like what you see? Visit the ' +\n",
              "            '<a target=\"_blank\" href=https://colab.research.google.com/notebooks/data_table.ipynb>data table notebook</a>'\n",
              "            + ' to learn more about interactive tables.';\n",
              "          element.innerHTML = '';\n",
              "          dataTable['output_type'] = 'display_data';\n",
              "          await google.colab.output.renderOutput(dataTable, element);\n",
              "          const docLink = document.createElement('div');\n",
              "          docLink.innerHTML = docLinkHtml;\n",
              "          element.appendChild(docLink);\n",
              "        }\n",
              "      </script>\n",
              "    </div>\n",
              "  </div>\n",
              "  "
            ],
            "text/plain": [
              "        TRIMA       RSI       EMA      MACD       DMI       SAR  Will_SMA  \\\n",
              "BTC  0.075848  0.075848  0.075848  0.075848  0.005991  0.717476 -0.063673   \n",
              "ETH -0.417320  0.109492 -0.234710  0.109492  0.098392  0.935098  0.030601   \n",
              "SOL -0.394449  0.474451  0.474451  0.474451  0.070959 -0.186788  0.225169   \n",
              "XRP  0.016030  0.016030  0.016030 -0.071841 -0.015777 -0.388450 -0.181466   \n",
              "BNB -0.261510  0.191148 -0.207034  0.191148  0.091865  0.664362 -0.002144   \n",
              "BCH  0.164453  0.545918 -0.266022  0.164453 -0.165962  0.486583 -0.128309   \n",
              "ADA  0.371841  0.371841  0.371841  0.371841 -0.304862 -0.011922  0.239028   \n",
              "LTC  0.344498  0.344498  0.143476  0.344498 -0.231107 -0.127436  0.047825   \n",
              "\n",
              "          CCI       WMA     Multi  BestMonth  BestWeekly   BestDay  Buy/Hold  \n",
              "BTC  0.220492 -0.388317  0.256827   0.183469   -0.074598  0.014666 -0.070501  \n",
              "ETH -0.082767 -0.171542  0.158273   0.108836    0.148901  0.374719 -0.098686  \n",
              "SOL  0.280377  0.119705  2.999822   0.814662    0.200312  0.655340 -0.321782  \n",
              "XRP -0.058845 -0.211812  0.077040  -0.576899   -0.112332 -0.233326 -0.015777  \n",
              "BNB  0.119423 -0.013108 -0.054998  -0.204556   -0.021805 -0.181203 -0.160474  \n",
              "BCH  0.110968 -0.178532  0.518871  -0.390961   -0.169616 -0.436563 -0.141227  \n",
              "ADA  1.443097 -0.413123  0.544450  -0.314425    0.534697  0.067524 -0.271053  \n",
              "LTC  0.234991 -0.194058  1.010111  -0.035371    1.704010  0.188740 -0.256228  "
            ]
          },
          "execution_count": 29,
          "metadata": {},
          "output_type": "execute_result"
        }
      ],
      "source": [
        "# #Get 3 month perf\n",
        "# l=[]\n",
        "# l2=[]\n",
        "# for i in listeCoin:\n",
        "#   max = d[i+'Portfolio_Y'].tail(1).values[0]\n",
        "#   begin = d[i+'Portfolio_Y'][d[i+'Portfolio_Y'].index==(datetime.today()-timedelta(90)).strftime('%Y-%m-%d')].values[0]\n",
        "#   rd = (max-begin)/begin\n",
        "#   l.append(rd)\n",
        "#   max = d[i]['close'].tail(1).values[0]\n",
        "#   begin = d[i]['close'][d[i].index==(datetime.today()-timedelta(90)).strftime('%Y-%m-%d')].values[0]\n",
        "#   rd = (max-begin)/begin\n",
        "#   l2.append(rd)\n",
        "# df=pd.DataFrame(l,index=listeCoin,columns=listeStrat2)\n",
        "# df['Buy/Hold']=l2\n",
        "# df"
      ]
    },
    {
      "cell_type": "code",
      "execution_count": null,
      "metadata": {
        "id": "dWt376ffTRfz"
      },
      "outputs": [],
      "source": [
        "# df.to_excel('Strat_3M.xlsx')"
      ]
    },
    {
      "cell_type": "code",
      "execution_count": null,
      "metadata": {
        "colab": {
          "base_uri": "https://localhost:8080/",
          "height": 300
        },
        "id": "MfVuXIV-t_fQ",
        "outputId": "655f51f3-b383-468a-fc45-77053f2e8adb"
      },
      "outputs": [
        {
          "data": {
            "text/html": [
              "\n",
              "  <div id=\"df-b37f51f8-e5a7-4ece-9ad1-10a928cf5cf7\">\n",
              "    <div class=\"colab-df-container\">\n",
              "      <div>\n",
              "<style scoped>\n",
              "    .dataframe tbody tr th:only-of-type {\n",
              "        vertical-align: middle;\n",
              "    }\n",
              "\n",
              "    .dataframe tbody tr th {\n",
              "        vertical-align: top;\n",
              "    }\n",
              "\n",
              "    .dataframe thead th {\n",
              "        text-align: right;\n",
              "    }\n",
              "</style>\n",
              "<table border=\"1\" class=\"dataframe\">\n",
              "  <thead>\n",
              "    <tr style=\"text-align: right;\">\n",
              "      <th></th>\n",
              "      <th>TRIMA</th>\n",
              "      <th>RSI</th>\n",
              "      <th>EMA</th>\n",
              "      <th>MACD</th>\n",
              "      <th>DMI</th>\n",
              "      <th>SAR</th>\n",
              "      <th>Will_SMA</th>\n",
              "      <th>CCI</th>\n",
              "      <th>WMA</th>\n",
              "      <th>Multi</th>\n",
              "      <th>BestMonth</th>\n",
              "      <th>BestWeekly</th>\n",
              "      <th>BestDay</th>\n",
              "      <th>Buy/Hold</th>\n",
              "    </tr>\n",
              "  </thead>\n",
              "  <tbody>\n",
              "    <tr>\n",
              "      <th>BTC</th>\n",
              "      <td>0.027033</td>\n",
              "      <td>0.027033</td>\n",
              "      <td>0.027033</td>\n",
              "      <td>0.027033</td>\n",
              "      <td>-0.026321</td>\n",
              "      <td>-0.061964</td>\n",
              "      <td>-0.106157</td>\n",
              "      <td>0.027033</td>\n",
              "      <td>-0.100005</td>\n",
              "      <td>0.274510</td>\n",
              "      <td>-0.171238</td>\n",
              "      <td>0.205518</td>\n",
              "      <td>0.133919</td>\n",
              "      <td>-0.026321</td>\n",
              "    </tr>\n",
              "    <tr>\n",
              "      <th>ETH</th>\n",
              "      <td>-0.074993</td>\n",
              "      <td>-0.074993</td>\n",
              "      <td>-0.074993</td>\n",
              "      <td>-0.074993</td>\n",
              "      <td>0.081073</td>\n",
              "      <td>-0.068635</td>\n",
              "      <td>-0.140766</td>\n",
              "      <td>-0.016699</td>\n",
              "      <td>0.031847</td>\n",
              "      <td>0.070363</td>\n",
              "      <td>-0.216818</td>\n",
              "      <td>-0.047341</td>\n",
              "      <td>-0.006574</td>\n",
              "      <td>0.081073</td>\n",
              "    </tr>\n",
              "    <tr>\n",
              "      <th>SOL</th>\n",
              "      <td>-0.123353</td>\n",
              "      <td>-0.123353</td>\n",
              "      <td>-0.123353</td>\n",
              "      <td>-0.123353</td>\n",
              "      <td>0.140710</td>\n",
              "      <td>-0.268685</td>\n",
              "      <td>-0.271566</td>\n",
              "      <td>0.827612</td>\n",
              "      <td>-0.011342</td>\n",
              "      <td>0.450507</td>\n",
              "      <td>0.261315</td>\n",
              "      <td>0.247094</td>\n",
              "      <td>0.571314</td>\n",
              "      <td>0.140710</td>\n",
              "    </tr>\n",
              "    <tr>\n",
              "      <th>XRP</th>\n",
              "      <td>0.033103</td>\n",
              "      <td>0.033103</td>\n",
              "      <td>0.033103</td>\n",
              "      <td>-0.032042</td>\n",
              "      <td>-0.032042</td>\n",
              "      <td>-0.083839</td>\n",
              "      <td>-0.050873</td>\n",
              "      <td>0.033103</td>\n",
              "      <td>0.020111</td>\n",
              "      <td>0.083581</td>\n",
              "      <td>-0.136978</td>\n",
              "      <td>-0.080671</td>\n",
              "      <td>-0.018197</td>\n",
              "      <td>-0.032042</td>\n",
              "    </tr>\n",
              "    <tr>\n",
              "      <th>BNB</th>\n",
              "      <td>-0.071277</td>\n",
              "      <td>-0.071277</td>\n",
              "      <td>-0.071277</td>\n",
              "      <td>-0.071277</td>\n",
              "      <td>0.076748</td>\n",
              "      <td>-0.003005</td>\n",
              "      <td>-0.221984</td>\n",
              "      <td>0.204980</td>\n",
              "      <td>0.039796</td>\n",
              "      <td>0.102255</td>\n",
              "      <td>-0.095401</td>\n",
              "      <td>0.105111</td>\n",
              "      <td>0.038315</td>\n",
              "      <td>0.076748</td>\n",
              "    </tr>\n",
              "    <tr>\n",
              "      <th>BCH</th>\n",
              "      <td>-0.106934</td>\n",
              "      <td>0.119739</td>\n",
              "      <td>-0.106934</td>\n",
              "      <td>-0.106934</td>\n",
              "      <td>0.087488</td>\n",
              "      <td>0.101739</td>\n",
              "      <td>-0.331465</td>\n",
              "      <td>0.341905</td>\n",
              "      <td>-0.148487</td>\n",
              "      <td>0.207290</td>\n",
              "      <td>-0.055121</td>\n",
              "      <td>0.066356</td>\n",
              "      <td>0.088677</td>\n",
              "      <td>0.119739</td>\n",
              "    </tr>\n",
              "    <tr>\n",
              "      <th>ADA</th>\n",
              "      <td>-0.109153</td>\n",
              "      <td>-0.109153</td>\n",
              "      <td>-0.109153</td>\n",
              "      <td>-0.109153</td>\n",
              "      <td>0.070463</td>\n",
              "      <td>-0.220467</td>\n",
              "      <td>-0.195399</td>\n",
              "      <td>0.650485</td>\n",
              "      <td>-0.208640</td>\n",
              "      <td>0.648692</td>\n",
              "      <td>-0.146916</td>\n",
              "      <td>0.457922</td>\n",
              "      <td>0.101686</td>\n",
              "      <td>0.122527</td>\n",
              "    </tr>\n",
              "    <tr>\n",
              "      <th>LTC</th>\n",
              "      <td>0.014108</td>\n",
              "      <td>0.014108</td>\n",
              "      <td>0.014108</td>\n",
              "      <td>0.014108</td>\n",
              "      <td>0.019393</td>\n",
              "      <td>-0.201913</td>\n",
              "      <td>-0.209663</td>\n",
              "      <td>0.237181</td>\n",
              "      <td>0.027740</td>\n",
              "      <td>0.175614</td>\n",
              "      <td>0.215897</td>\n",
              "      <td>0.211209</td>\n",
              "      <td>0.211209</td>\n",
              "      <td>-0.013911</td>\n",
              "    </tr>\n",
              "  </tbody>\n",
              "</table>\n",
              "</div>\n",
              "      <button class=\"colab-df-convert\" onclick=\"convertToInteractive('df-b37f51f8-e5a7-4ece-9ad1-10a928cf5cf7')\"\n",
              "              title=\"Convert this dataframe to an interactive table.\"\n",
              "              style=\"display:none;\">\n",
              "        \n",
              "  <svg xmlns=\"http://www.w3.org/2000/svg\" height=\"24px\"viewBox=\"0 0 24 24\"\n",
              "       width=\"24px\">\n",
              "    <path d=\"M0 0h24v24H0V0z\" fill=\"none\"/>\n",
              "    <path d=\"M18.56 5.44l.94 2.06.94-2.06 2.06-.94-2.06-.94-.94-2.06-.94 2.06-2.06.94zm-11 1L8.5 8.5l.94-2.06 2.06-.94-2.06-.94L8.5 2.5l-.94 2.06-2.06.94zm10 10l.94 2.06.94-2.06 2.06-.94-2.06-.94-.94-2.06-.94 2.06-2.06.94z\"/><path d=\"M17.41 7.96l-1.37-1.37c-.4-.4-.92-.59-1.43-.59-.52 0-1.04.2-1.43.59L10.3 9.45l-7.72 7.72c-.78.78-.78 2.05 0 2.83L4 21.41c.39.39.9.59 1.41.59.51 0 1.02-.2 1.41-.59l7.78-7.78 2.81-2.81c.8-.78.8-2.07 0-2.86zM5.41 20L4 18.59l7.72-7.72 1.47 1.35L5.41 20z\"/>\n",
              "  </svg>\n",
              "      </button>\n",
              "      \n",
              "  <style>\n",
              "    .colab-df-container {\n",
              "      display:flex;\n",
              "      flex-wrap:wrap;\n",
              "      gap: 12px;\n",
              "    }\n",
              "\n",
              "    .colab-df-convert {\n",
              "      background-color: #E8F0FE;\n",
              "      border: none;\n",
              "      border-radius: 50%;\n",
              "      cursor: pointer;\n",
              "      display: none;\n",
              "      fill: #1967D2;\n",
              "      height: 32px;\n",
              "      padding: 0 0 0 0;\n",
              "      width: 32px;\n",
              "    }\n",
              "\n",
              "    .colab-df-convert:hover {\n",
              "      background-color: #E2EBFA;\n",
              "      box-shadow: 0px 1px 2px rgba(60, 64, 67, 0.3), 0px 1px 3px 1px rgba(60, 64, 67, 0.15);\n",
              "      fill: #174EA6;\n",
              "    }\n",
              "\n",
              "    [theme=dark] .colab-df-convert {\n",
              "      background-color: #3B4455;\n",
              "      fill: #D2E3FC;\n",
              "    }\n",
              "\n",
              "    [theme=dark] .colab-df-convert:hover {\n",
              "      background-color: #434B5C;\n",
              "      box-shadow: 0px 1px 3px 1px rgba(0, 0, 0, 0.15);\n",
              "      filter: drop-shadow(0px 1px 2px rgba(0, 0, 0, 0.3));\n",
              "      fill: #FFFFFF;\n",
              "    }\n",
              "  </style>\n",
              "\n",
              "      <script>\n",
              "        const buttonEl =\n",
              "          document.querySelector('#df-b37f51f8-e5a7-4ece-9ad1-10a928cf5cf7 button.colab-df-convert');\n",
              "        buttonEl.style.display =\n",
              "          google.colab.kernel.accessAllowed ? 'block' : 'none';\n",
              "\n",
              "        async function convertToInteractive(key) {\n",
              "          const element = document.querySelector('#df-b37f51f8-e5a7-4ece-9ad1-10a928cf5cf7');\n",
              "          const dataTable =\n",
              "            await google.colab.kernel.invokeFunction('convertToInteractive',\n",
              "                                                     [key], {});\n",
              "          if (!dataTable) return;\n",
              "\n",
              "          const docLinkHtml = 'Like what you see? Visit the ' +\n",
              "            '<a target=\"_blank\" href=https://colab.research.google.com/notebooks/data_table.ipynb>data table notebook</a>'\n",
              "            + ' to learn more about interactive tables.';\n",
              "          element.innerHTML = '';\n",
              "          dataTable['output_type'] = 'display_data';\n",
              "          await google.colab.output.renderOutput(dataTable, element);\n",
              "          const docLink = document.createElement('div');\n",
              "          docLink.innerHTML = docLinkHtml;\n",
              "          element.appendChild(docLink);\n",
              "        }\n",
              "      </script>\n",
              "    </div>\n",
              "  </div>\n",
              "  "
            ],
            "text/plain": [
              "        TRIMA       RSI       EMA      MACD       DMI       SAR  Will_SMA  \\\n",
              "BTC  0.027033  0.027033  0.027033  0.027033 -0.026321 -0.061964 -0.106157   \n",
              "ETH -0.074993 -0.074993 -0.074993 -0.074993  0.081073 -0.068635 -0.140766   \n",
              "SOL -0.123353 -0.123353 -0.123353 -0.123353  0.140710 -0.268685 -0.271566   \n",
              "XRP  0.033103  0.033103  0.033103 -0.032042 -0.032042 -0.083839 -0.050873   \n",
              "BNB -0.071277 -0.071277 -0.071277 -0.071277  0.076748 -0.003005 -0.221984   \n",
              "BCH -0.106934  0.119739 -0.106934 -0.106934  0.087488  0.101739 -0.331465   \n",
              "ADA -0.109153 -0.109153 -0.109153 -0.109153  0.070463 -0.220467 -0.195399   \n",
              "LTC  0.014108  0.014108  0.014108  0.014108  0.019393 -0.201913 -0.209663   \n",
              "\n",
              "          CCI       WMA     Multi  BestMonth  BestWeekly   BestDay  Buy/Hold  \n",
              "BTC  0.027033 -0.100005  0.274510  -0.171238    0.205518  0.133919 -0.026321  \n",
              "ETH -0.016699  0.031847  0.070363  -0.216818   -0.047341 -0.006574  0.081073  \n",
              "SOL  0.827612 -0.011342  0.450507   0.261315    0.247094  0.571314  0.140710  \n",
              "XRP  0.033103  0.020111  0.083581  -0.136978   -0.080671 -0.018197 -0.032042  \n",
              "BNB  0.204980  0.039796  0.102255  -0.095401    0.105111  0.038315  0.076748  \n",
              "BCH  0.341905 -0.148487  0.207290  -0.055121    0.066356  0.088677  0.119739  \n",
              "ADA  0.650485 -0.208640  0.648692  -0.146916    0.457922  0.101686  0.122527  \n",
              "LTC  0.237181  0.027740  0.175614   0.215897    0.211209  0.211209 -0.013911  "
            ]
          },
          "execution_count": 31,
          "metadata": {},
          "output_type": "execute_result"
        }
      ],
      "source": [
        "# #Get 1 month perf\n",
        "# l=[]\n",
        "# l2=[]\n",
        "# for i in listeCoin:\n",
        "#   max = d[i+'Portfolio_Y'].tail(1).values[0]\n",
        "#   begin = d[i+'Portfolio_Y'][d[i+'Portfolio_Y'].index==(datetime.today()-timedelta(30)).strftime('%Y-%m-%d')].values[0]\n",
        "#   rd = (max-begin)/begin\n",
        "#   l.append(rd)\n",
        "#   max = d[i]['close'].tail(1).values[0]\n",
        "#   begin = d[i]['close'][d[i].index==(datetime.today()-timedelta(30)).strftime('%Y-%m-%d')].values[0]\n",
        "#   rd = (max-begin)/begin\n",
        "#   l2.append(rd)\n",
        "# df=pd.DataFrame(l,index=listeCoin,columns=listeStrat2)\n",
        "# df['Buy/Hold']=l2\n",
        "# df"
      ]
    },
    {
      "cell_type": "code",
      "execution_count": null,
      "metadata": {
        "id": "a_EpJftWuOYF"
      },
      "outputs": [],
      "source": [
        "# df.to_excel('Strat_1M.xlsx')"
      ]
    },
    {
      "cell_type": "code",
      "execution_count": null,
      "metadata": {
        "colab": {
          "base_uri": "https://localhost:8080/",
          "height": 300
        },
        "id": "jY2QgbzvuWkJ",
        "outputId": "0e8175c4-017b-4129-db4e-70faeae9039a"
      },
      "outputs": [
        {
          "data": {
            "text/html": [
              "\n",
              "  <div id=\"df-cc7070e6-da3f-480f-9fba-f18abb91b385\">\n",
              "    <div class=\"colab-df-container\">\n",
              "      <div>\n",
              "<style scoped>\n",
              "    .dataframe tbody tr th:only-of-type {\n",
              "        vertical-align: middle;\n",
              "    }\n",
              "\n",
              "    .dataframe tbody tr th {\n",
              "        vertical-align: top;\n",
              "    }\n",
              "\n",
              "    .dataframe thead th {\n",
              "        text-align: right;\n",
              "    }\n",
              "</style>\n",
              "<table border=\"1\" class=\"dataframe\">\n",
              "  <thead>\n",
              "    <tr style=\"text-align: right;\">\n",
              "      <th></th>\n",
              "      <th>TRIMA</th>\n",
              "      <th>RSI</th>\n",
              "      <th>EMA</th>\n",
              "      <th>MACD</th>\n",
              "      <th>DMI</th>\n",
              "      <th>SAR</th>\n",
              "      <th>Will_SMA</th>\n",
              "      <th>CCI</th>\n",
              "      <th>WMA</th>\n",
              "      <th>Multi</th>\n",
              "      <th>BestMonth</th>\n",
              "      <th>BestWeekly</th>\n",
              "      <th>BestDay</th>\n",
              "      <th>Buy/Hold</th>\n",
              "    </tr>\n",
              "  </thead>\n",
              "  <tbody>\n",
              "    <tr>\n",
              "      <th>BTC</th>\n",
              "      <td>-0.013360</td>\n",
              "      <td>0.191915</td>\n",
              "      <td>0.191915</td>\n",
              "      <td>0.098310</td>\n",
              "      <td>0.114522</td>\n",
              "      <td>0.513527</td>\n",
              "      <td>0.037343</td>\n",
              "      <td>0.374126</td>\n",
              "      <td>-0.322326</td>\n",
              "      <td>0.308500</td>\n",
              "      <td>0.250272</td>\n",
              "      <td>-0.112214</td>\n",
              "      <td>0.027752</td>\n",
              "      <td>-0.161014</td>\n",
              "    </tr>\n",
              "    <tr>\n",
              "      <th>ETH</th>\n",
              "      <td>-0.485091</td>\n",
              "      <td>0.255521</td>\n",
              "      <td>-0.323721</td>\n",
              "      <td>0.255521</td>\n",
              "      <td>0.242961</td>\n",
              "      <td>0.710026</td>\n",
              "      <td>0.166248</td>\n",
              "      <td>-0.189450</td>\n",
              "      <td>-0.062501</td>\n",
              "      <td>0.205798</td>\n",
              "      <td>0.267423</td>\n",
              "      <td>0.208093</td>\n",
              "      <td>0.447277</td>\n",
              "      <td>-0.203518</td>\n",
              "    </tr>\n",
              "    <tr>\n",
              "      <th>SOL</th>\n",
              "      <td>-0.500452</td>\n",
              "      <td>0.787325</td>\n",
              "      <td>0.787325</td>\n",
              "      <td>0.787325</td>\n",
              "      <td>0.298213</td>\n",
              "      <td>-0.343055</td>\n",
              "      <td>0.485147</td>\n",
              "      <td>0.475791</td>\n",
              "      <td>0.224167</td>\n",
              "      <td>3.514671</td>\n",
              "      <td>1.048241</td>\n",
              "      <td>0.221587</td>\n",
              "      <td>0.966050</td>\n",
              "      <td>-0.440505</td>\n",
              "    </tr>\n",
              "    <tr>\n",
              "      <th>XRP</th>\n",
              "      <td>0.107911</td>\n",
              "      <td>0.107911</td>\n",
              "      <td>0.107911</td>\n",
              "      <td>0.012093</td>\n",
              "      <td>-0.097400</td>\n",
              "      <td>-0.439166</td>\n",
              "      <td>-0.107445</td>\n",
              "      <td>0.051195</td>\n",
              "      <td>-0.194654</td>\n",
              "      <td>-0.013655</td>\n",
              "      <td>-0.573859</td>\n",
              "      <td>-0.134866</td>\n",
              "      <td>-0.196273</td>\n",
              "      <td>-0.097400</td>\n",
              "    </tr>\n",
              "    <tr>\n",
              "      <th>BNB</th>\n",
              "      <td>-0.307485</td>\n",
              "      <td>0.270227</td>\n",
              "      <td>-0.256401</td>\n",
              "      <td>0.270227</td>\n",
              "      <td>0.164353</td>\n",
              "      <td>0.691313</td>\n",
              "      <td>0.064103</td>\n",
              "      <td>0.049732</td>\n",
              "      <td>0.052411</td>\n",
              "      <td>0.037516</td>\n",
              "      <td>-0.178569</td>\n",
              "      <td>0.073959</td>\n",
              "      <td>-0.076182</td>\n",
              "      <td>-0.212739</td>\n",
              "    </tr>\n",
              "    <tr>\n",
              "      <th>BCH</th>\n",
              "      <td>0.325331</td>\n",
              "      <td>0.759499</td>\n",
              "      <td>-0.355117</td>\n",
              "      <td>0.071931</td>\n",
              "      <td>-0.267203</td>\n",
              "      <td>0.416330</td>\n",
              "      <td>-0.007878</td>\n",
              "      <td>-0.023889</td>\n",
              "      <td>-0.065040</td>\n",
              "      <td>0.775546</td>\n",
              "      <td>-0.306818</td>\n",
              "      <td>-0.029288</td>\n",
              "      <td>-0.386471</td>\n",
              "      <td>-0.245471</td>\n",
              "    </tr>\n",
              "    <tr>\n",
              "      <th>ADA</th>\n",
              "      <td>0.465279</td>\n",
              "      <td>0.465279</td>\n",
              "      <td>0.465279</td>\n",
              "      <td>0.465279</td>\n",
              "      <td>-0.349189</td>\n",
              "      <td>-0.157488</td>\n",
              "      <td>0.323420</td>\n",
              "      <td>1.530549</td>\n",
              "      <td>-0.518875</td>\n",
              "      <td>0.456964</td>\n",
              "      <td>-0.570954</td>\n",
              "      <td>0.430269</td>\n",
              "      <td>-0.005116</td>\n",
              "      <td>-0.317536</td>\n",
              "    </tr>\n",
              "    <tr>\n",
              "      <th>LTC</th>\n",
              "      <td>0.329373</td>\n",
              "      <td>0.372713</td>\n",
              "      <td>0.119973</td>\n",
              "      <td>0.115702</td>\n",
              "      <td>-0.246911</td>\n",
              "      <td>-0.210498</td>\n",
              "      <td>0.069814</td>\n",
              "      <td>0.209607</td>\n",
              "      <td>-0.177145</td>\n",
              "      <td>0.787101</td>\n",
              "      <td>-0.105856</td>\n",
              "      <td>1.584501</td>\n",
              "      <td>0.322105</td>\n",
              "      <td>-0.271516</td>\n",
              "    </tr>\n",
              "  </tbody>\n",
              "</table>\n",
              "</div>\n",
              "      <button class=\"colab-df-convert\" onclick=\"convertToInteractive('df-cc7070e6-da3f-480f-9fba-f18abb91b385')\"\n",
              "              title=\"Convert this dataframe to an interactive table.\"\n",
              "              style=\"display:none;\">\n",
              "        \n",
              "  <svg xmlns=\"http://www.w3.org/2000/svg\" height=\"24px\"viewBox=\"0 0 24 24\"\n",
              "       width=\"24px\">\n",
              "    <path d=\"M0 0h24v24H0V0z\" fill=\"none\"/>\n",
              "    <path d=\"M18.56 5.44l.94 2.06.94-2.06 2.06-.94-2.06-.94-.94-2.06-.94 2.06-2.06.94zm-11 1L8.5 8.5l.94-2.06 2.06-.94-2.06-.94L8.5 2.5l-.94 2.06-2.06.94zm10 10l.94 2.06.94-2.06 2.06-.94-2.06-.94-.94-2.06-.94 2.06-2.06.94z\"/><path d=\"M17.41 7.96l-1.37-1.37c-.4-.4-.92-.59-1.43-.59-.52 0-1.04.2-1.43.59L10.3 9.45l-7.72 7.72c-.78.78-.78 2.05 0 2.83L4 21.41c.39.39.9.59 1.41.59.51 0 1.02-.2 1.41-.59l7.78-7.78 2.81-2.81c.8-.78.8-2.07 0-2.86zM5.41 20L4 18.59l7.72-7.72 1.47 1.35L5.41 20z\"/>\n",
              "  </svg>\n",
              "      </button>\n",
              "      \n",
              "  <style>\n",
              "    .colab-df-container {\n",
              "      display:flex;\n",
              "      flex-wrap:wrap;\n",
              "      gap: 12px;\n",
              "    }\n",
              "\n",
              "    .colab-df-convert {\n",
              "      background-color: #E8F0FE;\n",
              "      border: none;\n",
              "      border-radius: 50%;\n",
              "      cursor: pointer;\n",
              "      display: none;\n",
              "      fill: #1967D2;\n",
              "      height: 32px;\n",
              "      padding: 0 0 0 0;\n",
              "      width: 32px;\n",
              "    }\n",
              "\n",
              "    .colab-df-convert:hover {\n",
              "      background-color: #E2EBFA;\n",
              "      box-shadow: 0px 1px 2px rgba(60, 64, 67, 0.3), 0px 1px 3px 1px rgba(60, 64, 67, 0.15);\n",
              "      fill: #174EA6;\n",
              "    }\n",
              "\n",
              "    [theme=dark] .colab-df-convert {\n",
              "      background-color: #3B4455;\n",
              "      fill: #D2E3FC;\n",
              "    }\n",
              "\n",
              "    [theme=dark] .colab-df-convert:hover {\n",
              "      background-color: #434B5C;\n",
              "      box-shadow: 0px 1px 3px 1px rgba(0, 0, 0, 0.15);\n",
              "      filter: drop-shadow(0px 1px 2px rgba(0, 0, 0, 0.3));\n",
              "      fill: #FFFFFF;\n",
              "    }\n",
              "  </style>\n",
              "\n",
              "      <script>\n",
              "        const buttonEl =\n",
              "          document.querySelector('#df-cc7070e6-da3f-480f-9fba-f18abb91b385 button.colab-df-convert');\n",
              "        buttonEl.style.display =\n",
              "          google.colab.kernel.accessAllowed ? 'block' : 'none';\n",
              "\n",
              "        async function convertToInteractive(key) {\n",
              "          const element = document.querySelector('#df-cc7070e6-da3f-480f-9fba-f18abb91b385');\n",
              "          const dataTable =\n",
              "            await google.colab.kernel.invokeFunction('convertToInteractive',\n",
              "                                                     [key], {});\n",
              "          if (!dataTable) return;\n",
              "\n",
              "          const docLinkHtml = 'Like what you see? Visit the ' +\n",
              "            '<a target=\"_blank\" href=https://colab.research.google.com/notebooks/data_table.ipynb>data table notebook</a>'\n",
              "            + ' to learn more about interactive tables.';\n",
              "          element.innerHTML = '';\n",
              "          dataTable['output_type'] = 'display_data';\n",
              "          await google.colab.output.renderOutput(dataTable, element);\n",
              "          const docLink = document.createElement('div');\n",
              "          docLink.innerHTML = docLinkHtml;\n",
              "          element.appendChild(docLink);\n",
              "        }\n",
              "      </script>\n",
              "    </div>\n",
              "  </div>\n",
              "  "
            ],
            "text/plain": [
              "        TRIMA       RSI       EMA      MACD       DMI       SAR  Will_SMA  \\\n",
              "BTC -0.013360  0.191915  0.191915  0.098310  0.114522  0.513527  0.037343   \n",
              "ETH -0.485091  0.255521 -0.323721  0.255521  0.242961  0.710026  0.166248   \n",
              "SOL -0.500452  0.787325  0.787325  0.787325  0.298213 -0.343055  0.485147   \n",
              "XRP  0.107911  0.107911  0.107911  0.012093 -0.097400 -0.439166 -0.107445   \n",
              "BNB -0.307485  0.270227 -0.256401  0.270227  0.164353  0.691313  0.064103   \n",
              "BCH  0.325331  0.759499 -0.355117  0.071931 -0.267203  0.416330 -0.007878   \n",
              "ADA  0.465279  0.465279  0.465279  0.465279 -0.349189 -0.157488  0.323420   \n",
              "LTC  0.329373  0.372713  0.119973  0.115702 -0.246911 -0.210498  0.069814   \n",
              "\n",
              "          CCI       WMA     Multi  BestMonth  BestWeekly   BestDay  Buy/Hold  \n",
              "BTC  0.374126 -0.322326  0.308500   0.250272   -0.112214  0.027752 -0.161014  \n",
              "ETH -0.189450 -0.062501  0.205798   0.267423    0.208093  0.447277 -0.203518  \n",
              "SOL  0.475791  0.224167  3.514671   1.048241    0.221587  0.966050 -0.440505  \n",
              "XRP  0.051195 -0.194654 -0.013655  -0.573859   -0.134866 -0.196273 -0.097400  \n",
              "BNB  0.049732  0.052411  0.037516  -0.178569    0.073959 -0.076182 -0.212739  \n",
              "BCH -0.023889 -0.065040  0.775546  -0.306818   -0.029288 -0.386471 -0.245471  \n",
              "ADA  1.530549 -0.518875  0.456964  -0.570954    0.430269 -0.005116 -0.317536  \n",
              "LTC  0.209607 -0.177145  0.787101  -0.105856    1.584501  0.322105 -0.271516  "
            ]
          },
          "execution_count": 33,
          "metadata": {},
          "output_type": "execute_result"
        }
      ],
      "source": [
        "# #Get YTD perf\n",
        "# l=[]\n",
        "# l2=[]\n",
        "# for i in listeCoin:\n",
        "#   max = d[i+'Portfolio_Y'].tail(1).values[0]\n",
        "#   begin = d[i+'Portfolio_Y'][d[i+'Portfolio_Y'].index==str(datetime.today().year)+'-01-01'].values[0]\n",
        "#   rd = (max-begin)/begin\n",
        "#   l.append(rd)\n",
        "#   max = d[i]['close'].tail(1).values[0]\n",
        "#   begin = d[i]['close'][d[i].index==str(datetime.today().year)+'-01-01'].values[0]\n",
        "#   rd = (max-begin)/begin\n",
        "#   l2.append(rd)\n",
        "# df=pd.DataFrame(l,index=listeCoin,columns=listeStrat2)\n",
        "# df['Buy/Hold']=l2\n",
        "# df"
      ]
    },
    {
      "cell_type": "code",
      "execution_count": null,
      "metadata": {
        "id": "0M8cNul4ujc1"
      },
      "outputs": [],
      "source": [
        "# df.to_excel('Strat_YTD.xlsx')"
      ]
    },
    {
      "cell_type": "markdown",
      "metadata": {
        "id": "pKpy9DjuMhXu"
      },
      "source": [
        "# Creation Variable ML"
      ]
    },
    {
      "cell_type": "markdown",
      "metadata": {
        "id": "aGPr1vk3ChWw"
      },
      "source": [
        "## Creation Signal"
      ]
    },
    {
      "cell_type": "code",
      "execution_count": null,
      "metadata": {
        "colab": {
          "base_uri": "https://localhost:8080/"
        },
        "id": "5NnnfKDJn8Jv",
        "outputId": "e6b90ee1-d454-482d-ab9c-926c3a78b4ba"
      },
      "outputs": [
        {
          "output_type": "stream",
          "name": "stderr",
          "text": [
            "/usr/local/lib/python3.7/dist-packages/pandas/core/frame.py:5047: SettingWithCopyWarning: \n",
            "A value is trying to be set on a copy of a slice from a DataFrame\n",
            "\n",
            "See the caveats in the documentation: https://pandas.pydata.org/pandas-docs/stable/user_guide/indexing.html#returning-a-view-versus-a-copy\n",
            "  errors=errors,\n",
            "/usr/local/lib/python3.7/dist-packages/ipykernel_launcher.py:29: SettingWithCopyWarning: \n",
            "A value is trying to be set on a copy of a slice from a DataFrame.\n",
            "Try using .loc[row_indexer,col_indexer] = value instead\n",
            "\n",
            "See the caveats in the documentation: https://pandas.pydata.org/pandas-docs/stable/user_guide/indexing.html#returning-a-view-versus-a-copy\n",
            "/usr/local/lib/python3.7/dist-packages/pandas/core/frame.py:5047: SettingWithCopyWarning: \n",
            "A value is trying to be set on a copy of a slice from a DataFrame\n",
            "\n",
            "See the caveats in the documentation: https://pandas.pydata.org/pandas-docs/stable/user_guide/indexing.html#returning-a-view-versus-a-copy\n",
            "  errors=errors,\n",
            "/usr/local/lib/python3.7/dist-packages/pandas/core/frame.py:5047: SettingWithCopyWarning: \n",
            "A value is trying to be set on a copy of a slice from a DataFrame\n",
            "\n",
            "See the caveats in the documentation: https://pandas.pydata.org/pandas-docs/stable/user_guide/indexing.html#returning-a-view-versus-a-copy\n",
            "  errors=errors,\n",
            "/usr/local/lib/python3.7/dist-packages/pandas/core/frame.py:5047: SettingWithCopyWarning: \n",
            "A value is trying to be set on a copy of a slice from a DataFrame\n",
            "\n",
            "See the caveats in the documentation: https://pandas.pydata.org/pandas-docs/stable/user_guide/indexing.html#returning-a-view-versus-a-copy\n",
            "  errors=errors,\n",
            "/usr/local/lib/python3.7/dist-packages/ipykernel_launcher.py:29: SettingWithCopyWarning: \n",
            "A value is trying to be set on a copy of a slice from a DataFrame.\n",
            "Try using .loc[row_indexer,col_indexer] = value instead\n",
            "\n",
            "See the caveats in the documentation: https://pandas.pydata.org/pandas-docs/stable/user_guide/indexing.html#returning-a-view-versus-a-copy\n",
            "/usr/local/lib/python3.7/dist-packages/pandas/core/frame.py:5047: SettingWithCopyWarning: \n",
            "A value is trying to be set on a copy of a slice from a DataFrame\n",
            "\n",
            "See the caveats in the documentation: https://pandas.pydata.org/pandas-docs/stable/user_guide/indexing.html#returning-a-view-versus-a-copy\n",
            "  errors=errors,\n",
            "/usr/local/lib/python3.7/dist-packages/pandas/core/frame.py:5047: SettingWithCopyWarning: \n",
            "A value is trying to be set on a copy of a slice from a DataFrame\n",
            "\n",
            "See the caveats in the documentation: https://pandas.pydata.org/pandas-docs/stable/user_guide/indexing.html#returning-a-view-versus-a-copy\n",
            "  errors=errors,\n",
            "/usr/local/lib/python3.7/dist-packages/pandas/core/frame.py:5047: SettingWithCopyWarning: \n",
            "A value is trying to be set on a copy of a slice from a DataFrame\n",
            "\n",
            "See the caveats in the documentation: https://pandas.pydata.org/pandas-docs/stable/user_guide/indexing.html#returning-a-view-versus-a-copy\n",
            "  errors=errors,\n",
            "/usr/local/lib/python3.7/dist-packages/pandas/core/frame.py:5047: SettingWithCopyWarning: \n",
            "A value is trying to be set on a copy of a slice from a DataFrame\n",
            "\n",
            "See the caveats in the documentation: https://pandas.pydata.org/pandas-docs/stable/user_guide/indexing.html#returning-a-view-versus-a-copy\n",
            "  errors=errors,\n"
          ]
        }
      ],
      "source": [
        "listeCoin=[\"BTC\",\"ETH\",\"ADA\",\"XRP\",\"LTC\",\"BCH\",\"LINK\",\"AAVE\"]\n",
        "#listeCoin=[\"BTC\"]\n",
        "listeSignal=(np.arange(0,10,0.5))/100\n",
        "listeNom=[\"Signal\"+str(i) for i in range(len(listeSignal))]\n",
        "#Ensemble des coin en concat\n",
        "dico={}\n",
        "listeIndi_T=['ATR','volume', 'RSI', 'TRIMA30', 'TRIMA90',\n",
        "       'EMA7', 'EMA20', 'EMA50','EMA100','EMA200', 'ADX', 'SAR', 'Williams', 'SMA100', 'CCI',\n",
        "       'ADL', 'AO', 'UO', 'CHAIKIN', 'WMA15', 'WMA30', 'BearishFractal',\n",
        "       'BullishFractal', 'pivot', 's1', 's2', 's3', 's4', 'r1', 'r2', 'r3',\n",
        "       'r4', 'MACD', 'DI+', 'DI-', 'Bull.', 'Bear.', 'BB_UPPER',\n",
        "       'BB_MIDDLE', 'BB_LOWER', 'TENKAN', 'KIJUN', 'senkou_span_a', 'SENKOU',\n",
        "       'returns','close',\"high\",\"low\"]\n",
        "for j in listeCoin:\n",
        "  df=daily_price_historical(j, 'USD')\n",
        "  df2=df[[\"high\",\"low\",\"open\",\"close\",\"timestamp\",\"volumeto\"]]\n",
        "  df2.rename(columns={'timestamp':'Date','volumeto':'volume'},inplace=True)\n",
        "  df2.set_index(['Date'],inplace=True)\n",
        "  df2=df2[df2['close']!=0]\n",
        "  df2=InitIndiTech(df2)\n",
        "  df2=InitStrat(df2)\n",
        "  df2['returns'] = (np.log(df2.close / df2.close.shift(1)))\n",
        "  df3=df2.drop(df2.head(1).index)\n",
        "  for i in listeIndi_T :\n",
        "    df3[i+\"_T\"]=df2[i].drop(df2.tail(1).index).tolist()\n",
        "\n",
        "  df3=df3[df3.index>=(datetime.today()-timedelta(2500)).strftime('%Y-%m-%d')]\n",
        "  #Create variables : ticket, signal, signal10,signal20,signal30,signal40 \n",
        "  df3[\"Ticket\"]=j\n",
        "  l3=[]\n",
        "  for i in range(len(df3)-1):\n",
        "    l2=[]\n",
        "    for k in range(len(listeSignal)) :\n",
        "      if df3['returns'][i+1]>=listeSignal[k]:\n",
        "        l2.append(1)\n",
        "      elif df3['returns'][i+1]<=(-listeSignal[k]):\n",
        "        l2.append(2)\n",
        "      else:\n",
        "        l2.append(3)\n",
        "    l3.append(l2)\n",
        "  \n",
        "  df3.drop(df3.tail(1).index,inplace=True)\n",
        "  df3=df3.merge(pd.DataFrame(l3,columns=listeNom,index=df3.index),how='inner',on=df3.index)\n",
        "  dico[j]=df3\n",
        "df5=pd.concat(dico.values(), ignore_index=True)\n",
        "df5.dropna(inplace=True)\n",
        "df5.drop(columns=['key_0'],inplace=True)"
      ]
    },
    {
      "cell_type": "markdown",
      "metadata": {
        "id": "0DfO5Rqx2OvQ"
      },
      "source": [
        "Calcul des répartitons des variables à expliquer"
      ]
    },
    {
      "cell_type": "code",
      "execution_count": null,
      "metadata": {
        "id": "SlxOYHL_0fZJ"
      },
      "outputs": [],
      "source": [
        "l=[]\n",
        "for i in df5.columns:\n",
        "  if i[:6]=='Signal':\n",
        "    l.append(df5[i].value_counts())\n",
        "DfViz = pd.DataFrame(l).transpose()\n",
        "DfViz.to_excel(\"RepartitonVarMemoire.xlsx\")"
      ]
    },
    {
      "cell_type": "markdown",
      "metadata": {
        "id": "F1_8FY5tDbeX"
      },
      "source": [
        "## Creation Spread MA"
      ]
    },
    {
      "cell_type": "code",
      "execution_count": null,
      "metadata": {
        "colab": {
          "base_uri": "https://localhost:8080/"
        },
        "id": "VoXC59ApzBvr",
        "outputId": "07583646-0d61-48cb-9c7d-6d9a6fc75f31"
      },
      "outputs": [
        {
          "output_type": "stream",
          "name": "stderr",
          "text": [
            "/usr/local/lib/python3.7/dist-packages/ipykernel_launcher.py:7: PerformanceWarning: DataFrame is highly fragmented.  This is usually the result of calling `frame.insert` many times, which has poor performance.  Consider joining all columns at once using pd.concat(axis=1) instead.  To get a de-fragmented frame, use `newframe = frame.copy()`\n",
            "  import sys\n"
          ]
        }
      ],
      "source": [
        "listeSpread=[\"close\",\"EMA7\",\"EMA20\",\"EMA50\",\"EMA100\",\"EMA200\",\"close_T\",\"EMA7_T\",\"EMA20_T\",\n",
        "             \"EMA50_T\",\"EMA100_T\",\"EMA200_T\",'TRIMA30', 'TRIMA90','WMA15',\n",
        "             'WMA30', 'SMA100','TRIMA30_T', 'TRIMA90_T','WMA15_T', 'WMA30_T', 'SMA100_T']\n",
        "for i in range(len(listeSpread)-1):\n",
        "  for j in range(i+1,len(listeSpread)):\n",
        "    c = (df5[listeSpread[j]]-df5[listeSpread[i]])/df5[listeSpread[i]]\n",
        "    df5[\"Spread_\"+listeSpread[i]+\"_\"+listeSpread[j]] = c"
      ]
    },
    {
      "cell_type": "markdown",
      "metadata": {
        "id": "dXGNWVx0Doub"
      },
      "source": [
        "## Creation Pourcentage d'une variable par rapport a son T-1"
      ]
    },
    {
      "cell_type": "code",
      "execution_count": null,
      "metadata": {
        "colab": {
          "base_uri": "https://localhost:8080/"
        },
        "id": "4pJBKOd831Td",
        "outputId": "f75461a4-ed64-41ea-8d83-240da8f108af"
      },
      "outputs": [
        {
          "output_type": "stream",
          "name": "stderr",
          "text": [
            "/usr/local/lib/python3.7/dist-packages/ipykernel_launcher.py:9: PerformanceWarning: DataFrame is highly fragmented.  This is usually the result of calling `frame.insert` many times, which has poor performance.  Consider joining all columns at once using pd.concat(axis=1) instead.  To get a de-fragmented frame, use `newframe = frame.copy()`\n",
            "  if __name__ == '__main__':\n"
          ]
        }
      ],
      "source": [
        "listeReturns = ['ATR','volume', 'RSI', 'ADX', 'SAR', 'Williams', 'CCI',\n",
        "       'ADL', 'AO', 'UO', 'CHAIKIN', 'BearishFractal',\n",
        "       'BullishFractal', 'pivot', 's1', 's2', 's3', 's4', 'r1', 'r2', 'r3',\n",
        "       'r4', 'MACD', 'DI+', 'DI-', 'Bull.', 'Bear.', \n",
        "        'TENKAN', 'KIJUN', 'senkou_span_a', 'SENKOU',\"close\",\"EMA7\",\"EMA20\",\n",
        "        \"EMA50\",\"EMA100\",\"EMA200\",'TRIMA30', 'TRIMA90','WMA15',\n",
        "             'WMA30', 'SMA100']\n",
        "for i in listeReturns :\n",
        "  df5[\"Returns_\"+i]=(df5[i]-df5[i+\"_T\"])/df5[i+\"_T\"]"
      ]
    },
    {
      "cell_type": "markdown",
      "metadata": {
        "id": "yJnOmGw45fI8"
      },
      "source": [
        "## Percent high/low/close/Boolinger"
      ]
    },
    {
      "cell_type": "code",
      "execution_count": null,
      "metadata": {
        "colab": {
          "base_uri": "https://localhost:8080/"
        },
        "id": "vy3Dx9x-5eWO",
        "outputId": "a099f04d-b6ed-4522-af30-3043380cb167"
      },
      "outputs": [
        {
          "output_type": "stream",
          "name": "stderr",
          "text": [
            "/usr/local/lib/python3.7/dist-packages/ipykernel_launcher.py:7: PerformanceWarning: DataFrame is highly fragmented.  This is usually the result of calling `frame.insert` many times, which has poor performance.  Consider joining all columns at once using pd.concat(axis=1) instead.  To get a de-fragmented frame, use `newframe = frame.copy()`\n",
            "  import sys\n"
          ]
        }
      ],
      "source": [
        "listePercent=[\"high\",\"low\",\"close\",\"high_T\",\"low_T\",\"close_T\",'BB_UPPER',\n",
        "       'BB_MIDDLE', 'BB_LOWER','BB_UPPER_T',\n",
        "       'BB_MIDDLE_T', 'BB_LOWER_T']\n",
        "for i in range(len(listePercent)-1):\n",
        "  for j in range(i+1,len(listePercent)):\n",
        "     c = (df5[listePercent[j]]-df5[listePercent[i]])/df5[listePercent[i]]\n",
        "     df5[listePercent[i]+\"_vs_\"+listePercent[j]] = c"
      ]
    },
    {
      "cell_type": "markdown",
      "metadata": {
        "id": "Fxw5wx9KQqoB"
      },
      "source": [
        "## New Variables to Fine"
      ]
    },
    {
      "cell_type": "markdown",
      "metadata": {
        "id": "YWM1AbLL318A"
      },
      "source": [
        "# ML : Signal 0\n",
        "\n",
        "## Pre requis"
      ]
    },
    {
      "cell_type": "code",
      "execution_count": null,
      "metadata": {
        "id": "MHbO4L_DLP55"
      },
      "outputs": [],
      "source": [
        "## Column to drop"
      ]
    },
    {
      "cell_type": "code",
      "execution_count": null,
      "metadata": {
        "id": "Ur4_icRghxRY"
      },
      "outputs": [],
      "source": [
        "df6=df5.drop(columns=['high','low','open','close','volume','volume_T','high_T','low_T','close_T',\"TRIMA30\",\"TRIMA90\",\n",
        "                      \"EMA7\",\"EMA20\",\"EMA50\",\"EMA100\",\"EMA200\",\"SMA100\",\"WMA15\",\"WMA30\",\"BB_UPPER\",\"BB_MIDDLE\",\"BB_LOWER\",\"TRIMA30_T\",\"TRIMA90_T\",\n",
        "                      \"EMA7_T\",\"EMA20_T\",\"EMA50_T\",\"EMA100_T\",\"EMA200_T\",\"SMA100_T\",\"WMA15_T\",\"WMA30_T\",\"BB_UPPER_T\",\"BB_MIDDLE_T\",\"BB_LOWER_T\",\"Ticket\"])\n",
        "df6.replace([np.inf, -np.inf], np.nan, inplace=True)\n",
        "df6.dropna(axis='columns', inplace=True)"
      ]
    },
    {
      "cell_type": "markdown",
      "metadata": {
        "id": "T6XedlvJpvsu"
      },
      "source": [
        "## Decision Tree"
      ]
    },
    {
      "cell_type": "code",
      "execution_count": null,
      "metadata": {
        "id": "y5HNVvTljZjP"
      },
      "outputs": [],
      "source": [
        "from sklearn.model_selection import train_test_split\n",
        "from sklearn.tree import export_graphviz\n",
        "from subprocess import call\n",
        "from IPython.display import Image\n",
        "from sklearn import tree\n",
        "from sklearn.tree import DecisionTreeClassifier\n"
      ]
    },
    {
      "cell_type": "code",
      "execution_count": null,
      "metadata": {
        "id": "hLZYwv3fSfgm"
      },
      "outputs": [],
      "source": [
        "#Changer les strings en int\n",
        "l=[]\n",
        "for i in df6.columns :\n",
        "  if 'BUY' in df6[i].tolist():\n",
        "    l.append(i)\n",
        "for i in l:\n",
        "  df6[i].replace(['BUY','NEUTRAL +'],1,inplace=True)\n",
        "  df6[i].replace(['SELL','NEUTRAL -'],-1,inplace=True)\n",
        "  df6[i].replace('NEUTRAL',0,inplace=True)"
      ]
    },
    {
      "cell_type": "code",
      "execution_count": null,
      "metadata": {
        "colab": {
          "base_uri": "https://localhost:8080/"
        },
        "id": "Ebpn2FOKV7pJ",
        "outputId": "3550e537-b45d-4ab2-e709-c4cb960214e8"
      },
      "outputs": [
        {
          "output_type": "stream",
          "name": "stdout",
          "text": [
            "Signal0, % pour BUY : 0.639 Nombre d'occurence : 2766\n",
            "Signal0, % pour SELL : 0.636 Nombre d'occurence : 2294\n",
            "Signal1, % pour BUY : 0.604 Nombre d'occurence : 2321\n",
            "Signal1, % pour SELL : 0.574 Nombre d'occurence : 2547\n",
            "Signal1, % pour NEUTRAL : 0.24 Nombre d'occurence : 192\n",
            "Signal2, % pour BUY : 0.519 Nombre d'occurence : 2301\n",
            "Signal2, % pour SELL : 0.522 Nombre d'occurence : 2141\n",
            "Signal2, % pour NEUTRAL : 0.395 Nombre d'occurence : 618\n",
            "Signal3, % pour BUY : 0.484 Nombre d'occurence : 2016\n",
            "Signal3, % pour SELL : 0.482 Nombre d'occurence : 1758\n",
            "Signal3, % pour NEUTRAL : 0.47 Nombre d'occurence : 1286\n",
            "Signal4, % pour BUY : 0.505 Nombre d'occurence : 1230\n",
            "Signal4, % pour SELL : 0.468 Nombre d'occurence : 1449\n",
            "Signal4, % pour NEUTRAL : 0.533 Nombre d'occurence : 2381\n",
            "Signal5, % pour BUY : 0.459 Nombre d'occurence : 869\n",
            "Signal5, % pour SELL : 0.422 Nombre d'occurence : 777\n",
            "Signal5, % pour NEUTRAL : 0.546 Nombre d'occurence : 3414\n",
            "Signal6, % pour BUY : 0.425 Nombre d'occurence : 942\n",
            "Signal6, % pour SELL : 0.388 Nombre d'occurence : 829\n",
            "Signal6, % pour NEUTRAL : 0.614 Nombre d'occurence : 3289\n",
            "Signal7, % pour BUY : 0.376 Nombre d'occurence : 551\n",
            "Signal7, % pour SELL : 0.404 Nombre d'occurence : 545\n",
            "Signal7, % pour NEUTRAL : 0.648 Nombre d'occurence : 3964\n",
            "Signal8, % pour BUY : 0.384 Nombre d'occurence : 612\n",
            "Signal8, % pour SELL : 0.328 Nombre d'occurence : 403\n",
            "Signal8, % pour NEUTRAL : 0.693 Nombre d'occurence : 4045\n",
            "Signal9, % pour BUY : 0.342 Nombre d'occurence : 465\n",
            "Signal9, % pour SELL : 0.317 Nombre d'occurence : 429\n",
            "Signal9, % pour NEUTRAL : 0.729 Nombre d'occurence : 4166\n",
            "Signal10, % pour BUY : 0.316 Nombre d'occurence : 351\n",
            "Signal10, % pour SELL : 0.308 Nombre d'occurence : 299\n",
            "Signal10, % pour NEUTRAL : 0.755 Nombre d'occurence : 4410\n",
            "Signal11, % pour BUY : 0.303 Nombre d'occurence : 320\n",
            "Signal11, % pour SELL : 0.249 Nombre d'occurence : 241\n",
            "Signal11, % pour NEUTRAL : 0.791 Nombre d'occurence : 4499\n",
            "Signal12, % pour BUY : 0.288 Nombre d'occurence : 226\n",
            "Signal12, % pour SELL : 0.249 Nombre d'occurence : 229\n",
            "Signal12, % pour NEUTRAL : 0.812 Nombre d'occurence : 4605\n",
            "Signal13, % pour BUY : 0.295 Nombre d'occurence : 190\n",
            "Signal13, % pour SELL : 0.264 Nombre d'occurence : 159\n",
            "Signal13, % pour NEUTRAL : 0.835 Nombre d'occurence : 4711\n",
            "Signal14, % pour BUY : 0.224 Nombre d'occurence : 174\n",
            "Signal14, % pour SELL : 0.155 Nombre d'occurence : 142\n",
            "Signal14, % pour NEUTRAL : 0.851 Nombre d'occurence : 4744\n",
            "Signal15, % pour BUY : 0.247 Nombre d'occurence : 162\n",
            "Signal15, % pour SELL : 0.165 Nombre d'occurence : 103\n",
            "Signal15, % pour NEUTRAL : 0.871 Nombre d'occurence : 4795\n",
            "Signal16, % pour BUY : 0.312 Nombre d'occurence : 109\n",
            "Signal16, % pour SELL : 0.256 Nombre d'occurence : 78\n",
            "Signal16, % pour NEUTRAL : 0.886 Nombre d'occurence : 4873\n",
            "Signal17, % pour BUY : 0.257 Nombre d'occurence : 105\n",
            "Signal17, % pour SELL : 0.11 Nombre d'occurence : 100\n",
            "Signal17, % pour NEUTRAL : 0.898 Nombre d'occurence : 4855\n",
            "Signal18, % pour BUY : 0.206 Nombre d'occurence : 97\n",
            "Signal18, % pour SELL : 0.155 Nombre d'occurence : 71\n",
            "Signal18, % pour NEUTRAL : 0.909 Nombre d'occurence : 4892\n",
            "Signal19, % pour BUY : 0.273 Nombre d'occurence : 77\n",
            "Signal19, % pour SELL : 0.11 Nombre d'occurence : 73\n",
            "Signal19, % pour NEUTRAL : 0.92 Nombre d'occurence : 4910\n"
          ]
        }
      ],
      "source": [
        "from sklearn.model_selection import GridSearchCV\n",
        "from sklearn.tree import DecisionTreeClassifier\n",
        "#from sklearn.ensemble import DecisionTreeRegressor\n",
        "from sklearn.metrics import f1_score\n",
        "\n",
        "criterion=[\"gini\"]\n",
        "max_depth = [10,50]\n",
        "min_samples_split = [2,4]\n",
        "min_samples_leaf = [1]\n",
        "\n",
        "parameters = {\n",
        "              'max_depth' : max_depth,\n",
        "              'criterion' : criterion,\n",
        "              'min_samples_split' : min_samples_split,\n",
        "              'min_samples_leaf' : min_samples_leaf\n",
        "             }\n",
        "\n",
        "train, test = train_test_split(df6, \n",
        "                               test_size=0.33, \n",
        "                               random_state=42)\n",
        "\n",
        "listeModel=[]\n",
        "listePred=[]\n",
        "listeValue=[]\n",
        "listeNom2=[]\n",
        "listeProba=[]\n",
        "listeVarExplicative=[]\n",
        "X_train = train.drop(columns=listeNom)\n",
        "X_test = test.drop(columns=listeNom)\n",
        "\n",
        "#GridSearch\n",
        "DTC = DecisionTreeClassifier()\n",
        "clf = GridSearchCV(DTC, parameters, scoring = 'f1_macro', cv = 5 )\n",
        "clf.fit(X_train, train['Signal0'])\n",
        "gridsearch_result = pd.DataFrame(clf.cv_results_[\"params\"])\n",
        "gridsearch_result[\"score\"] = clf.cv_results_[\"mean_test_score\"]\n",
        "gridsearch_result.sort_values(\"score\",ascending=False,inplace=True)\n",
        "\n",
        "for i in listeNom:\n",
        "  y_train = train[i]\n",
        "  y_test = test[i]\n",
        "\n",
        "  #Take Pbest parameter from the gridsearch\n",
        "\n",
        "  DT = DecisionTreeClassifier(criterion=\"gini\",\n",
        "                              max_depth=gridsearch_result['max_depth'][0],\n",
        "                              min_samples_split=gridsearch_result['min_samples_split'][0],\n",
        "                              min_samples_leaf=gridsearch_result['min_samples_leaf'][0])\n",
        "  DT.fit(X_train, y_train)\n",
        "  y_pred = DT.predict(X_test)\n",
        "  c1=0\n",
        "  c2=0\n",
        "  c3=0\n",
        "  y=np.array(y_test)\n",
        "  for j in range(len(y_pred)):\n",
        "    if y_pred[j] == 1 and y[j] == y_pred[j] :\n",
        "      c1+=1\n",
        "    elif y_pred[j] == 2 and y[j] == y_pred[j]:\n",
        "      c2+=1\n",
        "    elif y_pred[j] == 3 and y[j] == y_pred[j]:\n",
        "      c3+=1\n",
        "  if y_pred.tolist().count(1) !=0:\n",
        "    proba1 = c1/(y_pred.tolist().count(1))\n",
        "    print(i+\", % pour BUY : \" + str(round(proba1,3)) + \n",
        "          \" Nombre d'occurence : \" + \n",
        "          str(y_pred.tolist().count(1)))\n",
        "  else:\n",
        "    proba1 = 0\n",
        "  if y_pred.tolist().count(2) !=0:\n",
        "    proba2 = c2/(y_pred.tolist().count(2))\n",
        "    print(i+\", % pour SELL : \" + str(round(proba2,3))+ \n",
        "          \" Nombre d'occurence : \" + \n",
        "          str(y_pred.tolist().count(2)))\n",
        "  else:\n",
        "    proba2=0\n",
        "  if y_pred.tolist().count(3) !=0:\n",
        "    proba3=c3/(y_pred.tolist().count(3))\n",
        "    print(i+\", % pour NEUTRAL : \" + \n",
        "          str(round(proba3,3))+ \n",
        "          \" Nombre d'occurence : \" + \n",
        "          str(y_pred.tolist().count(3)))\n",
        "  else : \n",
        "    proba3=0 \n",
        "  listeNom2.append(i)\n",
        "  listeModel.append(DT)\n",
        "  listePred.append(y_pred)\n",
        "  listeValue.append(y_test)\n",
        "  listeProba.append([proba1,proba2])\n",
        "  #Calcul des probabilités pour chaque evenement\n",
        "  #Avec evenement : prediction du modele juste pour un type de classe (1 ou 2), le 3 n'est pas utile dans notre cas car il importe aucune info\n",
        "  #La seule info qui peut etre utilisé est la mise en place d'un Stop Loss\n",
        "  \n"
      ]
    },
    {
      "cell_type": "code",
      "source": [
        "print(gridsearch_result)"
      ],
      "metadata": {
        "colab": {
          "base_uri": "https://localhost:8080/"
        },
        "id": "3pcLmBnZr-C-",
        "outputId": "28c025fa-8a83-4a61-e690-1f51f2d21922"
      },
      "execution_count": null,
      "outputs": [
        {
          "output_type": "stream",
          "name": "stdout",
          "text": [
            "  criterion  max_depth  min_samples_leaf  min_samples_split     score\n",
            "0      gini         10                 1                  2  0.626283\n",
            "1      gini         10                 1                  4  0.624097\n",
            "2      gini         50                 1                  2  0.600335\n",
            "3      gini         50                 1                  4  0.598539\n"
          ]
        }
      ]
    },
    {
      "cell_type": "code",
      "execution_count": null,
      "metadata": {
        "id": "sK0OKqMsSslq"
      },
      "outputs": [],
      "source": [
        "#Mise en place de l'opitmisation :\n",
        "#Choix du trade en fonction des proba\n",
        "dfPred = pd.DataFrame(listePred).transpose()\n",
        "dfValue = pd.DataFrame(listeValue).transpose().reset_index(drop=True)\n",
        "dfPred.columns, dfValue.columns = listeNom2,listeNom2\n",
        "dfProba=pd.DataFrame(listeProba, index=dfPred.columns.tolist(),columns=[1,2])"
      ]
    },
    {
      "cell_type": "code",
      "execution_count": null,
      "metadata": {
        "colab": {
          "base_uri": "https://localhost:8080/"
        },
        "id": "FNfC1x4fUHcs",
        "outputId": "c2bdd19e-a94c-4341-81db-03ded36104c7"
      },
      "outputs": [
        {
          "data": {
            "text/plain": [
              "[0.5559105431309904]"
            ]
          },
          "execution_count": 119,
          "metadata": {},
          "output_type": "execute_result"
        }
      ],
      "source": [
        "[dfProba[2]['Signal0']]"
      ]
    },
    {
      "cell_type": "code",
      "execution_count": null,
      "metadata": {
        "id": "Zbm-oeXuS1KO"
      },
      "outputs": [],
      "source": [
        "#On prend seulement les modeles qui predise la meme chose que 'Signal0'\n",
        "#Comme ca, la probabilité d'erreur correspond à ce que tous les modèles fassent erreur\n",
        "listeProbaCalcule=[]\n",
        "for i in range(len(dfPred)):\n",
        "  Proba=[]\n",
        "  if dfPred[\"Signal0\"][i] == 1 :\n",
        "    Proba.append(1-dfProba[1]['Signal0'])\n",
        "    for j in dfPred.columns.tolist()[1:]:\n",
        "      if dfPred[j][i] == 1 :\n",
        "        Proba.append(1-dfProba[1][j])\n",
        "  elif dfPred[\"Signal0\"][i] == 2 :\n",
        "    Proba.append(1-dfProba[2]['Signal0'])\n",
        "    for j in dfPred.columns.tolist()[1:]:\n",
        "      if dfPred[j][i] == 2 :\n",
        "        Proba.append(1-dfProba[2][j])\n",
        "  mult=1\n",
        "  for element in Proba:\n",
        "    mult*=element\n",
        "  listeProbaCalcule.append(mult)\n"
      ]
    },
    {
      "cell_type": "code",
      "execution_count": null,
      "metadata": {
        "id": "YAoYdLNEerPr"
      },
      "outputs": [],
      "source": [
        "dfFinal = pd.DataFrame([dfPred['Signal0'].tolist(),listeProbaCalcule,dfValue['Signal0'].tolist()]).transpose()\n",
        "dfFinal.columns = ['Pred','Proba','Value']"
      ]
    },
    {
      "cell_type": "code",
      "execution_count": null,
      "metadata": {
        "colab": {
          "base_uri": "https://localhost:8080/"
        },
        "id": "bdW3MZ1nb4DX",
        "outputId": "3fd8653e-1dcc-49ff-e22a-53e3541e1f0c"
      },
      "outputs": [
        {
          "name": "stdout",
          "output_type": "stream",
          "text": [
            "0.6402266288951841\n",
            "706\n",
            "825\n"
          ]
        }
      ],
      "source": [
        "c1, c2 = 0,0\n",
        "for i in range(len(dfFinal)):\n",
        "  if dfFinal['Proba'][i]<=0.25 :\n",
        "    c1+=1\n",
        "    if dfFinal['Pred'][i] == dfFinal['Value'][i]:\n",
        "      c2+=1\n",
        "print(c2/c1)\n",
        "print(c1)\n",
        "print(len(dfFinal))"
      ]
    },
    {
      "cell_type": "code",
      "execution_count": null,
      "metadata": {
        "colab": {
          "base_uri": "https://localhost:8080/",
          "height": 1000
        },
        "id": "H-nBxPh-jfpd",
        "outputId": "f9a892b4-8978-434c-d684-177f02b1d97b"
      },
      "outputs": [
        {
          "output_type": "display_data",
          "data": {
            "text/plain": [
              "<Figure size 1200x1200 with 1 Axes>"
            ],
            "image/png": "[encoded data removed]"
          },
          "metadata": {
            "needs_background": "light"
          }
        }
      ],
      "source": [
        "var = train.drop(columns=listeNom).columns\n",
        "fig, axes = plt.subplots(nrows = 1,ncols = 1,figsize = (4,4), dpi=300)\n",
        "tree.plot_tree(listeModel[0],\n",
        "               feature_names = var, \n",
        "               class_names=['BUY','SELL'],\n",
        "               filled = True)\n",
        "plt.savefig(\"model1.png\")"
      ]
    },
    {
      "cell_type": "markdown",
      "source": [
        "## Random Forest"
      ],
      "metadata": {
        "id": "RPqxfss_m72m"
      }
    },
    {
      "cell_type": "code",
      "source": [
        "from sklearn.ensemble import RandomForestClassifier\n",
        "\n",
        "criterion=[\"gini\"]\n",
        "n_estimators = [200]\n",
        "max_depth = [50]\n",
        "min_samples_split = [4]\n",
        "\n",
        "\n",
        "parameters = {\n",
        "              'max_depth' : max_depth,\n",
        "              'criterion' : criterion,\n",
        "              'min_samples_split' : min_samples_split,\n",
        "              'n_estimators' : n_estimators\n",
        "             }\n",
        "\n",
        "listeModelRF=[]\n",
        "listePredRF=[]\n",
        "listeValueRF=[]\n",
        "listeNom2RF=[]\n",
        "listeProbaRF=[]\n",
        "listeVarExplicativeRF=[]\n",
        "\n",
        "\n",
        "#GridSearch\n",
        "RFC = RandomForestClassifier()\n",
        "clf = GridSearchCV(RFC, parameters, scoring = 'f1_macro', cv = 5 )\n",
        "clf.fit(X_train, train['Signal0'])\n",
        "gridsearch_result = pd.DataFrame(clf.cv_results_[\"params\"])\n",
        "gridsearch_result[\"score\"] = clf.cv_results_[\"mean_test_score\"]\n",
        "gridsearch_result.sort_values(\"score\",ascending=False,inplace=True)\n",
        "\n",
        "for i in listeNom:\n",
        "  y_train = train[i]\n",
        "  y_test = test[i]\n",
        "\n",
        "  #Take Pbest parameter from the gridsearch\n",
        "\n",
        "  RF = RandomForestClassifier(criterion=\"gini\",\n",
        "                              max_depth=gridsearch_result['max_depth'][0],\n",
        "                              min_samples_split=gridsearch_result['min_samples_split'][0],\n",
        "                              n_estimators=gridsearch_result['n_estimators'][0])\n",
        "  RF.fit(X_train, y_train)\n",
        "  y_pred = RF.predict(X_test)\n",
        "  c1=0\n",
        "  c2=0\n",
        "  c3=0\n",
        "  y=np.array(y_test)\n",
        "  for j in range(len(y_pred)):\n",
        "    if y_pred[j] == 1 and y[j] == y_pred[j] :\n",
        "      c1+=1\n",
        "    elif y_pred[j] == 2 and y[j] == y_pred[j]:\n",
        "      c2+=1\n",
        "    elif y_pred[j] == 3 and y[j] == y_pred[j]:\n",
        "      c3+=1\n",
        "  if y_pred.tolist().count(1) !=0:\n",
        "    proba1 = c1/(y_pred.tolist().count(1))\n",
        "    print(i+\", % pour BUY : \" + str(round(proba1,3)) + \n",
        "          \" Nombre d'occurence : \" + \n",
        "          str(y_pred.tolist().count(1)))\n",
        "  else:\n",
        "    proba1 = 0\n",
        "  if y_pred.tolist().count(2) !=0:\n",
        "    proba2 = c2/(y_pred.tolist().count(2))\n",
        "    print(i+\", % pour SELL : \" + str(round(proba2,3))+ \n",
        "          \" Nombre d'occurence : \" + \n",
        "          str(y_pred.tolist().count(2)))\n",
        "  else:\n",
        "    proba2=0\n",
        "  if y_pred.tolist().count(3) !=0:\n",
        "    proba3=c3/(y_pred.tolist().count(3))\n",
        "    print(i+\", % pour NEUTRAL : \" + \n",
        "          str(round(proba3,3))+ \n",
        "          \" Nombre d'occurence : \" + \n",
        "          str(y_pred.tolist().count(3)))\n",
        "  else : \n",
        "    proba3=0 \n",
        "  listeNom2RF.append(i)\n",
        "  listeModelRF.append(RF)\n",
        "  listePredRF.append(y_pred)\n",
        "  listeValueRF.append(y_test)\n",
        "  listeProbaRF.append([proba1,proba2])\n",
        "  #Calcul des probabilités pour chaque evenement\n",
        "  #Avec evenement : prediction du modele juste pour un type de classe (1 ou 2), le 3 n'est pas utile dans notre cas car il importe aucune info\n",
        "  #La seule info qui peut etre utilisé est la mise en place d'un Stop Loss"
      ],
      "metadata": {
        "colab": {
          "base_uri": "https://localhost:8080/"
        },
        "id": "FbHHzTO7nE5n",
        "outputId": "20ae8967-ddb9-4de8-ad31-253b88827f7b"
      },
      "execution_count": null,
      "outputs": [
        {
          "output_type": "stream",
          "name": "stdout",
          "text": [
            "Signal0, % pour BUY : 0.648 Nombre d'occurence : 2679\n",
            "Signal0, % pour SELL : 0.637 Nombre d'occurence : 2381\n",
            "Signal1, % pour BUY : 0.599 Nombre d'occurence : 2542\n",
            "Signal1, % pour SELL : 0.597 Nombre d'occurence : 2443\n",
            "Signal1, % pour NEUTRAL : 0.547 Nombre d'occurence : 75\n",
            "Signal2, % pour BUY : 0.544 Nombre d'occurence : 2298\n",
            "Signal2, % pour SELL : 0.544 Nombre d'occurence : 2161\n",
            "Signal2, % pour NEUTRAL : 0.449 Nombre d'occurence : 601\n",
            "Signal3, % pour BUY : 0.512 Nombre d'occurence : 1757\n",
            "Signal3, % pour SELL : 0.505 Nombre d'occurence : 1689\n",
            "Signal3, % pour NEUTRAL : 0.511 Nombre d'occurence : 1614\n",
            "Signal4, % pour BUY : 0.493 Nombre d'occurence : 1259\n",
            "Signal4, % pour SELL : 0.468 Nombre d'occurence : 1142\n",
            "Signal4, % pour NEUTRAL : 0.528 Nombre d'occurence : 2659\n",
            "Signal5, % pour BUY : 0.489 Nombre d'occurence : 832\n",
            "Signal5, % pour SELL : 0.424 Nombre d'occurence : 733\n",
            "Signal5, % pour NEUTRAL : 0.569 Nombre d'occurence : 3495\n",
            "Signal6, % pour BUY : 0.5 Nombre d'occurence : 530\n",
            "Signal6, % pour SELL : 0.412 Nombre d'occurence : 432\n",
            "Signal6, % pour NEUTRAL : 0.606 Nombre d'occurence : 4098\n",
            "Signal7, % pour BUY : 0.479 Nombre d'occurence : 353\n",
            "Signal7, % pour SELL : 0.405 Nombre d'occurence : 269\n",
            "Signal7, % pour NEUTRAL : 0.646 Nombre d'occurence : 4438\n",
            "Signal8, % pour BUY : 0.485 Nombre d'occurence : 231\n",
            "Signal8, % pour SELL : 0.388 Nombre d'occurence : 170\n",
            "Signal8, % pour NEUTRAL : 0.679 Nombre d'occurence : 4659\n",
            "Signal9, % pour BUY : 0.485 Nombre d'occurence : 136\n",
            "Signal9, % pour SELL : 0.393 Nombre d'occurence : 107\n",
            "Signal9, % pour NEUTRAL : 0.713 Nombre d'occurence : 4817\n",
            "Signal10, % pour BUY : 0.485 Nombre d'occurence : 99\n",
            "Signal10, % pour SELL : 0.429 Nombre d'occurence : 70\n",
            "Signal10, % pour NEUTRAL : 0.747 Nombre d'occurence : 4891\n",
            "Signal11, % pour BUY : 0.429 Nombre d'occurence : 84\n",
            "Signal11, % pour SELL : 0.42 Nombre d'occurence : 50\n",
            "Signal11, % pour NEUTRAL : 0.778 Nombre d'occurence : 4926\n",
            "Signal12, % pour BUY : 0.458 Nombre d'occurence : 59\n",
            "Signal12, % pour SELL : 0.463 Nombre d'occurence : 41\n",
            "Signal12, % pour NEUTRAL : 0.804 Nombre d'occurence : 4960\n",
            "Signal13, % pour BUY : 0.5 Nombre d'occurence : 38\n",
            "Signal13, % pour SELL : 0.429 Nombre d'occurence : 35\n",
            "Signal13, % pour NEUTRAL : 0.826 Nombre d'occurence : 4987\n",
            "Signal14, % pour BUY : 0.452 Nombre d'occurence : 31\n",
            "Signal14, % pour SELL : 0.423 Nombre d'occurence : 26\n",
            "Signal14, % pour NEUTRAL : 0.847 Nombre d'occurence : 5003\n",
            "Signal15, % pour BUY : 0.441 Nombre d'occurence : 34\n",
            "Signal15, % pour SELL : 0.409 Nombre d'occurence : 22\n",
            "Signal15, % pour NEUTRAL : 0.866 Nombre d'occurence : 5004\n",
            "Signal16, % pour BUY : 0.5 Nombre d'occurence : 26\n",
            "Signal16, % pour SELL : 0.429 Nombre d'occurence : 14\n",
            "Signal16, % pour NEUTRAL : 0.88 Nombre d'occurence : 5020\n",
            "Signal17, % pour BUY : 0.421 Nombre d'occurence : 19\n",
            "Signal17, % pour SELL : 0.421 Nombre d'occurence : 19\n",
            "Signal17, % pour NEUTRAL : 0.894 Nombre d'occurence : 5022\n",
            "Signal18, % pour BUY : 0.6 Nombre d'occurence : 15\n",
            "Signal18, % pour SELL : 0.267 Nombre d'occurence : 15\n",
            "Signal18, % pour NEUTRAL : 0.906 Nombre d'occurence : 5030\n",
            "Signal19, % pour BUY : 0.588 Nombre d'occurence : 17\n",
            "Signal19, % pour SELL : 0.231 Nombre d'occurence : 13\n",
            "Signal19, % pour NEUTRAL : 0.917 Nombre d'occurence : 5030\n"
          ]
        }
      ]
    },
    {
      "cell_type": "code",
      "source": [
        "print(gridsearch_result)"
      ],
      "metadata": {
        "colab": {
          "base_uri": "https://localhost:8080/"
        },
        "id": "FZOL23VJ7xNJ",
        "outputId": "d5dee9a7-8bcb-47a8-9db4-64b03a248182"
      },
      "execution_count": null,
      "outputs": [
        {
          "output_type": "stream",
          "name": "stdout",
          "text": [
            "  criterion  max_depth  min_samples_split  n_estimators     score\n",
            "0      gini         50                  4           200  0.636015\n"
          ]
        }
      ]
    },
    {
      "cell_type": "markdown",
      "metadata": {
        "id": "Fn0-1l_YvEuL"
      },
      "source": [
        "## Gradient Boost"
      ]
    },
    {
      "cell_type": "code",
      "execution_count": null,
      "metadata": {
        "colab": {
          "base_uri": "https://localhost:8080/"
        },
        "id": "u0PD2oknvGtE",
        "outputId": "25ece6b0-6ea4-40a3-b76a-e4deb4da5247"
      },
      "outputs": [
        {
          "output_type": "stream",
          "name": "stdout",
          "text": [
            "Signal0, % pour BUY : 0.669 Nombre d'occurence : 2664\n",
            "Signal0, % pour SELL : 0.658 Nombre d'occurence : 2396\n",
            "Signal1, % pour BUY : 0.614 Nombre d'occurence : 2527\n",
            "Signal1, % pour SELL : 0.609 Nombre d'occurence : 2370\n",
            "Signal1, % pour NEUTRAL : 0.38 Nombre d'occurence : 163\n",
            "Signal2, % pour BUY : 0.571 Nombre d'occurence : 2203\n",
            "Signal2, % pour SELL : 0.577 Nombre d'occurence : 2076\n",
            "Signal2, % pour NEUTRAL : 0.429 Nombre d'occurence : 781\n",
            "Signal3, % pour BUY : 0.561 Nombre d'occurence : 1771\n",
            "Signal3, % pour SELL : 0.548 Nombre d'occurence : 1618\n",
            "Signal3, % pour NEUTRAL : 0.49 Nombre d'occurence : 1671\n",
            "Signal4, % pour BUY : 0.528 Nombre d'occurence : 1366\n",
            "Signal4, % pour SELL : 0.528 Nombre d'occurence : 1214\n",
            "Signal4, % pour NEUTRAL : 0.546 Nombre d'occurence : 2480\n",
            "Signal5, % pour BUY : 0.523 Nombre d'occurence : 1053\n",
            "Signal5, % pour SELL : 0.508 Nombre d'occurence : 980\n",
            "Signal5, % pour NEUTRAL : 0.599 Nombre d'occurence : 3027\n",
            "Signal6, % pour BUY : 0.534 Nombre d'occurence : 791\n",
            "Signal6, % pour SELL : 0.484 Nombre d'occurence : 688\n",
            "Signal6, % pour NEUTRAL : 0.636 Nombre d'occurence : 3581\n",
            "Signal7, % pour BUY : 0.509 Nombre d'occurence : 587\n",
            "Signal7, % pour SELL : 0.448 Nombre d'occurence : 496\n",
            "Signal7, % pour NEUTRAL : 0.673 Nombre d'occurence : 3977\n",
            "Signal8, % pour BUY : 0.49 Nombre d'occurence : 394\n",
            "Signal8, % pour SELL : 0.457 Nombre d'occurence : 361\n",
            "Signal8, % pour NEUTRAL : 0.7 Nombre d'occurence : 4305\n",
            "Signal9, % pour BUY : 0.462 Nombre d'occurence : 299\n",
            "Signal9, % pour SELL : 0.465 Nombre d'occurence : 260\n",
            "Signal9, % pour NEUTRAL : 0.733 Nombre d'occurence : 4501\n",
            "Signal10, % pour BUY : 0.494 Nombre d'occurence : 241\n",
            "Signal10, % pour SELL : 0.444 Nombre d'occurence : 196\n",
            "Signal10, % pour NEUTRAL : 0.763 Nombre d'occurence : 4623\n",
            "Signal11, % pour BUY : 0.419 Nombre d'occurence : 198\n",
            "Signal11, % pour SELL : 0.391 Nombre d'occurence : 179\n",
            "Signal11, % pour NEUTRAL : 0.793 Nombre d'occurence : 4683\n",
            "Signal12, % pour BUY : 0.449 Nombre d'occurence : 196\n",
            "Signal12, % pour SELL : 0.363 Nombre d'occurence : 146\n",
            "Signal12, % pour NEUTRAL : 0.816 Nombre d'occurence : 4718\n",
            "Signal13, % pour BUY : 0.349 Nombre d'occurence : 189\n",
            "Signal13, % pour SELL : 0.333 Nombre d'occurence : 126\n",
            "Signal13, % pour NEUTRAL : 0.835 Nombre d'occurence : 4745\n",
            "Signal14, % pour BUY : 0.335 Nombre d'occurence : 182\n",
            "Signal14, % pour SELL : 0.285 Nombre d'occurence : 123\n",
            "Signal14, % pour NEUTRAL : 0.858 Nombre d'occurence : 4755\n",
            "Signal15, % pour BUY : 0.284 Nombre d'occurence : 134\n",
            "Signal15, % pour SELL : 0.317 Nombre d'occurence : 120\n",
            "Signal15, % pour NEUTRAL : 0.873 Nombre d'occurence : 4806\n",
            "Signal16, % pour BUY : 0.31 Nombre d'occurence : 129\n",
            "Signal16, % pour SELL : 0.248 Nombre d'occurence : 105\n",
            "Signal16, % pour NEUTRAL : 0.887 Nombre d'occurence : 4826\n",
            "Signal17, % pour BUY : 0.27 Nombre d'occurence : 137\n",
            "Signal17, % pour SELL : 0.22 Nombre d'occurence : 109\n",
            "Signal17, % pour NEUTRAL : 0.901 Nombre d'occurence : 4814\n",
            "Signal18, % pour BUY : 0.225 Nombre d'occurence : 151\n",
            "Signal18, % pour SELL : 0.152 Nombre d'occurence : 105\n",
            "Signal18, % pour NEUTRAL : 0.91 Nombre d'occurence : 4804\n",
            "Signal19, % pour BUY : 0.178 Nombre d'occurence : 152\n",
            "Signal19, % pour SELL : 0.11 Nombre d'occurence : 118\n",
            "Signal19, % pour NEUTRAL : 0.922 Nombre d'occurence : 4790\n"
          ]
        }
      ],
      "source": [
        "from sklearn.ensemble import GradientBoostingClassifier\n",
        "\n",
        "n_estimators = [200]\n",
        "max_depth = [30]\n",
        "min_samples_split = [2]\n",
        "learning_rate = [1]\n",
        "\n",
        "parameters = {'n_estimators': n_estimators ,\n",
        "              'max_depth' : max_depth,\n",
        "              'min_samples_split' : min_samples_split,\n",
        "              'learning_rate' : learning_rate\n",
        "             }\n",
        "\n",
        "listeModelGB=[]\n",
        "listePredGB=[]\n",
        "listeValueGB=[]\n",
        "listeNom2GB=[]\n",
        "listeProbaGB=[]\n",
        "listeVarExplicativeGB=[]\n",
        "\n",
        "\n",
        "#GridSearch\n",
        "#GBC = GradientBoostingClassifier()\n",
        "#clf = GridSearchCV(GBC, parameters, scoring = 'f1', cv = 5 )\n",
        "#clf.fit(X_train, train['Signal0'])\n",
        "#gridsearch_result = pd.DataFrame(clf.cv_results_[\"params\"])\n",
        "#gridsearch_result[\"score\"] = clf.cv_results_[\"mean_test_score\"]\n",
        "#gridsearch_result.sort_values(\"score\",ascending=False,inplace=True)\n",
        "\n",
        "for i in listeNom:\n",
        "  y_train = train[i]\n",
        "  y_test = test[i]\n",
        "\n",
        "  #Take Pbest parameter from the gridsearch\n",
        "\n",
        "  GB = GradientBoostingClassifier(\n",
        "                              max_depth=20,\n",
        "                              min_samples_split=2,\n",
        "                              n_estimators=200,\n",
        "                              learning_rate=1)\n",
        "  GB.fit(X_train, y_train)\n",
        "  y_pred = GB.predict(X_test)\n",
        "  c1=0\n",
        "  c2=0\n",
        "  c3=0\n",
        "  y=np.array(y_test)\n",
        "  for j in range(len(y_pred)):\n",
        "    if y_pred[j] == 1 and y[j] == y_pred[j] :\n",
        "      c1+=1\n",
        "    elif y_pred[j] == 2 and y[j] == y_pred[j]:\n",
        "      c2+=1\n",
        "    elif y_pred[j] == 3 and y[j] == y_pred[j]:\n",
        "      c3+=1\n",
        "  if y_pred.tolist().count(1) !=0:\n",
        "    proba1 = c1/(y_pred.tolist().count(1))\n",
        "    print(i+\", % pour BUY : \" + str(round(proba1,3)) + \n",
        "          \" Nombre d'occurence : \" + \n",
        "          str(y_pred.tolist().count(1)))\n",
        "  else:\n",
        "    proba1 = 0\n",
        "  if y_pred.tolist().count(2) !=0:\n",
        "    proba2 = c2/(y_pred.tolist().count(2))\n",
        "    print(i+\", % pour SELL : \" + str(round(proba2,3))+ \n",
        "          \" Nombre d'occurence : \" + \n",
        "          str(y_pred.tolist().count(2)))\n",
        "  else:\n",
        "    proba2=0\n",
        "  if y_pred.tolist().count(3) !=0:\n",
        "    proba3=c3/(y_pred.tolist().count(3))\n",
        "    print(i+\", % pour NEUTRAL : \" + \n",
        "          str(round(proba3,3))+ \n",
        "          \" Nombre d'occurence : \" + \n",
        "          str(y_pred.tolist().count(3)))\n",
        "  else : \n",
        "    proba3=0 \n",
        "  listeNom2GB.append(i)\n",
        "  listeModelGB.append(GB)\n",
        "  listePredGB.append(y_pred)\n",
        "  listeValueGB.append(y_test)\n",
        "  listeProbaGB.append([proba1,proba2])"
      ]
    },
    {
      "cell_type": "markdown",
      "source": [
        "## Optimisation : Scoring"
      ],
      "metadata": {
        "id": "XjSBJEbAqqy7"
      }
    },
    {
      "cell_type": "code",
      "source": [
        "dfProbaDT=pd.DataFrame(listeProba).transpose()\n",
        "dfProbaDT.to_excel('ProbaDT.xlsx')\n",
        "dfProbaRF=pd.DataFrame(listeProbaRF).transpose()\n",
        "dfProbaRF.to_excel('ProbaDT.xlsx')\n",
        "dfProbaGB=pd.DataFrame(listeProbaGB).transpose()\n",
        "dfProbaGB.to_excel('ProbaDT.xlsx')"
      ],
      "metadata": {
        "id": "v9QPJrJ6qqPm"
      },
      "execution_count": null,
      "outputs": []
    },
    {
      "cell_type": "markdown",
      "source": [
        "## Prevision 30 dernier jour bitcoin"
      ],
      "metadata": {
        "id": "1YTsCRr4qusX"
      }
    },
    {
      "cell_type": "markdown",
      "source": [
        "Get Data BTC"
      ],
      "metadata": {
        "id": "Rzmv2d_gqxRd"
      }
    },
    {
      "cell_type": "code",
      "source": [
        "listeCoin=[\"BTC\"]\n",
        "listeSignal=[0]\n",
        "listeNom=[\"Signal\"+str(i) for i in range(len(listeSignal))]\n",
        "#Ensemble des coin en concat\n",
        "dico={}\n",
        "listeIndi_T=['ATR','volume', 'RSI', 'TRIMA30', 'TRIMA90',\n",
        "       'EMA7', 'EMA20', 'EMA50','EMA100','EMA200', 'ADX', 'SAR', 'Williams', 'SMA100', 'CCI',\n",
        "       'ADL', 'AO', 'UO', 'CHAIKIN', 'WMA15', 'WMA30', 'BearishFractal',\n",
        "       'BullishFractal', 'pivot', 's1', 's2', 's3', 's4', 'r1', 'r2', 'r3',\n",
        "       'r4', 'MACD', 'DI+', 'DI-', 'Bull.', 'Bear.', 'BB_UPPER',\n",
        "       'BB_MIDDLE', 'BB_LOWER', 'TENKAN', 'KIJUN', 'senkou_span_a', 'SENKOU',\n",
        "       'returns','close',\"high\",\"low\"]\n",
        "for j in listeCoin:\n",
        "  df=daily_price_historical(j, 'USD')\n",
        "  df2=df[[\"high\",\"low\",\"open\",\"close\",\"timestamp\",\"volumeto\"]]\n",
        "  df2.rename(columns={'timestamp':'Date','volumeto':'volume'},inplace=True)\n",
        "  df2.set_index(['Date'],inplace=True)\n",
        "  df2=df2[df2['close']!=0]\n",
        "  df2=InitIndiTech(df2)\n",
        "  df2=InitStrat(df2)\n",
        "  df2['returns'] = (np.log(df2.close / df2.close.shift(1)))\n",
        "  df3=df2.drop(df2.head(1).index)\n",
        "  for i in listeIndi_T :\n",
        "    df3[i+\"_T\"]=df2[i].drop(df2.tail(1).index).tolist()\n",
        "\n",
        "  df3=df3[df3.index>=(datetime.today()-timedelta(31)).strftime('%Y-%m-%d')]\n",
        "  #Create variables : ticket, signal, signal10,signal20,signal30,signal40 \n",
        "  df3[\"Ticket\"]=j\n",
        "  l3=[]\n",
        "  for i in range(len(df3)-1):\n",
        "    l2=[]\n",
        "    for k in range(len(listeSignal)) :\n",
        "      if df3['returns'][i+1]>=listeSignal[k]:\n",
        "        l2.append(1)\n",
        "      elif df3['returns'][i+1]<=(-listeSignal[k]):\n",
        "        l2.append(2)\n",
        "      else:\n",
        "        l2.append(3)\n",
        "    l3.append(l2)\n",
        "  \n",
        "  df3.drop(df3.tail(1).index,inplace=True)\n",
        "  df3=df3.merge(pd.DataFrame(l3,columns=listeNom,index=df3.index),how='inner',on=df3.index)"
      ],
      "metadata": {
        "colab": {
          "base_uri": "https://localhost:8080/"
        },
        "id": "LE1a_5T-qqZX",
        "outputId": "bb50da8e-fb18-43d6-ec46-c53c079afdf1"
      },
      "execution_count": null,
      "outputs": [
        {
          "output_type": "stream",
          "name": "stderr",
          "text": [
            "/usr/local/lib/python3.7/dist-packages/pandas/core/frame.py:5047: SettingWithCopyWarning: \n",
            "A value is trying to be set on a copy of a slice from a DataFrame\n",
            "\n",
            "See the caveats in the documentation: https://pandas.pydata.org/pandas-docs/stable/user_guide/indexing.html#returning-a-view-versus-a-copy\n",
            "  errors=errors,\n",
            "/usr/local/lib/python3.7/dist-packages/ipykernel_launcher.py:28: SettingWithCopyWarning: \n",
            "A value is trying to be set on a copy of a slice from a DataFrame.\n",
            "Try using .loc[row_indexer,col_indexer] = value instead\n",
            "\n",
            "See the caveats in the documentation: https://pandas.pydata.org/pandas-docs/stable/user_guide/indexing.html#returning-a-view-versus-a-copy\n",
            "/usr/local/lib/python3.7/dist-packages/pandas/core/frame.py:4913: SettingWithCopyWarning: \n",
            "A value is trying to be set on a copy of a slice from a DataFrame\n",
            "\n",
            "See the caveats in the documentation: https://pandas.pydata.org/pandas-docs/stable/user_guide/indexing.html#returning-a-view-versus-a-copy\n",
            "  errors=errors,\n"
          ]
        }
      ]
    },
    {
      "cell_type": "code",
      "source": [
        "listeSpread=[\"close\",\"EMA7\",\"EMA20\",\"EMA50\",\"EMA100\",\"EMA200\",\"close_T\",\"EMA7_T\",\"EMA20_T\",\n",
        "             \"EMA50_T\",\"EMA100_T\",\"EMA200_T\",'TRIMA30', 'TRIMA90','WMA15',\n",
        "             'WMA30', 'SMA100','TRIMA30_T', 'TRIMA90_T','WMA15_T', 'WMA30_T', 'SMA100_T']\n",
        "for i in range(len(listeSpread)-1):\n",
        "  for j in range(i+1,len(listeSpread)):\n",
        "    c = (df3[listeSpread[j]]-df3[listeSpread[i]])/df3[listeSpread[i]]\n",
        "    df3[\"Spread_\"+listeSpread[i]+\"_\"+listeSpread[j]] = c\n",
        "\n",
        "listeReturns = ['ATR','volume', 'RSI', 'ADX', 'SAR', 'Williams', 'CCI',\n",
        "       'ADL', 'AO', 'UO', 'CHAIKIN', 'BearishFractal',\n",
        "       'BullishFractal', 'pivot', 's1', 's2', 's3', 's4', 'r1', 'r2', 'r3',\n",
        "       'r4', 'MACD', 'DI+', 'DI-', 'Bull.', 'Bear.', \n",
        "        'TENKAN', 'KIJUN', 'senkou_span_a', 'SENKOU',\"close\",\"EMA7\",\"EMA20\",\n",
        "        \"EMA50\",\"EMA100\",\"EMA200\",'TRIMA30', 'TRIMA90','WMA15',\n",
        "             'WMA30', 'SMA100']\n",
        "for i in listeReturns :\n",
        "  df3[\"Returns_\"+i]=(df3[i]-df3[i+\"_T\"])/df3[i+\"_T\"]\n",
        "\n",
        "listePercent=[\"high\",\"low\",\"close\",\"high_T\",\"low_T\",\"close_T\",'BB_UPPER',\n",
        "       'BB_MIDDLE', 'BB_LOWER','BB_UPPER_T',\n",
        "       'BB_MIDDLE_T', 'BB_LOWER_T']\n",
        "for i in range(len(listePercent)-1):\n",
        "  for j in range(i+1,len(listePercent)):\n",
        "     c = (df3[listePercent[j]]-df3[listePercent[i]])/df3[listePercent[i]]\n",
        "     df3[listePercent[i]+\"_vs_\"+listePercent[j]] = c\n",
        "\n",
        "l=[]\n",
        "for i in df3.columns :\n",
        "  if 'BUY' in df3[i].tolist() or 'SELL' in df3[i].tolist() or 'NEUTRAL -' in df3[i].tolist() or 'NEUTRAL +' in df3[i].tolist():\n",
        "    l.append(i)\n",
        "for i in l:\n",
        "  df3[i].replace(['BUY','NEUTRAL +'],1,inplace=True)\n",
        "  df3[i].replace(['SELL','NEUTRAL -'],-1,inplace=True)\n",
        "  df3[i].replace('NEUTRAL',0,inplace=True)\n",
        "\n"
      ],
      "metadata": {
        "id": "GS9ki_GfBdSI"
      },
      "execution_count": null,
      "outputs": []
    },
    {
      "cell_type": "code",
      "source": [
        "dfFinal=df3.reset_index()\n",
        "dfFinal=dfFinal.drop(columns=['Signal0','Returns_Williams','key_0','index','high','low','open','close','volume','volume_T','high_T','low_T','close_T',\"TRIMA30\",\"TRIMA90\",\n",
        "                      \"EMA7\",\"EMA20\",\"EMA50\",\"EMA100\",\"EMA200\",\"SMA100\",\"WMA15\",\"WMA30\",\"BB_UPPER\",\"BB_MIDDLE\",\"BB_LOWER\",\"TRIMA30_T\",\"TRIMA90_T\",\n",
        "                      \"EMA7_T\",\"EMA20_T\",\"EMA50_T\",\"EMA100_T\",\"EMA200_T\",\"SMA100_T\",\"WMA15_T\",\"WMA30_T\",\"BB_UPPER_T\",\"BB_MIDDLE_T\",\"BB_LOWER_T\",\"Ticket\"])\n",
        "dfFinal.replace([np.inf, -np.inf], np.nan, inplace=True)\n",
        "dfFinal.dropna(axis='columns', inplace=True)"
      ],
      "metadata": {
        "id": "tWqlvnMtEAXE"
      },
      "execution_count": null,
      "outputs": []
    },
    {
      "cell_type": "code",
      "source": [
        "for i in dfFinal.columns.tolist():\n",
        "  if i not in df6 :\n",
        "    print(i)"
      ],
      "metadata": {
        "id": "ItHrVYzwE2Io"
      },
      "execution_count": null,
      "outputs": []
    },
    {
      "cell_type": "code",
      "source": [
        "predictionDT = []\n",
        "for i in listeModel :\n",
        "  predictionDT.append(i.predict(dfFinal))\n",
        "\n",
        "predictionRF = []\n",
        "for i in listeModelRF :\n",
        "  predictionRF.append(i.predict(dfFinal))\n",
        "\n",
        "predictionGB = []\n",
        "for i in listeModel :\n",
        "  predictionGB.append(i.predict(dfFinal))"
      ],
      "metadata": {
        "id": "7ozC_QZd_x-x"
      },
      "execution_count": null,
      "outputs": []
    },
    {
      "cell_type": "code",
      "source": [
        "dfPredDT=pd.DataFrame(predictionDT).transpose()\n",
        "dfPredRF=pd.DataFrame(predictionRF).transpose()\n",
        "dfPredGB=pd.DataFrame(predictionGB).transpose()"
      ],
      "metadata": {
        "id": "X7tZ9AgBB9GO"
      },
      "execution_count": null,
      "outputs": []
    },
    {
      "cell_type": "code",
      "source": [
        "listeProba[0][1]"
      ],
      "metadata": {
        "colab": {
          "base_uri": "https://localhost:8080/"
        },
        "id": "UptZ9-m2KYSA",
        "outputId": "8c4b8328-6805-4c5e-e1d1-87e646d60527"
      },
      "execution_count": null,
      "outputs": [
        {
          "output_type": "execute_result",
          "data": {
            "text/plain": [
              "0.6360069747166521"
            ]
          },
          "metadata": {},
          "execution_count": 109
        }
      ]
    },
    {
      "cell_type": "code",
      "source": [
        "score=[]\n",
        "for i in range(len(dfPredDT)):\n",
        "  scoreBuy=0\n",
        "  scoreSell=0\n",
        "  for j in range(len(dfPredDT.columns)):\n",
        "    if dfPredDT.iloc[i,j]==2:\n",
        "      scoreSell+=listeProba[j][1]\n",
        "    elif dfPredDT.iloc[i,j]==1:\n",
        "      scoreBuy+=listeProba[j][0]\n",
        "\n",
        "    if dfPredRF.iloc[i,j]==2:\n",
        "      scoreSell+=listeProbaRF[j][1]\n",
        "    elif dfPredRF.iloc[i,j]==1:\n",
        "      scoreBuy+=listeProbaRF[j][0]\n",
        "\n",
        "    if dfPredGB.iloc[i,j]==2:\n",
        "      scoreSell+=listeProbaGB[j][1]\n",
        "    elif dfPredGB.iloc[i,j]==1:\n",
        "      scoreBuy+=listeProbaGB[j][0]\n",
        "  score.append([scoreBuy,scoreSell])"
      ],
      "metadata": {
        "id": "6n1a9l6fIK3y"
      },
      "execution_count": null,
      "outputs": []
    },
    {
      "cell_type": "code",
      "source": [
        "dfPrevision=df3[['Signal0','returns']]\n",
        "dfPrevision[['ScoreBUY','ScoreSELL']]=score\n",
        "dfPrevision.drop(dfPrevision.tail(1).index,inplace=True)"
      ],
      "metadata": {
        "colab": {
          "base_uri": "https://localhost:8080/"
        },
        "id": "HHhkQJUdFufO",
        "outputId": "5a6f4811-5b98-45f9-911a-9ff08f78db2d"
      },
      "execution_count": null,
      "outputs": [
        {
          "output_type": "stream",
          "name": "stderr",
          "text": [
            "/usr/local/lib/python3.7/dist-packages/pandas/core/frame.py:3678: SettingWithCopyWarning: \n",
            "A value is trying to be set on a copy of a slice from a DataFrame.\n",
            "Try using .loc[row_indexer,col_indexer] = value instead\n",
            "\n",
            "See the caveats in the documentation: https://pandas.pydata.org/pandas-docs/stable/user_guide/indexing.html#returning-a-view-versus-a-copy\n",
            "  self[col] = igetitem(value, i)\n",
            "/usr/local/lib/python3.7/dist-packages/pandas/core/frame.py:4913: SettingWithCopyWarning: \n",
            "A value is trying to be set on a copy of a slice from a DataFrame\n",
            "\n",
            "See the caveats in the documentation: https://pandas.pydata.org/pandas-docs/stable/user_guide/indexing.html#returning-a-view-versus-a-copy\n",
            "  errors=errors,\n"
          ]
        }
      ]
    },
    {
      "cell_type": "code",
      "source": [
        "liste=[]\n",
        "for i in range(len(dfPrevision)):\n",
        "  if dfPrevision['ScoreBUY'][i]>=dfPrevision['ScoreSELL'][i]:\n",
        "    liste.append('BUY')\n",
        "  else:\n",
        "    liste.append('SELL')\n",
        "dfPrevision['Position']=liste"
      ],
      "metadata": {
        "colab": {
          "base_uri": "https://localhost:8080/"
        },
        "id": "kP2-lLb6Lngn",
        "outputId": "43e92c10-a1a5-4b5c-8399-c0fcc81aad42"
      },
      "execution_count": null,
      "outputs": [
        {
          "output_type": "stream",
          "name": "stderr",
          "text": [
            "/usr/local/lib/python3.7/dist-packages/ipykernel_launcher.py:7: SettingWithCopyWarning: \n",
            "A value is trying to be set on a copy of a slice from a DataFrame.\n",
            "Try using .loc[row_indexer,col_indexer] = value instead\n",
            "\n",
            "See the caveats in the documentation: https://pandas.pydata.org/pandas-docs/stable/user_guide/indexing.html#returning-a-view-versus-a-copy\n",
            "  import sys\n"
          ]
        }
      ]
    },
    {
      "cell_type": "code",
      "source": [
        "portefeuille=[100]\n",
        "for i in range(len(dfPrevision)-1):\n",
        "  if dfPrevision['Position'][i]=='BUY':\n",
        "    portefeuille.append(portefeuille[i]*(1+dfPrevision['returns'][i+1]))\n",
        "  else:\n",
        "    portefeuille.append(portefeuille[i]*(1-dfPrevision['returns'][i+1]))"
      ],
      "metadata": {
        "id": "FCtOBugENpqX"
      },
      "execution_count": null,
      "outputs": []
    },
    {
      "cell_type": "code",
      "source": [
        "dfPrevision['Portefeuille']=portefeuille"
      ],
      "metadata": {
        "colab": {
          "base_uri": "https://localhost:8080/"
        },
        "id": "6Hz4_2aGPzPw",
        "outputId": "72c500e6-f508-43f9-9f5e-f0e020c89a62"
      },
      "execution_count": null,
      "outputs": [
        {
          "output_type": "stream",
          "name": "stderr",
          "text": [
            "/usr/local/lib/python3.7/dist-packages/ipykernel_launcher.py:1: SettingWithCopyWarning: \n",
            "A value is trying to be set on a copy of a slice from a DataFrame.\n",
            "Try using .loc[row_indexer,col_indexer] = value instead\n",
            "\n",
            "See the caveats in the documentation: https://pandas.pydata.org/pandas-docs/stable/user_guide/indexing.html#returning-a-view-versus-a-copy\n",
            "  \"\"\"Entry point for launching an IPython kernel.\n"
          ]
        }
      ]
    },
    {
      "cell_type": "code",
      "source": [
        "dfPrevision.to_excel(\"Prev30J.xlsx\")"
      ],
      "metadata": {
        "id": "GhgGUvgdP3Ns"
      },
      "execution_count": null,
      "outputs": []
    },
    {
      "cell_type": "code",
      "source": [
        "pd.DataFrame(listeProbaGB).transpose().to_excel(\"ProbaGB.xlsx\")"
      ],
      "metadata": {
        "id": "4h1zyEuufmXs"
      },
      "execution_count": null,
      "outputs": []
    },
    {
      "cell_type": "code",
      "source": [
        "l=[]\n",
        "for i in dfPredDT.columns :\n",
        "  dfPredDT[i].replace([1],\"Buy\",inplace=True)\n",
        "  dfPredDT[i].replace([2],\"Sell\",inplace=True)\n",
        "  dfPredDT[i].replace(3,'Neutre',inplace=True)\n",
        "dfPredDT.to_excel(\"Prev30JDT.xlsx\")"
      ],
      "metadata": {
        "id": "9yae-2RlmLt2"
      },
      "execution_count": null,
      "outputs": []
    },
    {
      "cell_type": "code",
      "source": [
        "l=[]\n",
        "for i in dfPredGB.columns :\n",
        "  dfPredGB[i].replace([1],\"Buy\",inplace=True)\n",
        "  dfPredGB[i].replace([2],\"Sell\",inplace=True)\n",
        "  dfPredGB[i].replace(3,'Neutre',inplace=True)\n",
        "dfPredGB.to_excel(\"Prev30JGB.xlsx\")"
      ],
      "metadata": {
        "id": "-7n9C2xom6JM"
      },
      "execution_count": null,
      "outputs": []
    },
    {
      "cell_type": "code",
      "source": [
        "l=[]\n",
        "for i in dfPredRF.columns :\n",
        "  dfPredRF[i].replace([1],\"Buy\",inplace=True)\n",
        "  dfPredRF[i].replace([2],\"Sell\",inplace=True)\n",
        "  dfPredRF[i].replace(3,'Neutre',inplace=True)\n",
        "dfPredRF.to_excel(\"Prev30JRF.xlsx\")"
      ],
      "metadata": {
        "id": "4F4QCnDrnU70"
      },
      "execution_count": null,
      "outputs": []
    }
  ],
  "metadata": {
    "colab": {
      "collapsed_sections": [
        "EfDdrOeG2Vvu",
        "pZpnX7sE2bO9",
        "zHj1IqDlD-lH",
        "bDbcphZeEBcj",
        "7Lg5784NEHBo",
        "_ArxwqKAEOv1",
        "iGa9i4FBElc7",
        "hhbHtbt62jIo",
        "RPqxfss_m72m",
        "Fn0-1l_YvEuL"
      ],
      "provenance": [],
      "machine_shape": "hm"
    },
    "kernelspec": {
      "display_name": "Python 3",
      "name": "python3"
    },
    "language_info": {
      "name": "python"
    },
    "accelerator": "GPU",
    "gpuClass": "standard"
  },
  "nbformat": 4,
  "nbformat_minor": 0
}